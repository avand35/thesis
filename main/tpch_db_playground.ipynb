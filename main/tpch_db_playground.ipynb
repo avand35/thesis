{
 "cells": [
  {
   "cell_type": "code",
   "execution_count": 1,
   "id": "66fa9440-eaf6-4c5a-ba1f-cbb323427b9d",
   "metadata": {},
   "outputs": [],
   "source": [
    "#imports\n",
    "import pandas as pd\n",
    "import numpy as np\n",
    "import os\n",
    "import psycopg2\n",
    "from decimal import Decimal\n",
    "from dotenv import load_dotenv\n",
    "from functions import sql_to_dataframe, connect, fetch_column_names\n",
    "load_dotenv()\n",
    "from sqlalchemy import create_engine, inspect\n",
    "import matplotlib.pyplot as plt\n",
    "\n",
    "from importlib import reload\n",
    "\n",
    "from lib import masking_functions, relative_entropy_copy, relative_entropy_estimator\n",
    "reload(masking_functions)\n",
    "reload(relative_entropy_copy)\n",
    "reload(relative_entropy_estimator)\n",
    "\n",
    "from lib.masking_functions import mask, noise_date, generalize_date, generalize_number, suppress, bucketize, inverse_generalize_date_SO, inverse_generalize_date, inverse_bucketize_SO, add_relative_noise, inverse_bucketize, FloatAlphabet, DateAlphabet, inverse_blur_string, inverse_bucketize, inverse_generalize_number, blur_string, inverse_suppress_phone, inverse_blur_phone, inverse_suppress_segment, inverse_generalize_number_SO, inverse_noise_date, inverse_noise_date_SO\n",
    "from lib.relative_entropy_copy import compute_prob_dist, specification_prob, relative_entropy\n",
    "from lib.relative_entropy_estimator import DB_stats, estimate_rel_entropy, convert_to_array, get_stat"
   ]
  },
  {
   "cell_type": "code",
   "execution_count": 2,
   "id": "a80e25e4",
   "metadata": {},
   "outputs": [],
   "source": [
    "from datetime import datetime, timedelta\n",
    "\n",
    "def generate_date_range(start_date_str, end_date_str):\n",
    "    \"\"\"\n",
    "    Generate all dates between two given dates (inclusive).\n",
    "\n",
    "    Args:\n",
    "        start_date_str (str): The start date in \"YYYY-MM-DD\" format.\n",
    "        end_date_str (str): The end date in \"YYYY-MM-DD\" format.\n",
    "\n",
    "    Returns:\n",
    "        list: A list of dates as strings in \"YYYY-MM-DD\" format.\n",
    "    \"\"\"\n",
    "    try:\n",
    "        # Convert string dates to datetime objects\n",
    "        start_date = datetime.strptime(start_date_str, \"%Y-%m-%d\")\n",
    "        end_date = datetime.strptime(end_date_str, \"%Y-%m-%d\")\n",
    "\n",
    "        # Check if the start date is before or the same as the end date\n",
    "        if start_date > end_date:\n",
    "            raise ValueError(\"The start date must be before or the same as the end date.\")\n",
    "\n",
    "        # Generate the list of dates\n",
    "        current_date = start_date\n",
    "        date_list = []\n",
    "        while current_date <= end_date:\n",
    "            date_list.append(current_date.strftime(\"%Y-%m-%d\"))\n",
    "            current_date += timedelta(days=1)  # Move to the next day\n",
    "\n",
    "        return date_list\n",
    "    \n",
    "    except ValueError as e:\n",
    "        raise ValueError(f\"Date error: {e}\")\n",
    "\n",
    "# Example usage\n",
    "start_date = \"1990-01-01\"\n",
    "end_date = \"2000-01-01\"\n",
    "all_dates = generate_date_range(start_date, end_date)"
   ]
  },
  {
   "cell_type": "markdown",
   "id": "ff84b34b",
   "metadata": {},
   "source": [
    "# DB connection"
   ]
  },
  {
   "cell_type": "code",
   "execution_count": 3,
   "id": "a990b4df-a30a-4899-b0f2-bb84d9d08659",
   "metadata": {},
   "outputs": [
    {
     "data": {
      "text/plain": [
       "True"
      ]
     },
     "execution_count": 3,
     "metadata": {},
     "output_type": "execute_result"
    }
   ],
   "source": [
    "# Load environment variables from .env file\n",
    "load_dotenv(dotenv_path='/Users/avanedaei/Desktop/thesis/main/thesis/touch.env')"
   ]
  },
  {
   "cell_type": "markdown",
   "id": "90c87098",
   "metadata": {},
   "source": [
    "## Opening Connection"
   ]
  },
  {
   "cell_type": "code",
   "execution_count": 4,
   "id": "84237d26",
   "metadata": {},
   "outputs": [
    {
     "name": "stdout",
     "output_type": "stream",
     "text": [
      "Connection successful\n"
     ]
    }
   ],
   "source": [
    "# Fetch connection details from environment variables\n",
    "DB_NAME = os.getenv('DB_NAME')\n",
    "DB_USER = os.getenv('DB_USER')\n",
    "DB_PASSWORD = os.getenv('DB_PASSWORD')\n",
    "DB_HOST = os.getenv('DB_HOST')\n",
    "DB_PORT = os.getenv('DB_PORT')\n",
    "\n",
    "db_url = f'postgresql+psycopg2://{DB_USER}:{DB_PASSWORD}@{DB_HOST}:{DB_PORT}/{DB_NAME}'\n",
    "\n",
    "try:\n",
    "    engine = create_engine(db_url)\n",
    "    connection = engine.connect()\n",
    "    print(\"Connection successful\")\n",
    "except Exception as e:\n",
    "    print(f\"Error connecting to the database: {e}\")"
   ]
  },
  {
   "cell_type": "markdown",
   "id": "d45599be",
   "metadata": {},
   "source": [
    "## Customer Dataset"
   ]
  },
  {
   "cell_type": "code",
   "execution_count": 5,
   "id": "46182b70",
   "metadata": {},
   "outputs": [
    {
     "data": {
      "text/html": [
       "<div>\n",
       "<style scoped>\n",
       "    .dataframe tbody tr th:only-of-type {\n",
       "        vertical-align: middle;\n",
       "    }\n",
       "\n",
       "    .dataframe tbody tr th {\n",
       "        vertical-align: top;\n",
       "    }\n",
       "\n",
       "    .dataframe thead th {\n",
       "        text-align: right;\n",
       "    }\n",
       "</style>\n",
       "<table border=\"1\" class=\"dataframe\">\n",
       "  <thead>\n",
       "    <tr style=\"text-align: right;\">\n",
       "      <th></th>\n",
       "      <th>c_custkey</th>\n",
       "      <th>c_name</th>\n",
       "      <th>c_address</th>\n",
       "      <th>c_nationkey</th>\n",
       "      <th>c_phone</th>\n",
       "      <th>c_acctbal</th>\n",
       "      <th>c_mktsegment</th>\n",
       "      <th>c_comment</th>\n",
       "    </tr>\n",
       "  </thead>\n",
       "  <tbody>\n",
       "    <tr>\n",
       "      <th>0</th>\n",
       "      <td>945</td>\n",
       "      <td>Customer#000000945</td>\n",
       "      <td>300zKNJ9lg</td>\n",
       "      <td>15</td>\n",
       "      <td>25-542-662-1673</td>\n",
       "      <td>9615.0</td>\n",
       "      <td>BUILDING</td>\n",
       "      <td>. ironic deposits haggle among the carefully r...</td>\n",
       "    </tr>\n",
       "    <tr>\n",
       "      <th>1</th>\n",
       "      <td>1171</td>\n",
       "      <td>Customer#000001171</td>\n",
       "      <td>GatOC LsLU9MkgyaNMYH</td>\n",
       "      <td>8</td>\n",
       "      <td>18-457-394-2863</td>\n",
       "      <td>7659.0</td>\n",
       "      <td>HOUSEHOLD</td>\n",
       "      <td>c dolphins. accounts are slyl</td>\n",
       "    </tr>\n",
       "    <tr>\n",
       "      <th>2</th>\n",
       "      <td>1356</td>\n",
       "      <td>Customer#000001356</td>\n",
       "      <td>3SLzAiW4PihnFUE243 AHKkwtL1PCj</td>\n",
       "      <td>5</td>\n",
       "      <td>15-656-712-5740</td>\n",
       "      <td>927.0</td>\n",
       "      <td>HOUSEHOLD</td>\n",
       "      <td>fully pending deposits. carefully unusual acco...</td>\n",
       "    </tr>\n",
       "    <tr>\n",
       "      <th>3</th>\n",
       "      <td>1513</td>\n",
       "      <td>Customer#000001513</td>\n",
       "      <td>CkEgq3Yvj9kGkHvVeUELT1UP9HBnHwiEIFzRWNTA</td>\n",
       "      <td>10</td>\n",
       "      <td>20-670-367-4252</td>\n",
       "      <td>8434.0</td>\n",
       "      <td>FURNITURE</td>\n",
       "      <td>y regular accounts cajole blithely</td>\n",
       "    </tr>\n",
       "    <tr>\n",
       "      <th>4</th>\n",
       "      <td>1594</td>\n",
       "      <td>Customer#000001594</td>\n",
       "      <td>8No1IYGij7</td>\n",
       "      <td>13</td>\n",
       "      <td>23-416-484-3099</td>\n",
       "      <td>4797.0</td>\n",
       "      <td>FURNITURE</td>\n",
       "      <td>final packages wake idly. quickly regular pack</td>\n",
       "    </tr>\n",
       "  </tbody>\n",
       "</table>\n",
       "</div>"
      ],
      "text/plain": [
       "   c_custkey              c_name                                 c_address  \\\n",
       "0        945  Customer#000000945                                300zKNJ9lg   \n",
       "1       1171  Customer#000001171                      GatOC LsLU9MkgyaNMYH   \n",
       "2       1356  Customer#000001356            3SLzAiW4PihnFUE243 AHKkwtL1PCj   \n",
       "3       1513  Customer#000001513  CkEgq3Yvj9kGkHvVeUELT1UP9HBnHwiEIFzRWNTA   \n",
       "4       1594  Customer#000001594                                8No1IYGij7   \n",
       "\n",
       "   c_nationkey          c_phone  c_acctbal c_mktsegment  \\\n",
       "0           15  25-542-662-1673     9615.0   BUILDING     \n",
       "1            8  18-457-394-2863     7659.0   HOUSEHOLD    \n",
       "2            5  15-656-712-5740      927.0   HOUSEHOLD    \n",
       "3           10  20-670-367-4252     8434.0   FURNITURE    \n",
       "4           13  23-416-484-3099     4797.0   FURNITURE    \n",
       "\n",
       "                                           c_comment  \n",
       "0  . ironic deposits haggle among the carefully r...  \n",
       "1                      c dolphins. accounts are slyl  \n",
       "2  fully pending deposits. carefully unusual acco...  \n",
       "3                 y regular accounts cajole blithely  \n",
       "4     final packages wake idly. quickly regular pack  "
      ]
     },
     "execution_count": 5,
     "metadata": {},
     "output_type": "execute_result"
    }
   ],
   "source": [
    "#creating a query variable to store our query to pass into the function\n",
    "# Specify the table name from ['customer','lineitem','nation','orders','part','partsupp','region','supplier']\n",
    "table_name = 'c'\n",
    "# Fetch column names dynamically\n",
    "# column_names = fetch_column_names(conn, table_name)\n",
    "# column_names_str = ', '.join(column_names)\n",
    "inspector = inspect(engine)\n",
    "columns = inspector.get_columns(table_name)\n",
    "column_names = [column['name'] for column in columns]\n",
    "column_names_str = ', '.join(column_names)\n",
    "# Construct the SQL query dynamically\n",
    "try:\n",
    "    # query = f\"SELECT {column_names_str} FROM {table_name}\"\n",
    "    query = f\"SELECT * FROM {table_name}\"\n",
    "\n",
    "    customer_original = pd.read_sql(query, connection)\n",
    "    if customer_original.empty:\n",
    "        print(\"Query returned no results.\")\n",
    "    else:\n",
    "        pass\n",
    "except Exception as e:\n",
    "    print(f\"Error executing query: {e}\")\n",
    "#loading our dataframe\n",
    "\n",
    "customer_original.head()"
   ]
  },
  {
   "cell_type": "code",
   "execution_count": 6,
   "id": "5742036f",
   "metadata": {},
   "outputs": [
    {
     "data": {
      "text/html": [
       "<div>\n",
       "<style scoped>\n",
       "    .dataframe tbody tr th:only-of-type {\n",
       "        vertical-align: middle;\n",
       "    }\n",
       "\n",
       "    .dataframe tbody tr th {\n",
       "        vertical-align: top;\n",
       "    }\n",
       "\n",
       "    .dataframe thead th {\n",
       "        text-align: right;\n",
       "    }\n",
       "</style>\n",
       "<table border=\"1\" class=\"dataframe\">\n",
       "  <thead>\n",
       "    <tr style=\"text-align: right;\">\n",
       "      <th></th>\n",
       "      <th>c_custkey</th>\n",
       "      <th>c_name</th>\n",
       "      <th>c_address</th>\n",
       "      <th>c_nationkey</th>\n",
       "      <th>c_phone</th>\n",
       "      <th>c_acctbal</th>\n",
       "      <th>c_mktsegment</th>\n",
       "      <th>c_comment</th>\n",
       "    </tr>\n",
       "  </thead>\n",
       "  <tbody>\n",
       "    <tr>\n",
       "      <th>0</th>\n",
       "      <td>945</td>\n",
       "      <td>Customer#000000945</td>\n",
       "      <td>300zKNJ9lg</td>\n",
       "      <td>15</td>\n",
       "      <td>25-542-662-1673</td>\n",
       "      <td>9600.0</td>\n",
       "      <td>BUILDING</td>\n",
       "      <td>. ironic deposits haggle among the carefully r...</td>\n",
       "    </tr>\n",
       "    <tr>\n",
       "      <th>1</th>\n",
       "      <td>1171</td>\n",
       "      <td>Customer#000001171</td>\n",
       "      <td>GatOC LsLU9MkgyaNMYH</td>\n",
       "      <td>8</td>\n",
       "      <td>18-457-394-2863</td>\n",
       "      <td>7600.0</td>\n",
       "      <td>HOUSEHOLD</td>\n",
       "      <td>c dolphins. accounts are slyl</td>\n",
       "    </tr>\n",
       "    <tr>\n",
       "      <th>2</th>\n",
       "      <td>1356</td>\n",
       "      <td>Customer#000001356</td>\n",
       "      <td>3SLzAiW4PihnFUE243 AHKkwtL1PCj</td>\n",
       "      <td>5</td>\n",
       "      <td>15-656-712-5740</td>\n",
       "      <td>900.0</td>\n",
       "      <td>HOUSEHOLD</td>\n",
       "      <td>fully pending deposits. carefully unusual acco...</td>\n",
       "    </tr>\n",
       "    <tr>\n",
       "      <th>3</th>\n",
       "      <td>1513</td>\n",
       "      <td>Customer#000001513</td>\n",
       "      <td>CkEgq3Yvj9kGkHvVeUELT1UP9HBnHwiEIFzRWNTA</td>\n",
       "      <td>10</td>\n",
       "      <td>20-670-367-4252</td>\n",
       "      <td>8400.0</td>\n",
       "      <td>FURNITURE</td>\n",
       "      <td>y regular accounts cajole blithely</td>\n",
       "    </tr>\n",
       "    <tr>\n",
       "      <th>4</th>\n",
       "      <td>1594</td>\n",
       "      <td>Customer#000001594</td>\n",
       "      <td>8No1IYGij7</td>\n",
       "      <td>13</td>\n",
       "      <td>23-416-484-3099</td>\n",
       "      <td>4700.0</td>\n",
       "      <td>FURNITURE</td>\n",
       "      <td>final packages wake idly. quickly regular pack</td>\n",
       "    </tr>\n",
       "  </tbody>\n",
       "</table>\n",
       "</div>"
      ],
      "text/plain": [
       "   c_custkey              c_name                                 c_address  \\\n",
       "0        945  Customer#000000945                                300zKNJ9lg   \n",
       "1       1171  Customer#000001171                      GatOC LsLU9MkgyaNMYH   \n",
       "2       1356  Customer#000001356            3SLzAiW4PihnFUE243 AHKkwtL1PCj   \n",
       "3       1513  Customer#000001513  CkEgq3Yvj9kGkHvVeUELT1UP9HBnHwiEIFzRWNTA   \n",
       "4       1594  Customer#000001594                                8No1IYGij7   \n",
       "\n",
       "   c_nationkey          c_phone  c_acctbal c_mktsegment  \\\n",
       "0           15  25-542-662-1673     9600.0   BUILDING     \n",
       "1            8  18-457-394-2863     7600.0   HOUSEHOLD    \n",
       "2            5  15-656-712-5740      900.0   HOUSEHOLD    \n",
       "3           10  20-670-367-4252     8400.0   FURNITURE    \n",
       "4           13  23-416-484-3099     4700.0   FURNITURE    \n",
       "\n",
       "                                           c_comment  \n",
       "0  . ironic deposits haggle among the carefully r...  \n",
       "1                      c dolphins. accounts are slyl  \n",
       "2  fully pending deposits. carefully unusual acco...  \n",
       "3                 y regular accounts cajole blithely  \n",
       "4     final packages wake idly. quickly regular pack  "
      ]
     },
     "execution_count": 6,
     "metadata": {},
     "output_type": "execute_result"
    }
   ],
   "source": [
    "#creating a query variable to store our query to pass into the function\n",
    "# Specify the table name from ['customer','lineitem','nation','orders','part','partsupp','region','supplier']\n",
    "table_name = 'c_p3'\n",
    "# Fetch column names dynamically\n",
    "# column_names = fetch_column_names(conn, table_name)\n",
    "# column_names_str = ', '.join(column_names)\n",
    "inspector = inspect(engine)\n",
    "columns = inspector.get_columns(table_name)\n",
    "column_names = [column['name'] for column in columns]\n",
    "column_names_str = ', '.join(column_names)\n",
    "# Construct the SQL query dynamically\n",
    "try:\n",
    "    # query = f\"SELECT {column_names_str} FROM {table_name}\"\n",
    "    query = f\"SELECT * FROM {table_name}\"\n",
    "\n",
    "    customer_p3_masked = pd.read_sql(query, connection)\n",
    "    if customer_p3_masked.empty:\n",
    "        print(\"Query returned no results.\")\n",
    "    else:\n",
    "        pass\n",
    "except Exception as e:\n",
    "    print(f\"Error executing query: {e}\")\n",
    "#loading our dataframe\n",
    "\n",
    "customer_p3_masked.head()"
   ]
  },
  {
   "cell_type": "code",
   "execution_count": 7,
   "id": "c1a8f51b",
   "metadata": {},
   "outputs": [
    {
     "data": {
      "text/html": [
       "<div>\n",
       "<style scoped>\n",
       "    .dataframe tbody tr th:only-of-type {\n",
       "        vertical-align: middle;\n",
       "    }\n",
       "\n",
       "    .dataframe tbody tr th {\n",
       "        vertical-align: top;\n",
       "    }\n",
       "\n",
       "    .dataframe thead th {\n",
       "        text-align: right;\n",
       "    }\n",
       "</style>\n",
       "<table border=\"1\" class=\"dataframe\">\n",
       "  <thead>\n",
       "    <tr style=\"text-align: right;\">\n",
       "      <th></th>\n",
       "      <th>c_custkey</th>\n",
       "      <th>c_name</th>\n",
       "      <th>c_address</th>\n",
       "      <th>c_nationkey</th>\n",
       "      <th>c_phone</th>\n",
       "      <th>c_acctbal</th>\n",
       "      <th>c_mktsegment</th>\n",
       "      <th>c_comment</th>\n",
       "    </tr>\n",
       "  </thead>\n",
       "  <tbody>\n",
       "    <tr>\n",
       "      <th>0</th>\n",
       "      <td>945</td>\n",
       "      <td>Customer#000000945</td>\n",
       "      <td>300zKNJ9lg</td>\n",
       "      <td>15</td>\n",
       "      <td>25-542-662-1673</td>\n",
       "      <td>9615.0</td>\n",
       "      <td>XXXXX</td>\n",
       "      <td>. ironic deposits haggle among the carefully r...</td>\n",
       "    </tr>\n",
       "    <tr>\n",
       "      <th>1</th>\n",
       "      <td>1171</td>\n",
       "      <td>Customer#000001171</td>\n",
       "      <td>GatOC LsLU9MkgyaNMYH</td>\n",
       "      <td>8</td>\n",
       "      <td>18-457-394-2863</td>\n",
       "      <td>7659.0</td>\n",
       "      <td>XXXXX</td>\n",
       "      <td>c dolphins. accounts are slyl</td>\n",
       "    </tr>\n",
       "    <tr>\n",
       "      <th>2</th>\n",
       "      <td>1356</td>\n",
       "      <td>Customer#000001356</td>\n",
       "      <td>3SLzAiW4PihnFUE243 AHKkwtL1PCj</td>\n",
       "      <td>5</td>\n",
       "      <td>15-656-712-5740</td>\n",
       "      <td>927.0</td>\n",
       "      <td>XXXXX</td>\n",
       "      <td>fully pending deposits. carefully unusual acco...</td>\n",
       "    </tr>\n",
       "    <tr>\n",
       "      <th>3</th>\n",
       "      <td>1513</td>\n",
       "      <td>Customer#000001513</td>\n",
       "      <td>CkEgq3Yvj9kGkHvVeUELT1UP9HBnHwiEIFzRWNTA</td>\n",
       "      <td>10</td>\n",
       "      <td>20-670-367-4252</td>\n",
       "      <td>8434.0</td>\n",
       "      <td>XXXXX</td>\n",
       "      <td>y regular accounts cajole blithely</td>\n",
       "    </tr>\n",
       "    <tr>\n",
       "      <th>4</th>\n",
       "      <td>1594</td>\n",
       "      <td>Customer#000001594</td>\n",
       "      <td>8No1IYGij7</td>\n",
       "      <td>13</td>\n",
       "      <td>23-416-484-3099</td>\n",
       "      <td>4797.0</td>\n",
       "      <td>XXXXX</td>\n",
       "      <td>final packages wake idly. quickly regular pack</td>\n",
       "    </tr>\n",
       "  </tbody>\n",
       "</table>\n",
       "</div>"
      ],
      "text/plain": [
       "   c_custkey              c_name                                 c_address  \\\n",
       "0        945  Customer#000000945                                300zKNJ9lg   \n",
       "1       1171  Customer#000001171                      GatOC LsLU9MkgyaNMYH   \n",
       "2       1356  Customer#000001356            3SLzAiW4PihnFUE243 AHKkwtL1PCj   \n",
       "3       1513  Customer#000001513  CkEgq3Yvj9kGkHvVeUELT1UP9HBnHwiEIFzRWNTA   \n",
       "4       1594  Customer#000001594                                8No1IYGij7   \n",
       "\n",
       "   c_nationkey          c_phone  c_acctbal c_mktsegment  \\\n",
       "0           15  25-542-662-1673     9615.0        XXXXX   \n",
       "1            8  18-457-394-2863     7659.0        XXXXX   \n",
       "2            5  15-656-712-5740      927.0        XXXXX   \n",
       "3           10  20-670-367-4252     8434.0        XXXXX   \n",
       "4           13  23-416-484-3099     4797.0        XXXXX   \n",
       "\n",
       "                                           c_comment  \n",
       "0  . ironic deposits haggle among the carefully r...  \n",
       "1                      c dolphins. accounts are slyl  \n",
       "2  fully pending deposits. carefully unusual acco...  \n",
       "3                 y regular accounts cajole blithely  \n",
       "4     final packages wake idly. quickly regular pack  "
      ]
     },
     "execution_count": 7,
     "metadata": {},
     "output_type": "execute_result"
    }
   ],
   "source": [
    "#creating a query variable to store our query to pass into the function\n",
    "# Specify the table name from ['customer','lineitem','nation','orders','part','partsupp','region','supplier']\n",
    "table_name = 'c_p1'\n",
    "# Fetch column names dynamically\n",
    "# column_names = fetch_column_names(conn, table_name)\n",
    "# column_names_str = ', '.join(column_names)\n",
    "inspector = inspect(engine)\n",
    "columns = inspector.get_columns(table_name)\n",
    "column_names = [column['name'] for column in columns]\n",
    "column_names_str = ', '.join(column_names)\n",
    "# Construct the SQL query dynamically\n",
    "try:\n",
    "    # query = f\"SELECT {column_names_str} FROM {table_name}\"\n",
    "    query = f\"SELECT * FROM {table_name}\"\n",
    "\n",
    "    customer_p1_masked = pd.read_sql(query, connection)\n",
    "    if customer_p1_masked.empty:\n",
    "        print(\"Query returned no results.\")\n",
    "    else:\n",
    "        pass\n",
    "except Exception as e:\n",
    "    print(f\"Error executing query: {e}\")\n",
    "#loading our dataframe\n",
    "\n",
    "customer_p1_masked.head()"
   ]
  },
  {
   "cell_type": "code",
   "execution_count": 8,
   "id": "0c8e9296",
   "metadata": {},
   "outputs": [
    {
     "data": {
      "text/html": [
       "<div>\n",
       "<style scoped>\n",
       "    .dataframe tbody tr th:only-of-type {\n",
       "        vertical-align: middle;\n",
       "    }\n",
       "\n",
       "    .dataframe tbody tr th {\n",
       "        vertical-align: top;\n",
       "    }\n",
       "\n",
       "    .dataframe thead th {\n",
       "        text-align: right;\n",
       "    }\n",
       "</style>\n",
       "<table border=\"1\" class=\"dataframe\">\n",
       "  <thead>\n",
       "    <tr style=\"text-align: right;\">\n",
       "      <th></th>\n",
       "      <th>c_custkey</th>\n",
       "      <th>c_name</th>\n",
       "      <th>c_address</th>\n",
       "      <th>c_nationkey</th>\n",
       "      <th>c_phone</th>\n",
       "      <th>c_acctbal</th>\n",
       "      <th>c_mktsegment</th>\n",
       "      <th>c_comment</th>\n",
       "    </tr>\n",
       "  </thead>\n",
       "  <tbody>\n",
       "    <tr>\n",
       "      <th>0</th>\n",
       "      <td>945</td>\n",
       "      <td>Customer#000000945</td>\n",
       "      <td>300zKNJ9lg</td>\n",
       "      <td>15</td>\n",
       "      <td>25-542-662-1673</td>\n",
       "      <td>9500.0</td>\n",
       "      <td>BUILDING</td>\n",
       "      <td>. ironic deposits haggle among the carefully r...</td>\n",
       "    </tr>\n",
       "    <tr>\n",
       "      <th>1</th>\n",
       "      <td>1171</td>\n",
       "      <td>Customer#000001171</td>\n",
       "      <td>GatOC LsLU9MkgyaNMYH</td>\n",
       "      <td>8</td>\n",
       "      <td>18-457-394-2863</td>\n",
       "      <td>7500.0</td>\n",
       "      <td>HOUSEHOLD</td>\n",
       "      <td>c dolphins. accounts are slyl</td>\n",
       "    </tr>\n",
       "    <tr>\n",
       "      <th>2</th>\n",
       "      <td>1356</td>\n",
       "      <td>Customer#000001356</td>\n",
       "      <td>3SLzAiW4PihnFUE243 AHKkwtL1PCj</td>\n",
       "      <td>5</td>\n",
       "      <td>15-656-712-5740</td>\n",
       "      <td>750.0</td>\n",
       "      <td>HOUSEHOLD</td>\n",
       "      <td>fully pending deposits. carefully unusual acco...</td>\n",
       "    </tr>\n",
       "    <tr>\n",
       "      <th>3</th>\n",
       "      <td>1513</td>\n",
       "      <td>Customer#000001513</td>\n",
       "      <td>CkEgq3Yvj9kGkHvVeUELT1UP9HBnHwiEIFzRWNTA</td>\n",
       "      <td>10</td>\n",
       "      <td>20-670-367-4252</td>\n",
       "      <td>8250.0</td>\n",
       "      <td>FURNITURE</td>\n",
       "      <td>y regular accounts cajole blithely</td>\n",
       "    </tr>\n",
       "    <tr>\n",
       "      <th>4</th>\n",
       "      <td>1594</td>\n",
       "      <td>Customer#000001594</td>\n",
       "      <td>8No1IYGij7</td>\n",
       "      <td>13</td>\n",
       "      <td>23-416-484-3099</td>\n",
       "      <td>4750.0</td>\n",
       "      <td>FURNITURE</td>\n",
       "      <td>final packages wake idly. quickly regular pack</td>\n",
       "    </tr>\n",
       "  </tbody>\n",
       "</table>\n",
       "</div>"
      ],
      "text/plain": [
       "   c_custkey              c_name                                 c_address  \\\n",
       "0        945  Customer#000000945                                300zKNJ9lg   \n",
       "1       1171  Customer#000001171                      GatOC LsLU9MkgyaNMYH   \n",
       "2       1356  Customer#000001356            3SLzAiW4PihnFUE243 AHKkwtL1PCj   \n",
       "3       1513  Customer#000001513  CkEgq3Yvj9kGkHvVeUELT1UP9HBnHwiEIFzRWNTA   \n",
       "4       1594  Customer#000001594                                8No1IYGij7   \n",
       "\n",
       "   c_nationkey          c_phone  c_acctbal c_mktsegment  \\\n",
       "0           15  25-542-662-1673     9500.0   BUILDING     \n",
       "1            8  18-457-394-2863     7500.0   HOUSEHOLD    \n",
       "2            5  15-656-712-5740      750.0   HOUSEHOLD    \n",
       "3           10  20-670-367-4252     8250.0   FURNITURE    \n",
       "4           13  23-416-484-3099     4750.0   FURNITURE    \n",
       "\n",
       "                                           c_comment  \n",
       "0  . ironic deposits haggle among the carefully r...  \n",
       "1                      c dolphins. accounts are slyl  \n",
       "2  fully pending deposits. carefully unusual acco...  \n",
       "3                 y regular accounts cajole blithely  \n",
       "4     final packages wake idly. quickly regular pack  "
      ]
     },
     "execution_count": 8,
     "metadata": {},
     "output_type": "execute_result"
    }
   ],
   "source": [
    "#creating a query variable to store our query to pass into the function\n",
    "# Specify the table name from ['customer','lineitem','nation','orders','part','partsupp','region','supplier']\n",
    "table_name = 'c_p2'\n",
    "# Fetch column names dynamically\n",
    "# column_names = fetch_column_names(conn, table_name)\n",
    "# column_names_str = ', '.join(column_names)\n",
    "inspector = inspect(engine)\n",
    "columns = inspector.get_columns(table_name)\n",
    "column_names = [column['name'] for column in columns]\n",
    "column_names_str = ', '.join(column_names)\n",
    "# Construct the SQL query dynamically\n",
    "try:\n",
    "    # query = f\"SELECT {column_names_str} FROM {table_name}\"\n",
    "    query = f\"SELECT * FROM {table_name}\"\n",
    "\n",
    "    customer_p2_masked = pd.read_sql(query, connection)\n",
    "    if customer_p2_masked.empty:\n",
    "        print(\"Query returned no results.\")\n",
    "    else:\n",
    "        pass\n",
    "except Exception as e:\n",
    "    print(f\"Error executing query: {e}\")\n",
    "#loading our dataframe\n",
    "\n",
    "customer_p2_masked.head()"
   ]
  },
  {
   "cell_type": "code",
   "execution_count": 9,
   "id": "ac8ee08c",
   "metadata": {},
   "outputs": [
    {
     "data": {
      "text/html": [
       "<div>\n",
       "<style scoped>\n",
       "    .dataframe tbody tr th:only-of-type {\n",
       "        vertical-align: middle;\n",
       "    }\n",
       "\n",
       "    .dataframe tbody tr th {\n",
       "        vertical-align: top;\n",
       "    }\n",
       "\n",
       "    .dataframe thead th {\n",
       "        text-align: right;\n",
       "    }\n",
       "</style>\n",
       "<table border=\"1\" class=\"dataframe\">\n",
       "  <thead>\n",
       "    <tr style=\"text-align: right;\">\n",
       "      <th></th>\n",
       "      <th>attname</th>\n",
       "      <th>n_distinct</th>\n",
       "      <th>most_common_vals</th>\n",
       "      <th>most_common_freqs</th>\n",
       "      <th>histogram_bounds</th>\n",
       "    </tr>\n",
       "  </thead>\n",
       "  <tbody>\n",
       "    <tr>\n",
       "      <th>0</th>\n",
       "      <td>c_acctbal</td>\n",
       "      <td>10839.0000</td>\n",
       "      <td>[1348, 1512, 7118, 846, 1251, 2493, 2564, 2979...</td>\n",
       "      <td>[0.00033333333, 0.00033333333, 0.00033333333, ...</td>\n",
       "      <td>[-1000, -883, -775, -665, -560, -442, -334, -2...</td>\n",
       "    </tr>\n",
       "    <tr>\n",
       "      <th>1</th>\n",
       "      <td>c_comment</td>\n",
       "      <td>-0.9997</td>\n",
       "      <td>None</td>\n",
       "      <td>None</td>\n",
       "      <td>[ Tiresias affix ideas. carefully special acco...</td>\n",
       "    </tr>\n",
       "    <tr>\n",
       "      <th>2</th>\n",
       "      <td>c_custkey</td>\n",
       "      <td>-1.0000</td>\n",
       "      <td>None</td>\n",
       "      <td>None</td>\n",
       "      <td>[2, 1538, 2979, 4422, 5958, 7557, 9104, 10609,...</td>\n",
       "    </tr>\n",
       "    <tr>\n",
       "      <th>3</th>\n",
       "      <td>c_address</td>\n",
       "      <td>-1.0000</td>\n",
       "      <td>None</td>\n",
       "      <td>None</td>\n",
       "      <td>[  1Ur sAbsaAHmBcIelil9U85KIXmyQkdyT,qop,  dNq...</td>\n",
       "    </tr>\n",
       "    <tr>\n",
       "      <th>4</th>\n",
       "      <td>c_nationkey</td>\n",
       "      <td>25.0000</td>\n",
       "      <td>[6, 19, 17, 12, 13, 23, 18, 9, 16, 1, 20, 15, ...</td>\n",
       "      <td>[0.041366667, 0.0413, 0.0411, 0.040866666, 0.0...</td>\n",
       "      <td>None</td>\n",
       "    </tr>\n",
       "    <tr>\n",
       "      <th>5</th>\n",
       "      <td>c_name</td>\n",
       "      <td>-1.0000</td>\n",
       "      <td>None</td>\n",
       "      <td>None</td>\n",
       "      <td>[Customer#000000002, Customer#000001538, Custo...</td>\n",
       "    </tr>\n",
       "  </tbody>\n",
       "</table>\n",
       "</div>"
      ],
      "text/plain": [
       "       attname  n_distinct                                   most_common_vals  \\\n",
       "0    c_acctbal  10839.0000  [1348, 1512, 7118, 846, 1251, 2493, 2564, 2979...   \n",
       "1    c_comment     -0.9997                                               None   \n",
       "2    c_custkey     -1.0000                                               None   \n",
       "3    c_address     -1.0000                                               None   \n",
       "4  c_nationkey     25.0000  [6, 19, 17, 12, 13, 23, 18, 9, 16, 1, 20, 15, ...   \n",
       "5       c_name     -1.0000                                               None   \n",
       "\n",
       "                                   most_common_freqs  \\\n",
       "0  [0.00033333333, 0.00033333333, 0.00033333333, ...   \n",
       "1                                               None   \n",
       "2                                               None   \n",
       "3                                               None   \n",
       "4  [0.041366667, 0.0413, 0.0411, 0.040866666, 0.0...   \n",
       "5                                               None   \n",
       "\n",
       "                                    histogram_bounds  \n",
       "0  [-1000, -883, -775, -665, -560, -442, -334, -2...  \n",
       "1  [ Tiresias affix ideas. carefully special acco...  \n",
       "2  [2, 1538, 2979, 4422, 5958, 7557, 9104, 10609,...  \n",
       "3  [  1Ur sAbsaAHmBcIelil9U85KIXmyQkdyT,qop,  dNq...  \n",
       "4                                               None  \n",
       "5  [Customer#000000002, Customer#000001538, Custo...  "
      ]
     },
     "execution_count": 9,
     "metadata": {},
     "output_type": "execute_result"
    }
   ],
   "source": [
    "#creating a query variable to store our query to pass into the function\n",
    "# Specify the table name from ['customer','lineitem','nation','orders','part','partsupp','region','supplier']\n",
    "table_name = 'c_stat'\n",
    "# Fetch column names dynamically\n",
    "# column_names = fetch_column_names(conn, table_name)\n",
    "# column_names_str = ', '.join(column_names)\n",
    "inspector = inspect(engine)\n",
    "columns = inspector.get_columns(table_name)\n",
    "column_names = [column['name'] for column in columns]\n",
    "column_names_str = ', '.join(column_names)\n",
    "# Construct the SQL query dynamically\n",
    "try:\n",
    "    # query = f\"SELECT {column_names_str} FROM {table_name}\"\n",
    "    query = f\"SELECT * FROM {table_name}\"\n",
    "\n",
    "    customer_stats_original = pd.read_sql(query, connection)\n",
    "    if customer_stats_original.empty:\n",
    "        print(\"Query returned no results.\")\n",
    "    else:\n",
    "        pass\n",
    "except Exception as e:\n",
    "    print(f\"Error executing query: {e}\")\n",
    "#loading our dataframe\n",
    "\n",
    "customer_stats_original.head(6)"
   ]
  },
  {
   "cell_type": "code",
   "execution_count": 10,
   "id": "06edc330",
   "metadata": {},
   "outputs": [
    {
     "data": {
      "text/html": [
       "<div>\n",
       "<style scoped>\n",
       "    .dataframe tbody tr th:only-of-type {\n",
       "        vertical-align: middle;\n",
       "    }\n",
       "\n",
       "    .dataframe tbody tr th {\n",
       "        vertical-align: top;\n",
       "    }\n",
       "\n",
       "    .dataframe thead th {\n",
       "        text-align: right;\n",
       "    }\n",
       "</style>\n",
       "<table border=\"1\" class=\"dataframe\">\n",
       "  <thead>\n",
       "    <tr style=\"text-align: right;\">\n",
       "      <th></th>\n",
       "      <th>attname</th>\n",
       "      <th>n_distinct</th>\n",
       "      <th>most_common_vals</th>\n",
       "      <th>most_common_freqs</th>\n",
       "      <th>histogram_bounds</th>\n",
       "    </tr>\n",
       "  </thead>\n",
       "  <tbody>\n",
       "    <tr>\n",
       "      <th>0</th>\n",
       "      <td>c_custkey</td>\n",
       "      <td>-1.0000</td>\n",
       "      <td>None</td>\n",
       "      <td>None</td>\n",
       "      <td>[4, 1505, 3048, 4605, 6245, 7625, 9118, 10572,...</td>\n",
       "    </tr>\n",
       "    <tr>\n",
       "      <th>1</th>\n",
       "      <td>c_address</td>\n",
       "      <td>-1.0000</td>\n",
       "      <td>None</td>\n",
       "      <td>None</td>\n",
       "      <td>[  5Ftcw1tnQoDQ62he1J2Xn93oPjIi,  cCO9MiiVgYtV...</td>\n",
       "    </tr>\n",
       "    <tr>\n",
       "      <th>2</th>\n",
       "      <td>c_nationkey</td>\n",
       "      <td>25.0000</td>\n",
       "      <td>[10, 9, 8, 6, 19, 3, 2, 13, 17, 15, 7, 4, 14, ...</td>\n",
       "      <td>[0.041966666, 0.041833334, 0.0417, 0.0414, 0.0...</td>\n",
       "      <td>None</td>\n",
       "    </tr>\n",
       "    <tr>\n",
       "      <th>3</th>\n",
       "      <td>c_mktsegment</td>\n",
       "      <td>5.0000</td>\n",
       "      <td>[BUILDING  , MACHINERY , HOUSEHOLD , AUTOMOBIL...</td>\n",
       "      <td>[0.20333333, 0.1996, 0.19936667, 0.1993, 0.1984]</td>\n",
       "      <td>None</td>\n",
       "    </tr>\n",
       "    <tr>\n",
       "      <th>4</th>\n",
       "      <td>c_comment</td>\n",
       "      <td>-0.9994</td>\n",
       "      <td>None</td>\n",
       "      <td>None</td>\n",
       "      <td>[ Tiresias affix ideas. carefully special acco...</td>\n",
       "    </tr>\n",
       "    <tr>\n",
       "      <th>5</th>\n",
       "      <td>c_name</td>\n",
       "      <td>-1.0000</td>\n",
       "      <td>None</td>\n",
       "      <td>None</td>\n",
       "      <td>[Customer#000000004, Customer#000001505, Custo...</td>\n",
       "    </tr>\n",
       "    <tr>\n",
       "      <th>6</th>\n",
       "      <td>c_phone</td>\n",
       "      <td>-1.0000</td>\n",
       "      <td>None</td>\n",
       "      <td>None</td>\n",
       "      <td>[10-100-106-1617, 10-321-134-7311, 10-570-750-...</td>\n",
       "    </tr>\n",
       "    <tr>\n",
       "      <th>7</th>\n",
       "      <td>c_acctbal</td>\n",
       "      <td>111.0000</td>\n",
       "      <td>[6600, 2500, -400]</td>\n",
       "      <td>[0.010333333, 0.010266666, 0.0101666665]</td>\n",
       "      <td>[-1000, -900, -800, -700, -600, -500, -300, -2...</td>\n",
       "    </tr>\n",
       "  </tbody>\n",
       "</table>\n",
       "</div>"
      ],
      "text/plain": [
       "        attname  n_distinct  \\\n",
       "0     c_custkey     -1.0000   \n",
       "1     c_address     -1.0000   \n",
       "2   c_nationkey     25.0000   \n",
       "3  c_mktsegment      5.0000   \n",
       "4     c_comment     -0.9994   \n",
       "5        c_name     -1.0000   \n",
       "6       c_phone     -1.0000   \n",
       "7     c_acctbal    111.0000   \n",
       "\n",
       "                                    most_common_vals  \\\n",
       "0                                               None   \n",
       "1                                               None   \n",
       "2  [10, 9, 8, 6, 19, 3, 2, 13, 17, 15, 7, 4, 14, ...   \n",
       "3  [BUILDING  , MACHINERY , HOUSEHOLD , AUTOMOBIL...   \n",
       "4                                               None   \n",
       "5                                               None   \n",
       "6                                               None   \n",
       "7                                 [6600, 2500, -400]   \n",
       "\n",
       "                                   most_common_freqs  \\\n",
       "0                                               None   \n",
       "1                                               None   \n",
       "2  [0.041966666, 0.041833334, 0.0417, 0.0414, 0.0...   \n",
       "3   [0.20333333, 0.1996, 0.19936667, 0.1993, 0.1984]   \n",
       "4                                               None   \n",
       "5                                               None   \n",
       "6                                               None   \n",
       "7           [0.010333333, 0.010266666, 0.0101666665]   \n",
       "\n",
       "                                    histogram_bounds  \n",
       "0  [4, 1505, 3048, 4605, 6245, 7625, 9118, 10572,...  \n",
       "1  [  5Ftcw1tnQoDQ62he1J2Xn93oPjIi,  cCO9MiiVgYtV...  \n",
       "2                                               None  \n",
       "3                                               None  \n",
       "4  [ Tiresias affix ideas. carefully special acco...  \n",
       "5  [Customer#000000004, Customer#000001505, Custo...  \n",
       "6  [10-100-106-1617, 10-321-134-7311, 10-570-750-...  \n",
       "7  [-1000, -900, -800, -700, -600, -500, -300, -2...  "
      ]
     },
     "execution_count": 10,
     "metadata": {},
     "output_type": "execute_result"
    }
   ],
   "source": [
    "#creating a query variable to store our query to pass into the function\n",
    "# Specify the table name from ['customer','lineitem','nation','orders','part','partsupp','region','supplier']\n",
    "table_name = 'c_p3_stat'\n",
    "# Fetch column names dynamically\n",
    "# column_names = fetch_column_names(conn, table_name)\n",
    "# column_names_str = ', '.join(column_names)\n",
    "inspector = inspect(engine)\n",
    "columns = inspector.get_columns(table_name)\n",
    "column_names = [column['name'] for column in columns]\n",
    "column_names_str = ', '.join(column_names)\n",
    "# Construct the SQL query dynamically\n",
    "try:\n",
    "    # query = f\"SELECT {column_names_str} FROM {table_name}\"\n",
    "    query = f\"SELECT * FROM {table_name}\"\n",
    "\n",
    "    customer_p3_stats_masked = pd.read_sql(query, connection)\n",
    "    if customer_p3_stats_masked.empty:\n",
    "        print(\"Query returned no results.\")\n",
    "    else:\n",
    "        pass\n",
    "except Exception as e:\n",
    "    print(f\"Error executing query: {e}\")\n",
    "#loading our dataframe\n",
    "\n",
    "customer_p3_stats_masked.head(9)"
   ]
  },
  {
   "cell_type": "code",
   "execution_count": 11,
   "id": "522cafbe",
   "metadata": {},
   "outputs": [
    {
     "data": {
      "text/html": [
       "<div>\n",
       "<style scoped>\n",
       "    .dataframe tbody tr th:only-of-type {\n",
       "        vertical-align: middle;\n",
       "    }\n",
       "\n",
       "    .dataframe tbody tr th {\n",
       "        vertical-align: top;\n",
       "    }\n",
       "\n",
       "    .dataframe thead th {\n",
       "        text-align: right;\n",
       "    }\n",
       "</style>\n",
       "<table border=\"1\" class=\"dataframe\">\n",
       "  <thead>\n",
       "    <tr style=\"text-align: right;\">\n",
       "      <th></th>\n",
       "      <th>attname</th>\n",
       "      <th>n_distinct</th>\n",
       "      <th>most_common_vals</th>\n",
       "      <th>most_common_freqs</th>\n",
       "      <th>histogram_bounds</th>\n",
       "    </tr>\n",
       "  </thead>\n",
       "  <tbody>\n",
       "    <tr>\n",
       "      <th>0</th>\n",
       "      <td>c_custkey</td>\n",
       "      <td>-1.0</td>\n",
       "      <td>None</td>\n",
       "      <td>None</td>\n",
       "      <td>[2, 1491, 2971, 4453, 5967, 7371, 8834, 10365,...</td>\n",
       "    </tr>\n",
       "    <tr>\n",
       "      <th>1</th>\n",
       "      <td>c_name</td>\n",
       "      <td>-1.0</td>\n",
       "      <td>None</td>\n",
       "      <td>None</td>\n",
       "      <td>[Customer#000000002, Customer#000001491, Custo...</td>\n",
       "    </tr>\n",
       "    <tr>\n",
       "      <th>2</th>\n",
       "      <td>c_address</td>\n",
       "      <td>-1.0</td>\n",
       "      <td>None</td>\n",
       "      <td>None</td>\n",
       "      <td>[   2uZwVhQvwA,  ZslQM6KHkJhm6LrB64jZsgxqBd Cj...</td>\n",
       "    </tr>\n",
       "    <tr>\n",
       "      <th>3</th>\n",
       "      <td>c_phone</td>\n",
       "      <td>-1.0</td>\n",
       "      <td>None</td>\n",
       "      <td>None</td>\n",
       "      <td>[10-100-220-4520, 10-309-224-6978, 10-538-988-...</td>\n",
       "    </tr>\n",
       "    <tr>\n",
       "      <th>4</th>\n",
       "      <td>c_acctbal</td>\n",
       "      <td>10873.0</td>\n",
       "      <td>[4300, 5633, -971, 2621, 5274, 6387, 9853, -18...</td>\n",
       "      <td>[0.00046666668, 0.00036666667, 0.00033333333, ...</td>\n",
       "      <td>[-1000, -888, -785, -674, -559, -452, -353, -2...</td>\n",
       "    </tr>\n",
       "    <tr>\n",
       "      <th>5</th>\n",
       "      <td>c_nationkey</td>\n",
       "      <td>25.0</td>\n",
       "      <td>[6, 21, 7, 13, 14, 19, 10, 15, 20, 22, 9, 8, 1...</td>\n",
       "      <td>[0.0413, 0.041033335, 0.04083333, 0.0408, 0.04...</td>\n",
       "      <td>None</td>\n",
       "    </tr>\n",
       "  </tbody>\n",
       "</table>\n",
       "</div>"
      ],
      "text/plain": [
       "       attname  n_distinct                                   most_common_vals  \\\n",
       "0    c_custkey        -1.0                                               None   \n",
       "1       c_name        -1.0                                               None   \n",
       "2    c_address        -1.0                                               None   \n",
       "3      c_phone        -1.0                                               None   \n",
       "4    c_acctbal     10873.0  [4300, 5633, -971, 2621, 5274, 6387, 9853, -18...   \n",
       "5  c_nationkey        25.0  [6, 21, 7, 13, 14, 19, 10, 15, 20, 22, 9, 8, 1...   \n",
       "\n",
       "                                   most_common_freqs  \\\n",
       "0                                               None   \n",
       "1                                               None   \n",
       "2                                               None   \n",
       "3                                               None   \n",
       "4  [0.00046666668, 0.00036666667, 0.00033333333, ...   \n",
       "5  [0.0413, 0.041033335, 0.04083333, 0.0408, 0.04...   \n",
       "\n",
       "                                    histogram_bounds  \n",
       "0  [2, 1491, 2971, 4453, 5967, 7371, 8834, 10365,...  \n",
       "1  [Customer#000000002, Customer#000001491, Custo...  \n",
       "2  [   2uZwVhQvwA,  ZslQM6KHkJhm6LrB64jZsgxqBd Cj...  \n",
       "3  [10-100-220-4520, 10-309-224-6978, 10-538-988-...  \n",
       "4  [-1000, -888, -785, -674, -559, -452, -353, -2...  \n",
       "5                                               None  "
      ]
     },
     "execution_count": 11,
     "metadata": {},
     "output_type": "execute_result"
    }
   ],
   "source": [
    "#creating a query variable to store our query to pass into the function\n",
    "# Specify the table name from ['customer','lineitem','nation','orders','part','partsupp','region','supplier']\n",
    "table_name = 'c_p1_stat'\n",
    "# Fetch column names dynamically\n",
    "# column_names = fetch_column_names(conn, table_name)\n",
    "# column_names_str = ', '.join(column_names)\n",
    "inspector = inspect(engine)\n",
    "columns = inspector.get_columns(table_name)\n",
    "column_names = [column['name'] for column in columns]\n",
    "column_names_str = ', '.join(column_names)\n",
    "# Construct the SQL query dynamically\n",
    "try:\n",
    "    # query = f\"SELECT {column_names_str} FROM {table_name}\"\n",
    "    query = f\"SELECT * FROM {table_name}\"\n",
    "\n",
    "    customer_p1_stats_masked = pd.read_sql(query, connection)\n",
    "    if customer_p1_stats_masked.empty:\n",
    "        print(\"Query returned no results.\")\n",
    "    else:\n",
    "        pass\n",
    "except Exception as e:\n",
    "    print(f\"Error executing query: {e}\")\n",
    "#loading our dataframe\n",
    "\n",
    "customer_p1_stats_masked.head(6)"
   ]
  },
  {
   "cell_type": "code",
   "execution_count": 12,
   "id": "8a22d5d2",
   "metadata": {},
   "outputs": [
    {
     "data": {
      "text/html": [
       "<div>\n",
       "<style scoped>\n",
       "    .dataframe tbody tr th:only-of-type {\n",
       "        vertical-align: middle;\n",
       "    }\n",
       "\n",
       "    .dataframe tbody tr th {\n",
       "        vertical-align: top;\n",
       "    }\n",
       "\n",
       "    .dataframe thead th {\n",
       "        text-align: right;\n",
       "    }\n",
       "</style>\n",
       "<table border=\"1\" class=\"dataframe\">\n",
       "  <thead>\n",
       "    <tr style=\"text-align: right;\">\n",
       "      <th></th>\n",
       "      <th>attname</th>\n",
       "      <th>n_distinct</th>\n",
       "      <th>most_common_vals</th>\n",
       "      <th>most_common_freqs</th>\n",
       "      <th>histogram_bounds</th>\n",
       "    </tr>\n",
       "  </thead>\n",
       "  <tbody>\n",
       "    <tr>\n",
       "      <th>0</th>\n",
       "      <td>c_custkey</td>\n",
       "      <td>-1.0</td>\n",
       "      <td>None</td>\n",
       "      <td>None</td>\n",
       "      <td>[4, 1572, 3151, 4717, 6333, 7709, 9406, 11005,...</td>\n",
       "    </tr>\n",
       "    <tr>\n",
       "      <th>1</th>\n",
       "      <td>c_name</td>\n",
       "      <td>-1.0</td>\n",
       "      <td>None</td>\n",
       "      <td>None</td>\n",
       "      <td>[Customer#000000004, Customer#000001572, Custo...</td>\n",
       "    </tr>\n",
       "    <tr>\n",
       "      <th>2</th>\n",
       "      <td>c_address</td>\n",
       "      <td>-1.0</td>\n",
       "      <td>None</td>\n",
       "      <td>None</td>\n",
       "      <td>[  4WsGuqIsPAG4qAEjj32S9d,  bLU,snFrnRBKixCHZj...</td>\n",
       "    </tr>\n",
       "    <tr>\n",
       "      <th>3</th>\n",
       "      <td>c_nationkey</td>\n",
       "      <td>25.0</td>\n",
       "      <td>[8, 14, 0, 20, 19, 13, 16, 9, 1, 2, 3, 11, 15,...</td>\n",
       "      <td>[0.042433333, 0.041433334, 0.0409, 0.0409, 0.0...</td>\n",
       "      <td>None</td>\n",
       "    </tr>\n",
       "    <tr>\n",
       "      <th>4</th>\n",
       "      <td>c_phone</td>\n",
       "      <td>-1.0</td>\n",
       "      <td>None</td>\n",
       "      <td>None</td>\n",
       "      <td>[10-100-864-5796, 10-326-985-6158, 10-544-687-...</td>\n",
       "    </tr>\n",
       "    <tr>\n",
       "      <th>5</th>\n",
       "      <td>c_acctbal</td>\n",
       "      <td>45.0</td>\n",
       "      <td>[9750, 2750, 5500, 1750, 2000, 3250, 6500, 400...</td>\n",
       "      <td>[0.024533333, 0.024166666, 0.0239, 0.023866666...</td>\n",
       "      <td>None</td>\n",
       "    </tr>\n",
       "  </tbody>\n",
       "</table>\n",
       "</div>"
      ],
      "text/plain": [
       "       attname  n_distinct                                   most_common_vals  \\\n",
       "0    c_custkey        -1.0                                               None   \n",
       "1       c_name        -1.0                                               None   \n",
       "2    c_address        -1.0                                               None   \n",
       "3  c_nationkey        25.0  [8, 14, 0, 20, 19, 13, 16, 9, 1, 2, 3, 11, 15,...   \n",
       "4      c_phone        -1.0                                               None   \n",
       "5    c_acctbal        45.0  [9750, 2750, 5500, 1750, 2000, 3250, 6500, 400...   \n",
       "\n",
       "                                   most_common_freqs  \\\n",
       "0                                               None   \n",
       "1                                               None   \n",
       "2                                               None   \n",
       "3  [0.042433333, 0.041433334, 0.0409, 0.0409, 0.0...   \n",
       "4                                               None   \n",
       "5  [0.024533333, 0.024166666, 0.0239, 0.023866666...   \n",
       "\n",
       "                                    histogram_bounds  \n",
       "0  [4, 1572, 3151, 4717, 6333, 7709, 9406, 11005,...  \n",
       "1  [Customer#000000004, Customer#000001572, Custo...  \n",
       "2  [  4WsGuqIsPAG4qAEjj32S9d,  bLU,snFrnRBKixCHZj...  \n",
       "3                                               None  \n",
       "4  [10-100-864-5796, 10-326-985-6158, 10-544-687-...  \n",
       "5                                               None  "
      ]
     },
     "execution_count": 12,
     "metadata": {},
     "output_type": "execute_result"
    }
   ],
   "source": [
    "#creating a query variable to store our query to pass into the function\n",
    "# Specify the table name from ['customer','lineitem','nation','orders','part','partsupp','region','supplier']\n",
    "table_name = 'c_p2_stat'\n",
    "# Fetch column names dynamically\n",
    "# column_names = fetch_column_names(conn, table_name)\n",
    "# column_names_str = ', '.join(column_names)\n",
    "inspector = inspect(engine)\n",
    "columns = inspector.get_columns(table_name)\n",
    "column_names = [column['name'] for column in columns]\n",
    "column_names_str = ', '.join(column_names)\n",
    "# Construct the SQL query dynamically\n",
    "try:\n",
    "    # query = f\"SELECT {column_names_str} FROM {table_name}\"\n",
    "    query = f\"SELECT * FROM {table_name}\"\n",
    "\n",
    "    customer_p2_stats_masked = pd.read_sql(query, connection)\n",
    "    if customer_p2_stats_masked.empty:\n",
    "        print(\"Query returned no results.\")\n",
    "    else:\n",
    "        pass\n",
    "except Exception as e:\n",
    "    print(f\"Error executing query: {e}\")\n",
    "#loading our dataframe\n",
    "\n",
    "customer_p2_stats_masked.head(6)"
   ]
  },
  {
   "cell_type": "code",
   "execution_count": 13,
   "id": "1937d122",
   "metadata": {},
   "outputs": [
    {
     "data": {
      "text/html": [
       "<div>\n",
       "<style scoped>\n",
       "    .dataframe tbody tr th:only-of-type {\n",
       "        vertical-align: middle;\n",
       "    }\n",
       "\n",
       "    .dataframe tbody tr th {\n",
       "        vertical-align: top;\n",
       "    }\n",
       "\n",
       "    .dataframe thead th {\n",
       "        text-align: right;\n",
       "    }\n",
       "</style>\n",
       "<table border=\"1\" class=\"dataframe\">\n",
       "  <thead>\n",
       "    <tr style=\"text-align: right;\">\n",
       "      <th></th>\n",
       "      <th>c_custkey</th>\n",
       "      <th>c_name</th>\n",
       "      <th>c_address</th>\n",
       "      <th>c_nationkey</th>\n",
       "      <th>c_phone</th>\n",
       "      <th>c_acctbal</th>\n",
       "      <th>c_mktsegment</th>\n",
       "      <th>c_comment</th>\n",
       "    </tr>\n",
       "  </thead>\n",
       "  <tbody>\n",
       "    <tr>\n",
       "      <th>0</th>\n",
       "      <td>945</td>\n",
       "      <td>Customer#000000945</td>\n",
       "      <td>300zKNJ9lg</td>\n",
       "      <td>15</td>\n",
       "      <td>25-542-662-1XXX</td>\n",
       "      <td>9615.0</td>\n",
       "      <td>BUILDING</td>\n",
       "      <td>. ironic deposits haggle among the carefully r...</td>\n",
       "    </tr>\n",
       "    <tr>\n",
       "      <th>1</th>\n",
       "      <td>1171</td>\n",
       "      <td>Customer#000001171</td>\n",
       "      <td>GatOC LsLU9MkgyaNMYH</td>\n",
       "      <td>8</td>\n",
       "      <td>18-457-394-2XXX</td>\n",
       "      <td>7659.0</td>\n",
       "      <td>HOUSEHOLD</td>\n",
       "      <td>c dolphins. accounts are slyl</td>\n",
       "    </tr>\n",
       "    <tr>\n",
       "      <th>2</th>\n",
       "      <td>1356</td>\n",
       "      <td>Customer#000001356</td>\n",
       "      <td>3SLzAiW4PihnFUE243 AHKkwtL1PCj</td>\n",
       "      <td>5</td>\n",
       "      <td>15-656-712-5XXX</td>\n",
       "      <td>927.0</td>\n",
       "      <td>HOUSEHOLD</td>\n",
       "      <td>fully pending deposits. carefully unusual acco...</td>\n",
       "    </tr>\n",
       "    <tr>\n",
       "      <th>3</th>\n",
       "      <td>1513</td>\n",
       "      <td>Customer#000001513</td>\n",
       "      <td>CkEgq3Yvj9kGkHvVeUELT1UP9HBnHwiEIFzRWNTA</td>\n",
       "      <td>10</td>\n",
       "      <td>20-670-367-4XXX</td>\n",
       "      <td>8434.0</td>\n",
       "      <td>FURNITURE</td>\n",
       "      <td>y regular accounts cajole blithely</td>\n",
       "    </tr>\n",
       "    <tr>\n",
       "      <th>4</th>\n",
       "      <td>1594</td>\n",
       "      <td>Customer#000001594</td>\n",
       "      <td>8No1IYGij7</td>\n",
       "      <td>13</td>\n",
       "      <td>23-416-484-3XXX</td>\n",
       "      <td>4797.0</td>\n",
       "      <td>FURNITURE</td>\n",
       "      <td>final packages wake idly. quickly regular pack</td>\n",
       "    </tr>\n",
       "    <tr>\n",
       "      <th>5</th>\n",
       "      <td>1634</td>\n",
       "      <td>Customer#000001634</td>\n",
       "      <td>mTRMQ9143TTe5kHsD2FdNE7proZ</td>\n",
       "      <td>24</td>\n",
       "      <td>34-186-980-9XXX</td>\n",
       "      <td>4030.0</td>\n",
       "      <td>FURNITURE</td>\n",
       "      <td>s are thinly fluffily ironic requests. pinto b...</td>\n",
       "    </tr>\n",
       "  </tbody>\n",
       "</table>\n",
       "</div>"
      ],
      "text/plain": [
       "   c_custkey              c_name                                 c_address  \\\n",
       "0        945  Customer#000000945                                300zKNJ9lg   \n",
       "1       1171  Customer#000001171                      GatOC LsLU9MkgyaNMYH   \n",
       "2       1356  Customer#000001356            3SLzAiW4PihnFUE243 AHKkwtL1PCj   \n",
       "3       1513  Customer#000001513  CkEgq3Yvj9kGkHvVeUELT1UP9HBnHwiEIFzRWNTA   \n",
       "4       1594  Customer#000001594                                8No1IYGij7   \n",
       "5       1634  Customer#000001634               mTRMQ9143TTe5kHsD2FdNE7proZ   \n",
       "\n",
       "   c_nationkey          c_phone  c_acctbal c_mktsegment  \\\n",
       "0           15  25-542-662-1XXX     9615.0   BUILDING     \n",
       "1            8  18-457-394-2XXX     7659.0   HOUSEHOLD    \n",
       "2            5  15-656-712-5XXX      927.0   HOUSEHOLD    \n",
       "3           10  20-670-367-4XXX     8434.0   FURNITURE    \n",
       "4           13  23-416-484-3XXX     4797.0   FURNITURE    \n",
       "5           24  34-186-980-9XXX     4030.0   FURNITURE    \n",
       "\n",
       "                                           c_comment  \n",
       "0  . ironic deposits haggle among the carefully r...  \n",
       "1                      c dolphins. accounts are slyl  \n",
       "2  fully pending deposits. carefully unusual acco...  \n",
       "3                 y regular accounts cajole blithely  \n",
       "4     final packages wake idly. quickly regular pack  \n",
       "5  s are thinly fluffily ironic requests. pinto b...  "
      ]
     },
     "execution_count": 13,
     "metadata": {},
     "output_type": "execute_result"
    }
   ],
   "source": [
    "#creating a query variable to store our query to pass into the function\n",
    "# Specify the table name from ['customer','lineitem','nation','orders','part','partsupp','region','supplier']\n",
    "table_name = 'c_p4'\n",
    "# Fetch column names dynamically\n",
    "# column_names = fetch_column_names(conn, table_name)\n",
    "# column_names_str = ', '.join(column_names)\n",
    "inspector = inspect(engine)\n",
    "columns = inspector.get_columns(table_name)\n",
    "column_names = [column['name'] for column in columns]\n",
    "column_names_str = ', '.join(column_names)\n",
    "# Construct the SQL query dynamically\n",
    "try:\n",
    "    # query = f\"SELECT {column_names_str} FROM {table_name}\"\n",
    "    query = f\"SELECT * FROM {table_name}\"\n",
    "\n",
    "    customer_p4_masked = pd.read_sql(query, connection)\n",
    "    if customer_p4_masked.empty:\n",
    "        print(\"Query returned no results.\")\n",
    "    else:\n",
    "        pass\n",
    "except Exception as e:\n",
    "    print(f\"Error executing query: {e}\")\n",
    "#loading our dataframe\n",
    "\n",
    "customer_p4_masked.head(6)"
   ]
  },
  {
   "cell_type": "code",
   "execution_count": 14,
   "id": "b2c5f14f",
   "metadata": {},
   "outputs": [
    {
     "data": {
      "text/html": [
       "<div>\n",
       "<style scoped>\n",
       "    .dataframe tbody tr th:only-of-type {\n",
       "        vertical-align: middle;\n",
       "    }\n",
       "\n",
       "    .dataframe tbody tr th {\n",
       "        vertical-align: top;\n",
       "    }\n",
       "\n",
       "    .dataframe thead th {\n",
       "        text-align: right;\n",
       "    }\n",
       "</style>\n",
       "<table border=\"1\" class=\"dataframe\">\n",
       "  <thead>\n",
       "    <tr style=\"text-align: right;\">\n",
       "      <th></th>\n",
       "      <th>attname</th>\n",
       "      <th>n_distinct</th>\n",
       "      <th>most_common_vals</th>\n",
       "      <th>most_common_freqs</th>\n",
       "      <th>histogram_bounds</th>\n",
       "    </tr>\n",
       "  </thead>\n",
       "  <tbody>\n",
       "    <tr>\n",
       "      <th>0</th>\n",
       "      <td>c_custkey</td>\n",
       "      <td>-1.0000</td>\n",
       "      <td>None</td>\n",
       "      <td>None</td>\n",
       "      <td>[12, 1548, 3113, 4495, 5975, 7460, 8920, 10373...</td>\n",
       "    </tr>\n",
       "    <tr>\n",
       "      <th>1</th>\n",
       "      <td>c_name</td>\n",
       "      <td>-1.0000</td>\n",
       "      <td>None</td>\n",
       "      <td>None</td>\n",
       "      <td>[Customer#000000012, Customer#000001548, Custo...</td>\n",
       "    </tr>\n",
       "    <tr>\n",
       "      <th>2</th>\n",
       "      <td>c_address</td>\n",
       "      <td>-1.0000</td>\n",
       "      <td>None</td>\n",
       "      <td>None</td>\n",
       "      <td>[  1Ur sAbsaAHmBcIelil9U85KIXmyQkdyT,qop,  bag...</td>\n",
       "    </tr>\n",
       "    <tr>\n",
       "      <th>3</th>\n",
       "      <td>c_nationkey</td>\n",
       "      <td>25.0000</td>\n",
       "      <td>[9, 4, 10, 22, 23, 3, 15, 11, 5, 6, 18, 20, 8,...</td>\n",
       "      <td>[0.041866668, 0.041666668, 0.0414, 0.041333333...</td>\n",
       "      <td>None</td>\n",
       "    </tr>\n",
       "    <tr>\n",
       "      <th>4</th>\n",
       "      <td>c_phone</td>\n",
       "      <td>-0.9991</td>\n",
       "      <td>None</td>\n",
       "      <td>None</td>\n",
       "      <td>[10-100-301-2XXX, 10-334-644-7XXX, 10-593-484-...</td>\n",
       "    </tr>\n",
       "    <tr>\n",
       "      <th>5</th>\n",
       "      <td>c_mktsegment</td>\n",
       "      <td>5.0000</td>\n",
       "      <td>[BUILDING  , AUTOMOBILE, MACHINERY , FURNITURE...</td>\n",
       "      <td>[0.20416667, 0.20043333, 0.19983333, 0.1994666...</td>\n",
       "      <td>None</td>\n",
       "    </tr>\n",
       "  </tbody>\n",
       "</table>\n",
       "</div>"
      ],
      "text/plain": [
       "        attname  n_distinct  \\\n",
       "0     c_custkey     -1.0000   \n",
       "1        c_name     -1.0000   \n",
       "2     c_address     -1.0000   \n",
       "3   c_nationkey     25.0000   \n",
       "4       c_phone     -0.9991   \n",
       "5  c_mktsegment      5.0000   \n",
       "\n",
       "                                    most_common_vals  \\\n",
       "0                                               None   \n",
       "1                                               None   \n",
       "2                                               None   \n",
       "3  [9, 4, 10, 22, 23, 3, 15, 11, 5, 6, 18, 20, 8,...   \n",
       "4                                               None   \n",
       "5  [BUILDING  , AUTOMOBILE, MACHINERY , FURNITURE...   \n",
       "\n",
       "                                   most_common_freqs  \\\n",
       "0                                               None   \n",
       "1                                               None   \n",
       "2                                               None   \n",
       "3  [0.041866668, 0.041666668, 0.0414, 0.041333333...   \n",
       "4                                               None   \n",
       "5  [0.20416667, 0.20043333, 0.19983333, 0.1994666...   \n",
       "\n",
       "                                    histogram_bounds  \n",
       "0  [12, 1548, 3113, 4495, 5975, 7460, 8920, 10373...  \n",
       "1  [Customer#000000012, Customer#000001548, Custo...  \n",
       "2  [  1Ur sAbsaAHmBcIelil9U85KIXmyQkdyT,qop,  bag...  \n",
       "3                                               None  \n",
       "4  [10-100-301-2XXX, 10-334-644-7XXX, 10-593-484-...  \n",
       "5                                               None  "
      ]
     },
     "execution_count": 14,
     "metadata": {},
     "output_type": "execute_result"
    }
   ],
   "source": [
    "#creating a query variable to store our query to pass into the function\n",
    "# Specify the table name from ['customer','lineitem','nation','orders','part','partsupp','region','supplier']\n",
    "table_name = 'c_p4_stat'\n",
    "# Fetch column names dynamically\n",
    "# column_names = fetch_column_names(conn, table_name)\n",
    "# column_names_str = ', '.join(column_names)\n",
    "inspector = inspect(engine)\n",
    "columns = inspector.get_columns(table_name)\n",
    "column_names = [column['name'] for column in columns]\n",
    "column_names_str = ', '.join(column_names)\n",
    "# Construct the SQL query dynamically\n",
    "try:\n",
    "    # query = f\"SELECT {column_names_str} FROM {table_name}\"\n",
    "    query = f\"SELECT * FROM {table_name}\"\n",
    "\n",
    "    customer_p4_stats_masked = pd.read_sql(query, connection)\n",
    "    if customer_p4_stats_masked.empty:\n",
    "        print(\"Query returned no results.\")\n",
    "    else:\n",
    "        pass\n",
    "except Exception as e:\n",
    "    print(f\"Error executing query: {e}\")\n",
    "#loading our dataframe\n",
    "\n",
    "customer_p4_stats_masked.head(6)"
   ]
  },
  {
   "cell_type": "markdown",
   "id": "5e2816c1",
   "metadata": {},
   "source": [
    "## Order Dataset"
   ]
  },
  {
   "cell_type": "code",
   "execution_count": 15,
   "id": "f5d292ca",
   "metadata": {},
   "outputs": [
    {
     "data": {
      "text/html": [
       "<div>\n",
       "<style scoped>\n",
       "    .dataframe tbody tr th:only-of-type {\n",
       "        vertical-align: middle;\n",
       "    }\n",
       "\n",
       "    .dataframe tbody tr th {\n",
       "        vertical-align: top;\n",
       "    }\n",
       "\n",
       "    .dataframe thead th {\n",
       "        text-align: right;\n",
       "    }\n",
       "</style>\n",
       "<table border=\"1\" class=\"dataframe\">\n",
       "  <thead>\n",
       "    <tr style=\"text-align: right;\">\n",
       "      <th></th>\n",
       "      <th>o_orderkey</th>\n",
       "      <th>o_custkey</th>\n",
       "      <th>o_orderstatus</th>\n",
       "      <th>o_totalprice</th>\n",
       "      <th>o_orderdate</th>\n",
       "      <th>o_orderpriority</th>\n",
       "      <th>o_clerk</th>\n",
       "      <th>o_shippriority</th>\n",
       "      <th>o_comment</th>\n",
       "    </tr>\n",
       "  </thead>\n",
       "  <tbody>\n",
       "    <tr>\n",
       "      <th>0</th>\n",
       "      <td>1</td>\n",
       "      <td>36901</td>\n",
       "      <td>O</td>\n",
       "      <td>173665.47</td>\n",
       "      <td>1996-01-02</td>\n",
       "      <td>5-LOW</td>\n",
       "      <td>Clerk#000000951</td>\n",
       "      <td>0</td>\n",
       "      <td>nstructions sleep furiously among</td>\n",
       "    </tr>\n",
       "    <tr>\n",
       "      <th>1</th>\n",
       "      <td>2</td>\n",
       "      <td>78002</td>\n",
       "      <td>O</td>\n",
       "      <td>46929.18</td>\n",
       "      <td>1996-12-01</td>\n",
       "      <td>1-URGENT</td>\n",
       "      <td>Clerk#000000880</td>\n",
       "      <td>0</td>\n",
       "      <td>foxes. pending accounts at the pending, silen...</td>\n",
       "    </tr>\n",
       "    <tr>\n",
       "      <th>2</th>\n",
       "      <td>3</td>\n",
       "      <td>123314</td>\n",
       "      <td>F</td>\n",
       "      <td>193846.25</td>\n",
       "      <td>1993-10-14</td>\n",
       "      <td>5-LOW</td>\n",
       "      <td>Clerk#000000955</td>\n",
       "      <td>0</td>\n",
       "      <td>sly final accounts boost. carefully regular id...</td>\n",
       "    </tr>\n",
       "    <tr>\n",
       "      <th>3</th>\n",
       "      <td>4</td>\n",
       "      <td>136777</td>\n",
       "      <td>O</td>\n",
       "      <td>32151.78</td>\n",
       "      <td>1995-10-11</td>\n",
       "      <td>5-LOW</td>\n",
       "      <td>Clerk#000000124</td>\n",
       "      <td>0</td>\n",
       "      <td>sits. slyly regular warthogs cajole. regular, ...</td>\n",
       "    </tr>\n",
       "    <tr>\n",
       "      <th>4</th>\n",
       "      <td>5</td>\n",
       "      <td>44485</td>\n",
       "      <td>F</td>\n",
       "      <td>144659.20</td>\n",
       "      <td>1994-07-30</td>\n",
       "      <td>5-LOW</td>\n",
       "      <td>Clerk#000000925</td>\n",
       "      <td>0</td>\n",
       "      <td>quickly. bold deposits sleep slyly. packages u...</td>\n",
       "    </tr>\n",
       "  </tbody>\n",
       "</table>\n",
       "</div>"
      ],
      "text/plain": [
       "   o_orderkey  o_custkey o_orderstatus  o_totalprice o_orderdate  \\\n",
       "0           1      36901             O     173665.47  1996-01-02   \n",
       "1           2      78002             O      46929.18  1996-12-01   \n",
       "2           3     123314             F     193846.25  1993-10-14   \n",
       "3           4     136777             O      32151.78  1995-10-11   \n",
       "4           5      44485             F     144659.20  1994-07-30   \n",
       "\n",
       "   o_orderpriority          o_clerk  o_shippriority  \\\n",
       "0  5-LOW            Clerk#000000951               0   \n",
       "1  1-URGENT         Clerk#000000880               0   \n",
       "2  5-LOW            Clerk#000000955               0   \n",
       "3  5-LOW            Clerk#000000124               0   \n",
       "4  5-LOW            Clerk#000000925               0   \n",
       "\n",
       "                                           o_comment  \n",
       "0                 nstructions sleep furiously among   \n",
       "1   foxes. pending accounts at the pending, silen...  \n",
       "2  sly final accounts boost. carefully regular id...  \n",
       "3  sits. slyly regular warthogs cajole. regular, ...  \n",
       "4  quickly. bold deposits sleep slyly. packages u...  "
      ]
     },
     "execution_count": 15,
     "metadata": {},
     "output_type": "execute_result"
    }
   ],
   "source": [
    "#creating a query variable to store our query to pass into the function\n",
    "# Specify the table name from ['customer','lineitem','nation','orders','part','partsupp','region','supplier']\n",
    "table_name = 'o'\n",
    "# Fetch column names dynamically\n",
    "# column_names = fetch_column_names(conn, table_name)\n",
    "# column_names_str = ', '.join(column_names)\n",
    "inspector = inspect(engine)\n",
    "columns = inspector.get_columns(table_name)\n",
    "column_names = [column['name'] for column in columns]\n",
    "column_names_str = ', '.join(column_names)\n",
    "# Construct the SQL query dynamically\n",
    "try:\n",
    "    # query = f\"SELECT {column_names_str} FROM {table_name}\"\n",
    "    query = f\"SELECT * FROM {table_name}\"\n",
    "\n",
    "    orders_original = pd.read_sql(query, connection)\n",
    "    if orders_original.empty:\n",
    "        print(\"Query returned no results.\")\n",
    "    else:\n",
    "        pass\n",
    "except Exception as e:\n",
    "    print(f\"Error executing query: {e}\")\n",
    "#loading our dataframe\n",
    "\n",
    "orders_original.head()"
   ]
  },
  {
   "cell_type": "code",
   "execution_count": 16,
   "id": "4b6fe805",
   "metadata": {},
   "outputs": [
    {
     "data": {
      "text/html": [
       "<div>\n",
       "<style scoped>\n",
       "    .dataframe tbody tr th:only-of-type {\n",
       "        vertical-align: middle;\n",
       "    }\n",
       "\n",
       "    .dataframe tbody tr th {\n",
       "        vertical-align: top;\n",
       "    }\n",
       "\n",
       "    .dataframe thead th {\n",
       "        text-align: right;\n",
       "    }\n",
       "</style>\n",
       "<table border=\"1\" class=\"dataframe\">\n",
       "  <thead>\n",
       "    <tr style=\"text-align: right;\">\n",
       "      <th></th>\n",
       "      <th>o_orderkey</th>\n",
       "      <th>o_custkey</th>\n",
       "      <th>o_orderstatus</th>\n",
       "      <th>o_totalprice</th>\n",
       "      <th>o_orderdate</th>\n",
       "      <th>o_orderpriority</th>\n",
       "      <th>o_clerk</th>\n",
       "      <th>o_shippriority</th>\n",
       "      <th>o_comment</th>\n",
       "    </tr>\n",
       "  </thead>\n",
       "  <tbody>\n",
       "    <tr>\n",
       "      <th>0</th>\n",
       "      <td>1</td>\n",
       "      <td>36901</td>\n",
       "      <td>O</td>\n",
       "      <td>173665.47</td>\n",
       "      <td>1996-01-01</td>\n",
       "      <td>5-LOW</td>\n",
       "      <td>Clerk#000000951</td>\n",
       "      <td>0</td>\n",
       "      <td>nstructions sleep furiously among</td>\n",
       "    </tr>\n",
       "    <tr>\n",
       "      <th>1</th>\n",
       "      <td>2</td>\n",
       "      <td>78002</td>\n",
       "      <td>O</td>\n",
       "      <td>46929.18</td>\n",
       "      <td>1996-12-01</td>\n",
       "      <td>1-URGENT</td>\n",
       "      <td>Clerk#000000880</td>\n",
       "      <td>0</td>\n",
       "      <td>foxes. pending accounts at the pending, silen...</td>\n",
       "    </tr>\n",
       "    <tr>\n",
       "      <th>2</th>\n",
       "      <td>3</td>\n",
       "      <td>123314</td>\n",
       "      <td>F</td>\n",
       "      <td>193846.25</td>\n",
       "      <td>1993-10-01</td>\n",
       "      <td>5-LOW</td>\n",
       "      <td>Clerk#000000955</td>\n",
       "      <td>0</td>\n",
       "      <td>sly final accounts boost. carefully regular id...</td>\n",
       "    </tr>\n",
       "    <tr>\n",
       "      <th>3</th>\n",
       "      <td>4</td>\n",
       "      <td>136777</td>\n",
       "      <td>O</td>\n",
       "      <td>32151.78</td>\n",
       "      <td>1995-10-01</td>\n",
       "      <td>5-LOW</td>\n",
       "      <td>Clerk#000000124</td>\n",
       "      <td>0</td>\n",
       "      <td>sits. slyly regular warthogs cajole. regular, ...</td>\n",
       "    </tr>\n",
       "    <tr>\n",
       "      <th>4</th>\n",
       "      <td>5</td>\n",
       "      <td>44485</td>\n",
       "      <td>F</td>\n",
       "      <td>144659.20</td>\n",
       "      <td>1994-07-01</td>\n",
       "      <td>5-LOW</td>\n",
       "      <td>Clerk#000000925</td>\n",
       "      <td>0</td>\n",
       "      <td>quickly. bold deposits sleep slyly. packages u...</td>\n",
       "    </tr>\n",
       "  </tbody>\n",
       "</table>\n",
       "</div>"
      ],
      "text/plain": [
       "   o_orderkey  o_custkey o_orderstatus  o_totalprice o_orderdate  \\\n",
       "0           1      36901             O     173665.47  1996-01-01   \n",
       "1           2      78002             O      46929.18  1996-12-01   \n",
       "2           3     123314             F     193846.25  1993-10-01   \n",
       "3           4     136777             O      32151.78  1995-10-01   \n",
       "4           5      44485             F     144659.20  1994-07-01   \n",
       "\n",
       "   o_orderpriority          o_clerk  o_shippriority  \\\n",
       "0  5-LOW            Clerk#000000951               0   \n",
       "1  1-URGENT         Clerk#000000880               0   \n",
       "2  5-LOW            Clerk#000000955               0   \n",
       "3  5-LOW            Clerk#000000124               0   \n",
       "4  5-LOW            Clerk#000000925               0   \n",
       "\n",
       "                                           o_comment  \n",
       "0                 nstructions sleep furiously among   \n",
       "1   foxes. pending accounts at the pending, silen...  \n",
       "2  sly final accounts boost. carefully regular id...  \n",
       "3  sits. slyly regular warthogs cajole. regular, ...  \n",
       "4  quickly. bold deposits sleep slyly. packages u...  "
      ]
     },
     "execution_count": 16,
     "metadata": {},
     "output_type": "execute_result"
    }
   ],
   "source": [
    "#creating a query variable to store our query to pass into the function\n",
    "# Specify the table name from ['customer','lineitem','nation','orders','part','partsupp','region','supplier']\n",
    "table_name = 'o_p2'\n",
    "# Fetch column names dynamically\n",
    "# column_names = fetch_column_names(conn, table_name)\n",
    "# column_names_str = ', '.join(column_names)\n",
    "inspector = inspect(engine)\n",
    "columns = inspector.get_columns(table_name)\n",
    "column_names = [column['name'] for column in columns]\n",
    "column_names_str = ', '.join(column_names)\n",
    "# Construct the SQL query dynamically\n",
    "try:\n",
    "    # query = f\"SELECT {column_names_str} FROM {table_name}\"\n",
    "    query = f\"SELECT * FROM {table_name}\"\n",
    "\n",
    "    orders_masked_p2 = pd.read_sql(query, connection)\n",
    "    if orders_masked_p2.empty:\n",
    "        print(\"Query returned no results.\")\n",
    "    else:\n",
    "        pass\n",
    "except Exception as e:\n",
    "    print(f\"Error executing query: {e}\")\n",
    "#loading our dataframe\n",
    "\n",
    "orders_masked_p2.head()"
   ]
  },
  {
   "cell_type": "code",
   "execution_count": 17,
   "id": "121cc0dc",
   "metadata": {},
   "outputs": [
    {
     "data": {
      "text/html": [
       "<div>\n",
       "<style scoped>\n",
       "    .dataframe tbody tr th:only-of-type {\n",
       "        vertical-align: middle;\n",
       "    }\n",
       "\n",
       "    .dataframe tbody tr th {\n",
       "        vertical-align: top;\n",
       "    }\n",
       "\n",
       "    .dataframe thead th {\n",
       "        text-align: right;\n",
       "    }\n",
       "</style>\n",
       "<table border=\"1\" class=\"dataframe\">\n",
       "  <thead>\n",
       "    <tr style=\"text-align: right;\">\n",
       "      <th></th>\n",
       "      <th>o_orderkey</th>\n",
       "      <th>o_custkey</th>\n",
       "      <th>o_orderstatus</th>\n",
       "      <th>o_totalprice</th>\n",
       "      <th>o_orderdate</th>\n",
       "      <th>o_orderpriority</th>\n",
       "      <th>o_clerk</th>\n",
       "      <th>o_shippriority</th>\n",
       "      <th>o_comment</th>\n",
       "    </tr>\n",
       "  </thead>\n",
       "  <tbody>\n",
       "    <tr>\n",
       "      <th>0</th>\n",
       "      <td>1</td>\n",
       "      <td>36901</td>\n",
       "      <td>O</td>\n",
       "      <td>173665.47</td>\n",
       "      <td>1995-12-23</td>\n",
       "      <td>5-LOW</td>\n",
       "      <td>Clerk#000000951</td>\n",
       "      <td>0</td>\n",
       "      <td>nstructions sleep furiously among</td>\n",
       "    </tr>\n",
       "    <tr>\n",
       "      <th>1</th>\n",
       "      <td>2</td>\n",
       "      <td>78002</td>\n",
       "      <td>O</td>\n",
       "      <td>46929.18</td>\n",
       "      <td>1996-11-25</td>\n",
       "      <td>1-URGENT</td>\n",
       "      <td>Clerk#000000880</td>\n",
       "      <td>0</td>\n",
       "      <td>foxes. pending accounts at the pending, silen...</td>\n",
       "    </tr>\n",
       "    <tr>\n",
       "      <th>2</th>\n",
       "      <td>3</td>\n",
       "      <td>123314</td>\n",
       "      <td>F</td>\n",
       "      <td>193846.25</td>\n",
       "      <td>1993-10-06</td>\n",
       "      <td>5-LOW</td>\n",
       "      <td>Clerk#000000955</td>\n",
       "      <td>0</td>\n",
       "      <td>sly final accounts boost. carefully regular id...</td>\n",
       "    </tr>\n",
       "    <tr>\n",
       "      <th>3</th>\n",
       "      <td>4</td>\n",
       "      <td>136777</td>\n",
       "      <td>O</td>\n",
       "      <td>32151.78</td>\n",
       "      <td>1995-10-20</td>\n",
       "      <td>5-LOW</td>\n",
       "      <td>Clerk#000000124</td>\n",
       "      <td>0</td>\n",
       "      <td>sits. slyly regular warthogs cajole. regular, ...</td>\n",
       "    </tr>\n",
       "    <tr>\n",
       "      <th>4</th>\n",
       "      <td>5</td>\n",
       "      <td>44485</td>\n",
       "      <td>F</td>\n",
       "      <td>144659.20</td>\n",
       "      <td>1994-07-27</td>\n",
       "      <td>5-LOW</td>\n",
       "      <td>Clerk#000000925</td>\n",
       "      <td>0</td>\n",
       "      <td>quickly. bold deposits sleep slyly. packages u...</td>\n",
       "    </tr>\n",
       "  </tbody>\n",
       "</table>\n",
       "</div>"
      ],
      "text/plain": [
       "   o_orderkey  o_custkey o_orderstatus  o_totalprice o_orderdate  \\\n",
       "0           1      36901             O     173665.47  1995-12-23   \n",
       "1           2      78002             O      46929.18  1996-11-25   \n",
       "2           3     123314             F     193846.25  1993-10-06   \n",
       "3           4     136777             O      32151.78  1995-10-20   \n",
       "4           5      44485             F     144659.20  1994-07-27   \n",
       "\n",
       "   o_orderpriority          o_clerk  o_shippriority  \\\n",
       "0  5-LOW            Clerk#000000951               0   \n",
       "1  1-URGENT         Clerk#000000880               0   \n",
       "2  5-LOW            Clerk#000000955               0   \n",
       "3  5-LOW            Clerk#000000124               0   \n",
       "4  5-LOW            Clerk#000000925               0   \n",
       "\n",
       "                                           o_comment  \n",
       "0                 nstructions sleep furiously among   \n",
       "1   foxes. pending accounts at the pending, silen...  \n",
       "2  sly final accounts boost. carefully regular id...  \n",
       "3  sits. slyly regular warthogs cajole. regular, ...  \n",
       "4  quickly. bold deposits sleep slyly. packages u...  "
      ]
     },
     "execution_count": 17,
     "metadata": {},
     "output_type": "execute_result"
    }
   ],
   "source": [
    "#creating a query variable to store our query to pass into the function\n",
    "# Specify the table name from ['customer','lineitem','nation','orders','part','partsupp','region','supplier']\n",
    "table_name = 'o_p1'\n",
    "# Fetch column names dynamically\n",
    "# column_names = fetch_column_names(conn, table_name)\n",
    "# column_names_str = ', '.join(column_names)\n",
    "inspector = inspect(engine)\n",
    "columns = inspector.get_columns(table_name)\n",
    "column_names = [column['name'] for column in columns]\n",
    "column_names_str = ', '.join(column_names)\n",
    "# Construct the SQL query dynamically\n",
    "try:\n",
    "    # query = f\"SELECT {column_names_str} FROM {table_name}\"\n",
    "    query = f\"SELECT * FROM {table_name}\"\n",
    "\n",
    "    orders_masked_p1 = pd.read_sql(query, connection)\n",
    "    if orders_masked_p1.empty:\n",
    "        print(\"Query returned no results.\")\n",
    "    else:\n",
    "        pass\n",
    "except Exception as e:\n",
    "    print(f\"Error executing query: {e}\")\n",
    "#loading our dataframe\n",
    "\n",
    "orders_masked_p1.head()"
   ]
  },
  {
   "cell_type": "code",
   "execution_count": 18,
   "id": "468cd51e",
   "metadata": {},
   "outputs": [
    {
     "data": {
      "text/html": [
       "<div>\n",
       "<style scoped>\n",
       "    .dataframe tbody tr th:only-of-type {\n",
       "        vertical-align: middle;\n",
       "    }\n",
       "\n",
       "    .dataframe tbody tr th {\n",
       "        vertical-align: top;\n",
       "    }\n",
       "\n",
       "    .dataframe thead th {\n",
       "        text-align: right;\n",
       "    }\n",
       "</style>\n",
       "<table border=\"1\" class=\"dataframe\">\n",
       "  <thead>\n",
       "    <tr style=\"text-align: right;\">\n",
       "      <th></th>\n",
       "      <th>attname</th>\n",
       "      <th>n_distinct</th>\n",
       "      <th>most_common_vals</th>\n",
       "      <th>most_common_freqs</th>\n",
       "      <th>histogram_bounds</th>\n",
       "    </tr>\n",
       "  </thead>\n",
       "  <tbody>\n",
       "    <tr>\n",
       "      <th>0</th>\n",
       "      <td>o_orderkey</td>\n",
       "      <td>-1.000000</td>\n",
       "      <td>None</td>\n",
       "      <td>None</td>\n",
       "      <td>[34, 57284, 117574, 177600, 234790, 291392, 34...</td>\n",
       "    </tr>\n",
       "    <tr>\n",
       "      <th>1</th>\n",
       "      <td>o_custkey</td>\n",
       "      <td>85643.000000</td>\n",
       "      <td>None</td>\n",
       "      <td>None</td>\n",
       "      <td>[16, 1468, 2912, 4394, 5839, 7450, 8887, 10399...</td>\n",
       "    </tr>\n",
       "    <tr>\n",
       "      <th>2</th>\n",
       "      <td>o_orderstatus</td>\n",
       "      <td>3.000000</td>\n",
       "      <td>[O, F, P]</td>\n",
       "      <td>[0.48843333, 0.48576668, 0.0258]</td>\n",
       "      <td>None</td>\n",
       "    </tr>\n",
       "    <tr>\n",
       "      <th>3</th>\n",
       "      <td>o_totalprice</td>\n",
       "      <td>-0.961894</td>\n",
       "      <td>None</td>\n",
       "      <td>None</td>\n",
       "      <td>[927.91, 5838.56, 10936.78, 15365.87, 19403.67...</td>\n",
       "    </tr>\n",
       "    <tr>\n",
       "      <th>4</th>\n",
       "      <td>o_orderdate</td>\n",
       "      <td>2406.000000</td>\n",
       "      <td>[1997-01-09, 1992-04-30, 1997-07-28, 1997-10-0...</td>\n",
       "      <td>[0.00086666667, 0.00083333335, 0.00083333335, ...</td>\n",
       "      <td>[1992-01-01, 1992-01-26, 1992-02-20, 1992-03-1...</td>\n",
       "    </tr>\n",
       "  </tbody>\n",
       "</table>\n",
       "</div>"
      ],
      "text/plain": [
       "         attname    n_distinct  \\\n",
       "0     o_orderkey     -1.000000   \n",
       "1      o_custkey  85643.000000   \n",
       "2  o_orderstatus      3.000000   \n",
       "3   o_totalprice     -0.961894   \n",
       "4    o_orderdate   2406.000000   \n",
       "\n",
       "                                    most_common_vals  \\\n",
       "0                                               None   \n",
       "1                                               None   \n",
       "2                                          [O, F, P]   \n",
       "3                                               None   \n",
       "4  [1997-01-09, 1992-04-30, 1997-07-28, 1997-10-0...   \n",
       "\n",
       "                                   most_common_freqs  \\\n",
       "0                                               None   \n",
       "1                                               None   \n",
       "2                   [0.48843333, 0.48576668, 0.0258]   \n",
       "3                                               None   \n",
       "4  [0.00086666667, 0.00083333335, 0.00083333335, ...   \n",
       "\n",
       "                                    histogram_bounds  \n",
       "0  [34, 57284, 117574, 177600, 234790, 291392, 34...  \n",
       "1  [16, 1468, 2912, 4394, 5839, 7450, 8887, 10399...  \n",
       "2                                               None  \n",
       "3  [927.91, 5838.56, 10936.78, 15365.87, 19403.67...  \n",
       "4  [1992-01-01, 1992-01-26, 1992-02-20, 1992-03-1...  "
      ]
     },
     "execution_count": 18,
     "metadata": {},
     "output_type": "execute_result"
    }
   ],
   "source": [
    "#creating a query variable to store our query to pass into the function\n",
    "# Specify the table name from ['customer','lineitem','nation','orders','part','partsupp','region','supplier']\n",
    "table_name = 'o_stat'\n",
    "# Fetch column names dynamically\n",
    "# column_names = fetch_column_names(conn, table_name)\n",
    "# column_names_str = ', '.join(column_names)\n",
    "inspector = inspect(engine)\n",
    "columns = inspector.get_columns(table_name)\n",
    "column_names = [column['name'] for column in columns]\n",
    "column_names_str = ', '.join(column_names)\n",
    "# Construct the SQL query dynamically\n",
    "try:\n",
    "    # query = f\"SELECT {column_names_str} FROM {table_name}\"\n",
    "    query = f\"SELECT * FROM {table_name}\"\n",
    "\n",
    "    orders_stats_original = pd.read_sql(query, connection)\n",
    "    if orders_stats_original.empty:\n",
    "        print(\"Query returned no results.\")\n",
    "    else:\n",
    "        pass\n",
    "except Exception as e:\n",
    "    print(f\"Error executing query: {e}\")\n",
    "#loading our dataframe\n",
    "\n",
    "orders_stats_original.head()"
   ]
  },
  {
   "cell_type": "code",
   "execution_count": 19,
   "id": "05866f91",
   "metadata": {},
   "outputs": [
    {
     "data": {
      "text/html": [
       "<div>\n",
       "<style scoped>\n",
       "    .dataframe tbody tr th:only-of-type {\n",
       "        vertical-align: middle;\n",
       "    }\n",
       "\n",
       "    .dataframe tbody tr th {\n",
       "        vertical-align: top;\n",
       "    }\n",
       "\n",
       "    .dataframe thead th {\n",
       "        text-align: right;\n",
       "    }\n",
       "</style>\n",
       "<table border=\"1\" class=\"dataframe\">\n",
       "  <thead>\n",
       "    <tr style=\"text-align: right;\">\n",
       "      <th></th>\n",
       "      <th>attname</th>\n",
       "      <th>n_distinct</th>\n",
       "      <th>most_common_vals</th>\n",
       "      <th>most_common_freqs</th>\n",
       "      <th>histogram_bounds</th>\n",
       "    </tr>\n",
       "  </thead>\n",
       "  <tbody>\n",
       "    <tr>\n",
       "      <th>0</th>\n",
       "      <td>o_orderkey</td>\n",
       "      <td>-1.000000</td>\n",
       "      <td>None</td>\n",
       "      <td>None</td>\n",
       "      <td>[324, 59395, 115174, 173478, 241733, 299364, 3...</td>\n",
       "    </tr>\n",
       "    <tr>\n",
       "      <th>1</th>\n",
       "      <td>o_custkey</td>\n",
       "      <td>87717.000000</td>\n",
       "      <td>None</td>\n",
       "      <td>None</td>\n",
       "      <td>[37, 1582, 3130, 4588, 6109, 7630, 9316, 10690...</td>\n",
       "    </tr>\n",
       "    <tr>\n",
       "      <th>2</th>\n",
       "      <td>o_orderstatus</td>\n",
       "      <td>3.000000</td>\n",
       "      <td>[F, O, P]</td>\n",
       "      <td>[0.4883, 0.4865, 0.0252]</td>\n",
       "      <td>None</td>\n",
       "    </tr>\n",
       "    <tr>\n",
       "      <th>3</th>\n",
       "      <td>o_totalprice</td>\n",
       "      <td>-0.952812</td>\n",
       "      <td>None</td>\n",
       "      <td>None</td>\n",
       "      <td>[952.90, 5646.13, 10082.51, 14335.16, 18547.70...</td>\n",
       "    </tr>\n",
       "    <tr>\n",
       "      <th>4</th>\n",
       "      <td>o_orderdate</td>\n",
       "      <td>80.000000</td>\n",
       "      <td>[1998-07-01, 1994-03-01, 1994-01-01, 1997-05-0...</td>\n",
       "      <td>[0.014366667, 0.013966667, 0.013933334, 0.0138...</td>\n",
       "      <td>None</td>\n",
       "    </tr>\n",
       "  </tbody>\n",
       "</table>\n",
       "</div>"
      ],
      "text/plain": [
       "         attname    n_distinct  \\\n",
       "0     o_orderkey     -1.000000   \n",
       "1      o_custkey  87717.000000   \n",
       "2  o_orderstatus      3.000000   \n",
       "3   o_totalprice     -0.952812   \n",
       "4    o_orderdate     80.000000   \n",
       "\n",
       "                                    most_common_vals  \\\n",
       "0                                               None   \n",
       "1                                               None   \n",
       "2                                          [F, O, P]   \n",
       "3                                               None   \n",
       "4  [1998-07-01, 1994-03-01, 1994-01-01, 1997-05-0...   \n",
       "\n",
       "                                   most_common_freqs  \\\n",
       "0                                               None   \n",
       "1                                               None   \n",
       "2                           [0.4883, 0.4865, 0.0252]   \n",
       "3                                               None   \n",
       "4  [0.014366667, 0.013966667, 0.013933334, 0.0138...   \n",
       "\n",
       "                                    histogram_bounds  \n",
       "0  [324, 59395, 115174, 173478, 241733, 299364, 3...  \n",
       "1  [37, 1582, 3130, 4588, 6109, 7630, 9316, 10690...  \n",
       "2                                               None  \n",
       "3  [952.90, 5646.13, 10082.51, 14335.16, 18547.70...  \n",
       "4                                               None  "
      ]
     },
     "execution_count": 19,
     "metadata": {},
     "output_type": "execute_result"
    }
   ],
   "source": [
    "#creating a query variable to store our query to pass into the function\n",
    "# Specify the table name from ['customer','lineitem','nation','orders','part','partsupp','region','supplier']\n",
    "table_name = 'o_p2_stat'\n",
    "# Fetch column names dynamically\n",
    "# column_names = fetch_column_names(conn, table_name)\n",
    "# column_names_str = ', '.join(column_names)\n",
    "inspector = inspect(engine)\n",
    "columns = inspector.get_columns(table_name)\n",
    "column_names = [column['name'] for column in columns]\n",
    "column_names_str = ', '.join(column_names)\n",
    "# Construct the SQL query dynamically\n",
    "try:\n",
    "    # query = f\"SELECT {column_names_str} FROM {table_name}\"\n",
    "    query = f\"SELECT * FROM {table_name}\"\n",
    "\n",
    "    orders_stats_masked_p2 = pd.read_sql(query, connection)\n",
    "    if orders_stats_masked_p2.empty:\n",
    "        print(\"Query returned no results.\")\n",
    "    else:\n",
    "        pass\n",
    "except Exception as e:\n",
    "    print(f\"Error executing query: {e}\")\n",
    "#loading our dataframe\n",
    "\n",
    "orders_stats_masked_p2.head()"
   ]
  },
  {
   "cell_type": "code",
   "execution_count": 20,
   "id": "d89dda20",
   "metadata": {},
   "outputs": [
    {
     "data": {
      "text/html": [
       "<div>\n",
       "<style scoped>\n",
       "    .dataframe tbody tr th:only-of-type {\n",
       "        vertical-align: middle;\n",
       "    }\n",
       "\n",
       "    .dataframe tbody tr th {\n",
       "        vertical-align: top;\n",
       "    }\n",
       "\n",
       "    .dataframe thead th {\n",
       "        text-align: right;\n",
       "    }\n",
       "</style>\n",
       "<table border=\"1\" class=\"dataframe\">\n",
       "  <thead>\n",
       "    <tr style=\"text-align: right;\">\n",
       "      <th></th>\n",
       "      <th>attname</th>\n",
       "      <th>n_distinct</th>\n",
       "      <th>most_common_vals</th>\n",
       "      <th>most_common_freqs</th>\n",
       "      <th>histogram_bounds</th>\n",
       "    </tr>\n",
       "  </thead>\n",
       "  <tbody>\n",
       "    <tr>\n",
       "      <th>0</th>\n",
       "      <td>o_orderkey</td>\n",
       "      <td>-1.000000</td>\n",
       "      <td>None</td>\n",
       "      <td>None</td>\n",
       "      <td>[36, 58371, 116224, 179558, 239268, 299910, 36...</td>\n",
       "    </tr>\n",
       "    <tr>\n",
       "      <th>1</th>\n",
       "      <td>o_custkey</td>\n",
       "      <td>85910.000000</td>\n",
       "      <td>None</td>\n",
       "      <td>None</td>\n",
       "      <td>[8, 1591, 2938, 4447, 5983, 7547, 9058, 10610,...</td>\n",
       "    </tr>\n",
       "    <tr>\n",
       "      <th>2</th>\n",
       "      <td>o_orderstatus</td>\n",
       "      <td>3.000000</td>\n",
       "      <td>[O, F, P]</td>\n",
       "      <td>[0.49116668, 0.48346666, 0.025366666]</td>\n",
       "      <td>None</td>\n",
       "    </tr>\n",
       "    <tr>\n",
       "      <th>3</th>\n",
       "      <td>o_totalprice</td>\n",
       "      <td>-0.946851</td>\n",
       "      <td>None</td>\n",
       "      <td>None</td>\n",
       "      <td>[884.52, 5557.24, 9959.78, 14203.77, 18033.36,...</td>\n",
       "    </tr>\n",
       "    <tr>\n",
       "      <th>4</th>\n",
       "      <td>o_orderdate</td>\n",
       "      <td>2423.000000</td>\n",
       "      <td>[1996-03-14, 1996-11-30, 1993-12-17, 1998-07-0...</td>\n",
       "      <td>[0.0009, 0.0009, 0.00086666667, 0.00086666667,...</td>\n",
       "      <td>[1991-12-22, 1992-01-25, 1992-02-17, 1992-03-1...</td>\n",
       "    </tr>\n",
       "  </tbody>\n",
       "</table>\n",
       "</div>"
      ],
      "text/plain": [
       "         attname    n_distinct  \\\n",
       "0     o_orderkey     -1.000000   \n",
       "1      o_custkey  85910.000000   \n",
       "2  o_orderstatus      3.000000   \n",
       "3   o_totalprice     -0.946851   \n",
       "4    o_orderdate   2423.000000   \n",
       "\n",
       "                                    most_common_vals  \\\n",
       "0                                               None   \n",
       "1                                               None   \n",
       "2                                          [O, F, P]   \n",
       "3                                               None   \n",
       "4  [1996-03-14, 1996-11-30, 1993-12-17, 1998-07-0...   \n",
       "\n",
       "                                   most_common_freqs  \\\n",
       "0                                               None   \n",
       "1                                               None   \n",
       "2              [0.49116668, 0.48346666, 0.025366666]   \n",
       "3                                               None   \n",
       "4  [0.0009, 0.0009, 0.00086666667, 0.00086666667,...   \n",
       "\n",
       "                                    histogram_bounds  \n",
       "0  [36, 58371, 116224, 179558, 239268, 299910, 36...  \n",
       "1  [8, 1591, 2938, 4447, 5983, 7547, 9058, 10610,...  \n",
       "2                                               None  \n",
       "3  [884.52, 5557.24, 9959.78, 14203.77, 18033.36,...  \n",
       "4  [1991-12-22, 1992-01-25, 1992-02-17, 1992-03-1...  "
      ]
     },
     "execution_count": 20,
     "metadata": {},
     "output_type": "execute_result"
    }
   ],
   "source": [
    "#creating a query variable to store our query to pass into the function\n",
    "# Specify the table name from ['customer','lineitem','nation','orders','part','partsupp','region','supplier']\n",
    "table_name = 'o_p1_stat'\n",
    "# Fetch column names dynamically\n",
    "# column_names = fetch_column_names(conn, table_name)\n",
    "# column_names_str = ', '.join(column_names)\n",
    "inspector = inspect(engine)\n",
    "columns = inspector.get_columns(table_name)\n",
    "column_names = [column['name'] for column in columns]\n",
    "column_names_str = ', '.join(column_names)\n",
    "# Construct the SQL query dynamically\n",
    "try:\n",
    "    # query = f\"SELECT {column_names_str} FROM {table_name}\"\n",
    "    query = f\"SELECT * FROM {table_name}\"\n",
    "\n",
    "    orders_stats_masked_p1 = pd.read_sql(query, connection)\n",
    "    if orders_stats_masked_p1.empty:\n",
    "        print(\"Query returned no results.\")\n",
    "    else:\n",
    "        pass\n",
    "except Exception as e:\n",
    "    print(f\"Error executing query: {e}\")\n",
    "#loading our dataframe\n",
    "\n",
    "orders_stats_masked_p1.head()"
   ]
  },
  {
   "cell_type": "markdown",
   "id": "f9a4cf8e",
   "metadata": {},
   "source": [
    "## Closing Connection"
   ]
  },
  {
   "cell_type": "code",
   "execution_count": 21,
   "id": "05faf8ef",
   "metadata": {},
   "outputs": [
    {
     "name": "stdout",
     "output_type": "stream",
     "text": [
      "Connection closed\n"
     ]
    }
   ],
   "source": [
    "#closing the connection\n",
    "try:\n",
    "    connection.close()\n",
    "    print(\"Connection closed\")\n",
    "except Exception as e:\n",
    "    print(f\"Error closing the connection: {e}\")\n",
    "# Let’s see if we loaded the df successfully"
   ]
  },
  {
   "cell_type": "markdown",
   "id": "7361ec49",
   "metadata": {},
   "source": [
    "### Masking Customer Table"
   ]
  },
  {
   "cell_type": "markdown",
   "id": "05a7a181",
   "metadata": {},
   "source": [
    "#### suppressing the c_mktsegment column"
   ]
  },
  {
   "cell_type": "code",
   "execution_count": 22,
   "id": "f0967f0a",
   "metadata": {},
   "outputs": [
    {
     "ename": "NameError",
     "evalue": "name 'df' is not defined",
     "output_type": "error",
     "traceback": [
      "\u001b[0;31m---------------------------------------------------------------------------\u001b[0m",
      "\u001b[0;31mNameError\u001b[0m                                 Traceback (most recent call last)",
      "Cell \u001b[0;32mIn[22], line 2\u001b[0m\n\u001b[1;32m      1\u001b[0m \u001b[38;5;66;03m# clean up spaces from column c_mktsegment\u001b[39;00m\n\u001b[0;32m----> 2\u001b[0m df[\u001b[38;5;124m'\u001b[39m\u001b[38;5;124mc_mktsegment\u001b[39m\u001b[38;5;124m'\u001b[39m] \u001b[38;5;241m=\u001b[39m \u001b[43mdf\u001b[49m[\u001b[38;5;124m'\u001b[39m\u001b[38;5;124mc_mktsegment\u001b[39m\u001b[38;5;124m'\u001b[39m]\u001b[38;5;241m.\u001b[39mstr\u001b[38;5;241m.\u001b[39mreplace(\u001b[38;5;124mr\u001b[39m\u001b[38;5;124m'\u001b[39m\u001b[38;5;124m\\\u001b[39m\u001b[38;5;124ms+\u001b[39m\u001b[38;5;124m'\u001b[39m, \u001b[38;5;124m'\u001b[39m\u001b[38;5;124m'\u001b[39m, regex\u001b[38;5;241m=\u001b[39m\u001b[38;5;28;01mTrue\u001b[39;00m)\n",
      "\u001b[0;31mNameError\u001b[0m: name 'df' is not defined"
     ]
    }
   ],
   "source": [
    "# clean up spaces from column c_mktsegment\n",
    "df['c_mktsegment'] = df['c_mktsegment'].str.replace(r'\\s+', '', regex=True)"
   ]
  },
  {
   "cell_type": "code",
   "execution_count": null,
   "id": "5417369d",
   "metadata": {},
   "outputs": [],
   "source": [
    "customer_m1 = mask(df, suppress, 'c_mktsegment')"
   ]
  },
  {
   "cell_type": "code",
   "execution_count": null,
   "id": "523fd80d",
   "metadata": {},
   "outputs": [],
   "source": [
    "customer_m1.to_csv(\"/Users/avanedaei/Desktop/thesis/main/thesis/masked/customer/customer_m1.tbl.csv\", sep=',', header=False, index=False)\n",
    "customer_m1.to_csv(\"/Users/avanedaei/Desktop/thesis/main/thesis/masked/customer/customer_m1.csv\", sep=',', header=False, index=False)"
   ]
  },
  {
   "cell_type": "markdown",
   "id": "e7c0dbf4",
   "metadata": {},
   "source": [
    "#### generalizing the c_acctbal column number"
   ]
  },
  {
   "cell_type": "code",
   "execution_count": null,
   "id": "4d2f87c9",
   "metadata": {},
   "outputs": [],
   "source": [
    "\n",
    "customer_m2 = mask(df, generalize_number, 'c_acctbal', 100)\n",
    "customer_m2.head()"
   ]
  },
  {
   "cell_type": "code",
   "execution_count": null,
   "id": "403fea59",
   "metadata": {},
   "outputs": [],
   "source": [
    "customer_m2.to_csv(\"/Users/avanedaei/Desktop/thesis/main/thesis/masked/customer/customer_m2.csv\", sep=',', header=False, index=False)\n",
    "customer_m2.to_csv(\"/Users/avanedaei/Desktop/thesis/main/thesis/masked/customer/customer_m2.tbl.csv\", sep=',', header=False, index=False)"
   ]
  },
  {
   "cell_type": "markdown",
   "id": "56cc936f",
   "metadata": {},
   "source": [
    "#### bucketizing the c_acctbal column number"
   ]
  },
  {
   "cell_type": "code",
   "execution_count": null,
   "id": "86a62e1d",
   "metadata": {},
   "outputs": [],
   "source": [
    "customer_m3 = mask(df, bucketize, 'c_acctbal', 500)"
   ]
  },
  {
   "cell_type": "code",
   "execution_count": null,
   "id": "dbaa4cac",
   "metadata": {},
   "outputs": [],
   "source": [
    "customer_m3.to_csv(\"/Users/avanedaei/Desktop/thesis/main/thesis/masked/customer/customer_m3.csv\", sep=',', header=False, index=False)\n",
    "customer_m3.to_csv(\"/Users/avanedaei/Desktop/thesis/main/thesis/masked/customer/customer_m3.tbl.csv\", sep=',', header=False, index=False)"
   ]
  },
  {
   "cell_type": "code",
   "execution_count": null,
   "id": "34a18b4f",
   "metadata": {},
   "outputs": [],
   "source": [
    "customer_m4 = mask(df, bucketize, 'c_acctbal', 500)"
   ]
  },
  {
   "cell_type": "markdown",
   "id": "306e41ed",
   "metadata": {},
   "source": [
    "#### generalizing order date based on month"
   ]
  },
  {
   "cell_type": "code",
   "execution_count": null,
   "id": "9e3aa4f5",
   "metadata": {},
   "outputs": [],
   "source": [
    "orders_m2 = mask(orders_original, generalize_date, 'o_orderdate', \"MONTH\")"
   ]
  },
  {
   "cell_type": "code",
   "execution_count": null,
   "id": "ca4b35a7",
   "metadata": {},
   "outputs": [],
   "source": [
    "orders_m2.to_csv(\"/Users/avanedaei/Desktop/thesis/main/thesis/masked/customer/orders_m2.tbl.csv\", sep=',', header=False, index=False)\n",
    "orders_m2.to_csv(\"/Users/avanedaei/Desktop/thesis/main/thesis/masked/customer/orders_m2.csv\", sep=',', header=False, index=False)"
   ]
  },
  {
   "cell_type": "markdown",
   "id": "6bd561cc",
   "metadata": {},
   "source": [
    "## customer table"
   ]
  },
  {
   "cell_type": "markdown",
   "id": "541ec371",
   "metadata": {},
   "source": [
    "### With Masking Functions"
   ]
  },
  {
   "cell_type": "markdown",
   "id": "20974304",
   "metadata": {},
   "source": [
    "##### example: estimating entropy c_mktsegment"
   ]
  },
  {
   "cell_type": "code",
   "execution_count": null,
   "id": "c48bd5e6",
   "metadata": {},
   "outputs": [],
   "source": [
    "p = compute_prob_dist(df, ['c_mktsegment'])\n",
    "q = compute_prob_dist(customer_m1, ['c_mktsegment'])\n",
    "\n",
    "# Convert probability distribution reverting the masking function\n",
    "# print(q)\n",
    "new_q = specification_prob(q,inverse_blur_string)\n",
    "#print(new_q)\n",
    "row, col = df.shape\n",
    "size = row * col\n",
    "relative_entropy(p, new_q,size)"
   ]
  },
  {
   "cell_type": "markdown",
   "id": "957809b3",
   "metadata": {},
   "source": [
    "##### example: estimating entropy c_acctbal"
   ]
  },
  {
   "cell_type": "code",
   "execution_count": null,
   "id": "ac7a20a8",
   "metadata": {},
   "outputs": [],
   "source": [
    "p = compute_prob_dist(df, ['c_acctbal'])\n",
    "q = compute_prob_dist(customer_m2, ['c_acctbal'])\n",
    "\n",
    "# Convert probability distribution reverting the masking function\n",
    "# print(q)\n",
    "divisor = 100\n",
    "new_q = specification_prob(q,inverse_generalize_number(divisor))\n",
    "#print(new_q)\n",
    "row, col = df.shape\n",
    "size = row * col\n",
    "relative_entropy(p, new_q,size)"
   ]
  },
  {
   "cell_type": "code",
   "execution_count": null,
   "id": "6a45678b",
   "metadata": {},
   "outputs": [],
   "source": [
    "# p = compute_prob_dist(df, ['c_acctbal'])\n",
    "# q = compute_prob_dist(customer_m3, ['c_acctbal'])\n",
    "\n",
    "# # Convert probability distribution reverting the masking function\n",
    "# # print(q)\n",
    "# new_q = specification_prob(q,inverse_bucketize(['c_acctbal'],0.01))\n",
    "# #print(new_q)\n",
    "# row, col = df.shape\n",
    "# size = row * col\n",
    "# relative_entropy(p, new_q,size)"
   ]
  },
  {
   "cell_type": "markdown",
   "id": "ab10d909",
   "metadata": {},
   "source": []
  },
  {
   "cell_type": "markdown",
   "id": "559027f6",
   "metadata": {},
   "source": [
    "### With Materialized Views"
   ]
  },
  {
   "cell_type": "markdown",
   "id": "be1fe320",
   "metadata": {},
   "source": [
    "#### entropy over single column"
   ]
  },
  {
   "cell_type": "code",
   "execution_count": null,
   "id": "f2a25566",
   "metadata": {},
   "outputs": [],
   "source": [
    "p = compute_prob_dist(df, ['c_mktsegment'])\n",
    "q = compute_prob_dist(materialized_view, ['c_mktsegment'])\n",
    "\n",
    "# Convert probability distribution reverting the masking function\n",
    "new_q = specification_prob(q,inverse_suppress_segment)\n",
    "print(new_q)\n",
    "row, col = df.shape\n",
    "size = row * col\n",
    "relative_entropy(p, new_q,size)\n"
   ]
  },
  {
   "cell_type": "markdown",
   "id": "24542084",
   "metadata": {},
   "source": [
    "#### entropy over multiple columns"
   ]
  },
  {
   "cell_type": "code",
   "execution_count": null,
   "id": "0c9c772a",
   "metadata": {},
   "outputs": [],
   "source": [
    "p = compute_prob_dist(df, ['c_mktsegment', 'c_nationkey'])\n",
    "q = compute_prob_dist(materialized_view, ['c_mktsegment', 'c_nationkey'])\n",
    "\n",
    "# Convert probability distribution reverting the masking function\n",
    "new_q = specification_prob(q,inverse_suppress_segment)\n",
    "print(new_q)\n",
    "row, col = df.shape\n",
    "size = row * col\n",
    "relative_entropy(p, new_q,size)"
   ]
  },
  {
   "cell_type": "code",
   "execution_count": null,
   "id": "a5aa639f",
   "metadata": {},
   "outputs": [],
   "source": [
    "p = compute_prob_dist(df, ['c_mktsegment', 'c_comment'])\n",
    "q = compute_prob_dist(materialized_view, ['c_mktsegment', 'c_comment'])\n",
    "\n",
    "# Convert probability distribution reverting the masking function\n",
    "new_q = specification_prob(q,inverse_suppress_segment)\n",
    "print(new_q)\n",
    "row, col = df.shape\n",
    "size = row * col\n",
    "relative_entropy(p, new_q,size)"
   ]
  },
  {
   "cell_type": "markdown",
   "id": "9cc8e3bd",
   "metadata": {},
   "source": [
    "# Estimating Relative Entropy"
   ]
  },
  {
   "cell_type": "markdown",
   "id": "87beaafb",
   "metadata": {},
   "source": [
    "## customer table"
   ]
  },
  {
   "cell_type": "markdown",
   "id": "af6465b1",
   "metadata": {},
   "source": [
    "### c_p4 - blurred c_phone"
   ]
  },
  {
   "cell_type": "code",
   "execution_count": null,
   "id": "65bf73e3",
   "metadata": {},
   "outputs": [],
   "source": [
    "size = 6001215\n",
    "# df.head()\n",
    "customer_stats_original.fillna(np.NaN, inplace=True)\n",
    "customer_p4_stats_masked.fillna(np.NaN, inplace=True)\n",
    "# print(customer_stats_original.head())\n",
    "\n",
    "customer_stats_original[\"n_distinct\"] = customer_stats_original[\"n_distinct\"].apply(lambda x : int(x) if x >= 0 else int(x*-size))\n",
    "customer_p4_stats_masked[\"n_distinct\"] = customer_p2_stats_masked[\"n_distinct\"].apply(lambda x : int(x) if x >= 0 else int(x*-size))\n"
   ]
  },
  {
   "cell_type": "code",
   "execution_count": null,
   "id": "223d8cad",
   "metadata": {},
   "outputs": [
    {
     "ename": "",
     "evalue": "",
     "output_type": "error",
     "traceback": [
      "\u001b[1;31mThe Kernel crashed while executing code in the current cell or a previous cell. \n",
      "\u001b[1;31mPlease review the code in the cell(s) to identify a possible cause of the failure. \n",
      "\u001b[1;31mClick <a href='https://aka.ms/vscodeJupyterKernelCrash'>here</a> for more info. \n",
      "\u001b[1;31mView Jupyter <a href='command:jupyter.viewOutput'>log</a> for further details."
     ]
    }
   ],
   "source": [
    "p = compute_prob_dist(customer_original, ['c_phone'])\n",
    "q = compute_prob_dist(customer_p4_masked, ['c_phone'])\n",
    "\n",
    "# Convert probability distribution reverting the masking function\n",
    "# print(q)\n",
    "new_q = specification_prob(q,inverse_blur_phone)\n",
    "#print(new_q)\n",
    "# row, col = customer_original.shape\n",
    "# size = row * col\n",
    "# relative_entropy(p, new_q,size)"
   ]
  },
  {
   "cell_type": "markdown",
   "id": "b4f2a756",
   "metadata": {},
   "source": [
    "### c_p2 - generalizing c_acctbal - 250"
   ]
  },
  {
   "cell_type": "code",
   "execution_count": null,
   "id": "68c280c1",
   "metadata": {},
   "outputs": [],
   "source": [
    "size = 6001215\n",
    "# df.head()\n",
    "customer_stats_original.fillna(np.NaN, inplace=True)\n",
    "customer_p2_stats_masked.fillna(np.NaN, inplace=True)\n",
    "# print(customer_stats_original.head())\n",
    "\n",
    "customer_stats_original[\"n_distinct\"] = customer_stats_original[\"n_distinct\"].apply(lambda x : int(x) if x >= 0 else int(x*-size))\n",
    "customer_p2_stats_masked[\"n_distinct\"] = customer_p2_stats_masked[\"n_distinct\"].apply(lambda x : int(x) if x >= 0 else int(x*-size))\n"
   ]
  },
  {
   "cell_type": "code",
   "execution_count": null,
   "id": "4106f091",
   "metadata": {},
   "outputs": [
    {
     "data": {
      "text/plain": [
       "0.05429290139624589"
      ]
     },
     "execution_count": 94,
     "metadata": {},
     "output_type": "execute_result"
    }
   ],
   "source": [
    "p = compute_prob_dist(customer_original, ['c_acctbal'])\n",
    "q = compute_prob_dist(customer_p2_masked, ['c_acctbal'])\n",
    "\n",
    "# Convert probability distribution reverting the masking function\n",
    "# print(q)\n",
    "new_q = specification_prob(q,inverse_generalize_number_SO(250))\n",
    "#print(new_q)\n",
    "row, col = customer_original.shape\n",
    "size = row * col\n",
    "relative_entropy(p, new_q,size)"
   ]
  },
  {
   "cell_type": "code",
   "execution_count": null,
   "id": "d5091590",
   "metadata": {},
   "outputs": [
    {
     "data": {
      "text/html": [
       "<div>\n",
       "<style scoped>\n",
       "    .dataframe tbody tr th:only-of-type {\n",
       "        vertical-align: middle;\n",
       "    }\n",
       "\n",
       "    .dataframe tbody tr th {\n",
       "        vertical-align: top;\n",
       "    }\n",
       "\n",
       "    .dataframe thead th {\n",
       "        text-align: right;\n",
       "    }\n",
       "</style>\n",
       "<table border=\"1\" class=\"dataframe\">\n",
       "  <thead>\n",
       "    <tr style=\"text-align: right;\">\n",
       "      <th></th>\n",
       "      <th>attname</th>\n",
       "      <th>n_distinct</th>\n",
       "      <th>most_common_vals</th>\n",
       "      <th>most_common_freqs</th>\n",
       "      <th>histogram_bounds</th>\n",
       "    </tr>\n",
       "  </thead>\n",
       "  <tbody>\n",
       "    <tr>\n",
       "      <th>0</th>\n",
       "      <td>c_acctbal</td>\n",
       "      <td>10839</td>\n",
       "      <td>[1348, 1512, 7118, 846, 1251, 2493, 2564, 2979...</td>\n",
       "      <td>[0.00033333333, 0.00033333333, 0.00033333333, ...</td>\n",
       "      <td>[-1000, -883, -775, -665, -560, -442, -334, -2...</td>\n",
       "    </tr>\n",
       "    <tr>\n",
       "      <th>1</th>\n",
       "      <td>c_comment</td>\n",
       "      <td>5999414</td>\n",
       "      <td>NaN</td>\n",
       "      <td>NaN</td>\n",
       "      <td>[ Tiresias affix ideas. carefully special acco...</td>\n",
       "    </tr>\n",
       "    <tr>\n",
       "      <th>2</th>\n",
       "      <td>c_custkey</td>\n",
       "      <td>6001215</td>\n",
       "      <td>NaN</td>\n",
       "      <td>NaN</td>\n",
       "      <td>[2, 1538, 2979, 4422, 5958, 7557, 9104, 10609,...</td>\n",
       "    </tr>\n",
       "    <tr>\n",
       "      <th>3</th>\n",
       "      <td>c_address</td>\n",
       "      <td>6001215</td>\n",
       "      <td>NaN</td>\n",
       "      <td>NaN</td>\n",
       "      <td>[  1Ur sAbsaAHmBcIelil9U85KIXmyQkdyT,qop,  dNq...</td>\n",
       "    </tr>\n",
       "    <tr>\n",
       "      <th>4</th>\n",
       "      <td>c_nationkey</td>\n",
       "      <td>25</td>\n",
       "      <td>[6, 19, 17, 12, 13, 23, 18, 9, 16, 1, 20, 15, ...</td>\n",
       "      <td>[0.041366667, 0.0413, 0.0411, 0.040866666, 0.0...</td>\n",
       "      <td>NaN</td>\n",
       "    </tr>\n",
       "    <tr>\n",
       "      <th>5</th>\n",
       "      <td>c_name</td>\n",
       "      <td>6001215</td>\n",
       "      <td>NaN</td>\n",
       "      <td>NaN</td>\n",
       "      <td>[Customer#000000002, Customer#000001538, Custo...</td>\n",
       "    </tr>\n",
       "  </tbody>\n",
       "</table>\n",
       "</div>"
      ],
      "text/plain": [
       "       attname  n_distinct                                   most_common_vals  \\\n",
       "0    c_acctbal       10839  [1348, 1512, 7118, 846, 1251, 2493, 2564, 2979...   \n",
       "1    c_comment     5999414                                                NaN   \n",
       "2    c_custkey     6001215                                                NaN   \n",
       "3    c_address     6001215                                                NaN   \n",
       "4  c_nationkey          25  [6, 19, 17, 12, 13, 23, 18, 9, 16, 1, 20, 15, ...   \n",
       "5       c_name     6001215                                                NaN   \n",
       "\n",
       "                                   most_common_freqs  \\\n",
       "0  [0.00033333333, 0.00033333333, 0.00033333333, ...   \n",
       "1                                                NaN   \n",
       "2                                                NaN   \n",
       "3                                                NaN   \n",
       "4  [0.041366667, 0.0413, 0.0411, 0.040866666, 0.0...   \n",
       "5                                                NaN   \n",
       "\n",
       "                                    histogram_bounds  \n",
       "0  [-1000, -883, -775, -665, -560, -442, -334, -2...  \n",
       "1  [ Tiresias affix ideas. carefully special acco...  \n",
       "2  [2, 1538, 2979, 4422, 5958, 7557, 9104, 10609,...  \n",
       "3  [  1Ur sAbsaAHmBcIelil9U85KIXmyQkdyT,qop,  dNq...  \n",
       "4                                                NaN  \n",
       "5  [Customer#000000002, Customer#000001538, Custo...  "
      ]
     },
     "execution_count": 95,
     "metadata": {},
     "output_type": "execute_result"
    }
   ],
   "source": [
    "customer_stats_original.head(6)"
   ]
  },
  {
   "cell_type": "code",
   "execution_count": null,
   "id": "cd1986a2",
   "metadata": {},
   "outputs": [
    {
     "data": {
      "text/html": [
       "<div>\n",
       "<style scoped>\n",
       "    .dataframe tbody tr th:only-of-type {\n",
       "        vertical-align: middle;\n",
       "    }\n",
       "\n",
       "    .dataframe tbody tr th {\n",
       "        vertical-align: top;\n",
       "    }\n",
       "\n",
       "    .dataframe thead th {\n",
       "        text-align: right;\n",
       "    }\n",
       "</style>\n",
       "<table border=\"1\" class=\"dataframe\">\n",
       "  <thead>\n",
       "    <tr style=\"text-align: right;\">\n",
       "      <th></th>\n",
       "      <th>attname</th>\n",
       "      <th>n_distinct</th>\n",
       "      <th>most_common_vals</th>\n",
       "      <th>most_common_freqs</th>\n",
       "      <th>histogram_bounds</th>\n",
       "    </tr>\n",
       "  </thead>\n",
       "  <tbody>\n",
       "    <tr>\n",
       "      <th>0</th>\n",
       "      <td>c_custkey</td>\n",
       "      <td>6001215</td>\n",
       "      <td>NaN</td>\n",
       "      <td>NaN</td>\n",
       "      <td>[4, 1572, 3151, 4717, 6333, 7709, 9406, 11005,...</td>\n",
       "    </tr>\n",
       "    <tr>\n",
       "      <th>1</th>\n",
       "      <td>c_name</td>\n",
       "      <td>6001215</td>\n",
       "      <td>NaN</td>\n",
       "      <td>NaN</td>\n",
       "      <td>[Customer#000000004, Customer#000001572, Custo...</td>\n",
       "    </tr>\n",
       "    <tr>\n",
       "      <th>2</th>\n",
       "      <td>c_address</td>\n",
       "      <td>6001215</td>\n",
       "      <td>NaN</td>\n",
       "      <td>NaN</td>\n",
       "      <td>[  4WsGuqIsPAG4qAEjj32S9d,  bLU,snFrnRBKixCHZj...</td>\n",
       "    </tr>\n",
       "    <tr>\n",
       "      <th>3</th>\n",
       "      <td>c_nationkey</td>\n",
       "      <td>25</td>\n",
       "      <td>[8, 14, 0, 20, 19, 13, 16, 9, 1, 2, 3, 11, 15,...</td>\n",
       "      <td>[0.042433333, 0.041433334, 0.0409, 0.0409, 0.0...</td>\n",
       "      <td>NaN</td>\n",
       "    </tr>\n",
       "    <tr>\n",
       "      <th>4</th>\n",
       "      <td>c_phone</td>\n",
       "      <td>6001215</td>\n",
       "      <td>NaN</td>\n",
       "      <td>NaN</td>\n",
       "      <td>[10-100-864-5796, 10-326-985-6158, 10-544-687-...</td>\n",
       "    </tr>\n",
       "    <tr>\n",
       "      <th>5</th>\n",
       "      <td>c_acctbal</td>\n",
       "      <td>45</td>\n",
       "      <td>[9750, 2750, 5500, 1750, 2000, 3250, 6500, 400...</td>\n",
       "      <td>[0.024533333, 0.024166666, 0.0239, 0.023866666...</td>\n",
       "      <td>NaN</td>\n",
       "    </tr>\n",
       "  </tbody>\n",
       "</table>\n",
       "</div>"
      ],
      "text/plain": [
       "       attname  n_distinct                                   most_common_vals  \\\n",
       "0    c_custkey     6001215                                                NaN   \n",
       "1       c_name     6001215                                                NaN   \n",
       "2    c_address     6001215                                                NaN   \n",
       "3  c_nationkey          25  [8, 14, 0, 20, 19, 13, 16, 9, 1, 2, 3, 11, 15,...   \n",
       "4      c_phone     6001215                                                NaN   \n",
       "5    c_acctbal          45  [9750, 2750, 5500, 1750, 2000, 3250, 6500, 400...   \n",
       "\n",
       "                                   most_common_freqs  \\\n",
       "0                                                NaN   \n",
       "1                                                NaN   \n",
       "2                                                NaN   \n",
       "3  [0.042433333, 0.041433334, 0.0409, 0.0409, 0.0...   \n",
       "4                                                NaN   \n",
       "5  [0.024533333, 0.024166666, 0.0239, 0.023866666...   \n",
       "\n",
       "                                    histogram_bounds  \n",
       "0  [4, 1572, 3151, 4717, 6333, 7709, 9406, 11005,...  \n",
       "1  [Customer#000000004, Customer#000001572, Custo...  \n",
       "2  [  4WsGuqIsPAG4qAEjj32S9d,  bLU,snFrnRBKixCHZj...  \n",
       "3                                                NaN  \n",
       "4  [10-100-864-5796, 10-326-985-6158, 10-544-687-...  \n",
       "5                                                NaN  "
      ]
     },
     "execution_count": 96,
     "metadata": {},
     "output_type": "execute_result"
    }
   ],
   "source": [
    "customer_p2_stats_masked.head(6)"
   ]
  },
  {
   "cell_type": "code",
   "execution_count": null,
   "id": "1d76668a",
   "metadata": {},
   "outputs": [],
   "source": [
    "# customer_stats_original.loc[customer_stats_original[\"attname\"] == \"c_acctbal\", \"histogram_bounds\"] = customer_stats_original[customer_stats_original[\"attname\"] == \"c_acctbal\"][\"histogram_bounds\"].apply(lambda x : [float(i) for i in x])"
   ]
  },
  {
   "cell_type": "code",
   "execution_count": null,
   "id": "6ab17ddb",
   "metadata": {},
   "outputs": [],
   "source": [
    "customer_stats_original_db = DB_stats(customer_stats_original, \"c_acctbal\")\n",
    "customer_p2_stats_masked_db = DB_stats(customer_p2_stats_masked, \"c_acctbal\")\n",
    "customer_p2_stats_masked_db.perturbation()\n",
    "customer_p2_stats_masked_db.inverse_dist(inverse_generalize_number_SO(250,  1, \"{:0f}\"))"
   ]
  },
  {
   "cell_type": "code",
   "execution_count": null,
   "id": "ea5432ff",
   "metadata": {},
   "outputs": [
    {
     "data": {
      "text/plain": [
       "array(['-1000', '-883', '-775', '-665', '-560', '-442', '-334', '-225',\n",
       "       '-116', '-10', '100', '214', '329', '437', '551', '656', '767',\n",
       "       '868', '979', '1094', '1194', '1301', '1411', '1516', '1620',\n",
       "       '1732', '1846', '1953', '2067', '2178', '2289', '2395', '2507',\n",
       "       '2626', '2744', '2859', '2974', '3079', '3203', '3313', '3425',\n",
       "       '3536', '3651', '3762', '3867', '3977', '4079', '4185', '4293',\n",
       "       '4405', '4521', '4631', '4750', '4864', '4974', '5077', '5186',\n",
       "       '5287', '5396', '5507', '5607', '5718', '5831', '5934', '6046',\n",
       "       '6157', '6263', '6373', '6484', '6590', '6688', '6797', '6916',\n",
       "       '7028', '7130', '7233', '7348', '7463', '7575', '7681', '7795',\n",
       "       '7911', '8025', '8130', '8240', '8348', '8454', '8565', '8682',\n",
       "       '8798', '8917', '9019', '9134', '9251', '9359', '9462', '9561',\n",
       "       '9668', '9781', '9895', '10000'], dtype='<U5')"
      ]
     },
     "execution_count": 99,
     "metadata": {},
     "output_type": "execute_result"
    }
   ],
   "source": [
    "customer_stats_original_db.histogram_bounds"
   ]
  },
  {
   "cell_type": "code",
   "execution_count": null,
   "id": "35828723",
   "metadata": {},
   "outputs": [
    {
     "data": {
      "text/plain": [
       "array([], dtype=float64)"
      ]
     },
     "execution_count": 100,
     "metadata": {},
     "output_type": "execute_result"
    }
   ],
   "source": [
    "customer_p2_stats_masked_db.histogram_bounds"
   ]
  },
  {
   "cell_type": "code",
   "execution_count": null,
   "id": "2878d454",
   "metadata": {},
   "outputs": [],
   "source": [
    "customer_p2_stats_masked_db.inverse_histogram_bounds(inverse_generalize_number_SO(250.0, 0.01, \"{:.2f}\"))"
   ]
  },
  {
   "cell_type": "code",
   "execution_count": null,
   "id": "c98b3338",
   "metadata": {},
   "outputs": [
    {
     "data": {
      "text/plain": [
       "array([], dtype=float64)"
      ]
     },
     "execution_count": 102,
     "metadata": {},
     "output_type": "execute_result"
    }
   ],
   "source": [
    "customer_p2_stats_masked_db.unmsk_histogram_bounds"
   ]
  },
  {
   "cell_type": "code",
   "execution_count": null,
   "id": "ff2b855e",
   "metadata": {},
   "outputs": [],
   "source": [
    "min_value = -1000\n",
    "max_value = 100000\n",
    "step = 1\n",
    "\n",
    "c_acctbal_alphabet = []\n",
    "for number in np.arange(min_value, max_value + step, step):\n",
    "        # Format the number to two decimal places\n",
    "        # formatted_number = f\"{number:.2f}\"\n",
    "        # Combine the letter with the formatted number\n",
    "        formatted_number = f\"{number}\"\n",
    "        # if formatted_number.endswith('.00'):\n",
    "        #         formatted_number = formatted_number[:-1]\n",
    "        c_acctbal_alphabet.append(formatted_number)"
   ]
  },
  {
   "cell_type": "code",
   "execution_count": null,
   "id": "4ca7240b",
   "metadata": {},
   "outputs": [
    {
     "name": "stdout",
     "output_type": "stream",
     "text": [
      "['-1000', '-999', '-998', '-997', '-996', '-995']\n"
     ]
    }
   ],
   "source": [
    "len(c_acctbal_alphabet)\n",
    "c_acctbal_alphabet[:6]\n",
    "print(c_acctbal_alphabet[:6])"
   ]
  },
  {
   "cell_type": "code",
   "execution_count": null,
   "id": "da2f512f",
   "metadata": {},
   "outputs": [
    {
     "name": "stdout",
     "output_type": "stream",
     "text": [
      "['99000', '99001', '99002', '99003', '99004']\n"
     ]
    }
   ],
   "source": [
    "len(c_acctbal_alphabet)\n",
    "print(c_acctbal_alphabet[100000:100005])"
   ]
  },
  {
   "cell_type": "code",
   "execution_count": null,
   "id": "98ec5830",
   "metadata": {},
   "outputs": [],
   "source": [
    "customer_stats_original_db.estimate_hist_freq(c_acctbal_alphabet)"
   ]
  },
  {
   "cell_type": "code",
   "execution_count": null,
   "id": "190413b0",
   "metadata": {},
   "outputs": [
    {
     "name": "stdout",
     "output_type": "stream",
     "text": [
      "0.9951000000099985\n"
     ]
    }
   ],
   "source": [
    "freq = 0.0\n",
    "\n",
    "for i, x in enumerate(customer_stats_original_db.hist_apprx_freq):\n",
    "    freq += x * customer_stats_original_db.hist_apprx_n_distinct[i]\n",
    "\n",
    "print(freq)"
   ]
  },
  {
   "cell_type": "code",
   "execution_count": null,
   "id": "fb021f14",
   "metadata": {},
   "outputs": [],
   "source": [
    "customer_p2_stats_masked_db.estimate_hist_freq(c_acctbal_alphabet, True)"
   ]
  },
  {
   "cell_type": "code",
   "execution_count": null,
   "id": "9df05853",
   "metadata": {},
   "outputs": [
    {
     "name": "stdout",
     "output_type": "stream",
     "text": [
      "1.0000000006699998\n"
     ]
    }
   ],
   "source": [
    "freq = 0.0\n",
    "\n",
    "for x in customer_p2_stats_masked_db.most_common_freqs:\n",
    "    freq += x\n",
    "print(freq)"
   ]
  },
  {
   "cell_type": "code",
   "execution_count": null,
   "id": "4951aed0",
   "metadata": {},
   "outputs": [
    {
     "name": "stdout",
     "output_type": "stream",
     "text": [
      "0.060966127772057566\n"
     ]
    }
   ],
   "source": [
    "entropy_c_generalize_acctbal_p2 = estimate_rel_entropy(customer_stats_original_db, customer_p2_stats_masked_db)\n",
    "print(entropy_c_generalize_acctbal_p2)"
   ]
  },
  {
   "cell_type": "markdown",
   "id": "e68a1cf1",
   "metadata": {},
   "source": [
    "### c_p3 - generalizing c_acctbal - 100"
   ]
  },
  {
   "cell_type": "code",
   "execution_count": null,
   "id": "ec91c4e0",
   "metadata": {},
   "outputs": [],
   "source": [
    "size = 6001215\n",
    "# df.head()\n",
    "customer_stats_original.fillna(np.NaN, inplace=True)\n",
    "customer_p3_masked.fillna(np.NaN, inplace=True)\n",
    "# print(customer_stats_original.head())\n",
    "\n",
    "customer_stats_original[\"n_distinct\"] = customer_stats_original[\"n_distinct\"].apply(lambda x : int(x) if x >= 0 else int(x*-size))\n",
    "customer_p3_stats_masked[\"n_distinct\"] = customer_p3_stats_masked[\"n_distinct\"].apply(lambda x : int(x) if x >= 0 else int(x*-size))\n"
   ]
  },
  {
   "cell_type": "code",
   "execution_count": null,
   "id": "55b7491d",
   "metadata": {},
   "outputs": [
    {
     "data": {
      "text/plain": [
       "0.054038876325570244"
      ]
     },
     "execution_count": 128,
     "metadata": {},
     "output_type": "execute_result"
    }
   ],
   "source": [
    "p = compute_prob_dist(customer_original, ['c_acctbal'])\n",
    "q = compute_prob_dist(customer_p3_masked, ['c_acctbal'])\n",
    "\n",
    "# Convert probability distribution reverting the masking function\n",
    "# print(q)\n",
    "new_q = specification_prob(q,inverse_generalize_number_SO(100))\n",
    "#print(new_q)\n",
    "row, col = customer_original.shape\n",
    "size = row * col\n",
    "relative_entropy(p, new_q,size)"
   ]
  },
  {
   "cell_type": "code",
   "execution_count": null,
   "id": "fc5886b3",
   "metadata": {},
   "outputs": [
    {
     "data": {
      "text/html": [
       "<div>\n",
       "<style scoped>\n",
       "    .dataframe tbody tr th:only-of-type {\n",
       "        vertical-align: middle;\n",
       "    }\n",
       "\n",
       "    .dataframe tbody tr th {\n",
       "        vertical-align: top;\n",
       "    }\n",
       "\n",
       "    .dataframe thead th {\n",
       "        text-align: right;\n",
       "    }\n",
       "</style>\n",
       "<table border=\"1\" class=\"dataframe\">\n",
       "  <thead>\n",
       "    <tr style=\"text-align: right;\">\n",
       "      <th></th>\n",
       "      <th>attname</th>\n",
       "      <th>n_distinct</th>\n",
       "      <th>most_common_vals</th>\n",
       "      <th>most_common_freqs</th>\n",
       "      <th>histogram_bounds</th>\n",
       "    </tr>\n",
       "  </thead>\n",
       "  <tbody>\n",
       "    <tr>\n",
       "      <th>0</th>\n",
       "      <td>c_acctbal</td>\n",
       "      <td>10839</td>\n",
       "      <td>[1348, 1512, 7118, 846, 1251, 2493, 2564, 2979...</td>\n",
       "      <td>[0.00033333333, 0.00033333333, 0.00033333333, ...</td>\n",
       "      <td>[-1000, -883, -775, -665, -560, -442, -334, -2...</td>\n",
       "    </tr>\n",
       "    <tr>\n",
       "      <th>1</th>\n",
       "      <td>c_comment</td>\n",
       "      <td>5999414</td>\n",
       "      <td>NaN</td>\n",
       "      <td>NaN</td>\n",
       "      <td>[ Tiresias affix ideas. carefully special acco...</td>\n",
       "    </tr>\n",
       "    <tr>\n",
       "      <th>2</th>\n",
       "      <td>c_custkey</td>\n",
       "      <td>6001215</td>\n",
       "      <td>NaN</td>\n",
       "      <td>NaN</td>\n",
       "      <td>[2, 1538, 2979, 4422, 5958, 7557, 9104, 10609,...</td>\n",
       "    </tr>\n",
       "    <tr>\n",
       "      <th>3</th>\n",
       "      <td>c_address</td>\n",
       "      <td>6001215</td>\n",
       "      <td>NaN</td>\n",
       "      <td>NaN</td>\n",
       "      <td>[  1Ur sAbsaAHmBcIelil9U85KIXmyQkdyT,qop,  dNq...</td>\n",
       "    </tr>\n",
       "    <tr>\n",
       "      <th>4</th>\n",
       "      <td>c_nationkey</td>\n",
       "      <td>25</td>\n",
       "      <td>[6, 19, 17, 12, 13, 23, 18, 9, 16, 1, 20, 15, ...</td>\n",
       "      <td>[0.041366667, 0.0413, 0.0411, 0.040866666, 0.0...</td>\n",
       "      <td>NaN</td>\n",
       "    </tr>\n",
       "    <tr>\n",
       "      <th>5</th>\n",
       "      <td>c_name</td>\n",
       "      <td>6001215</td>\n",
       "      <td>NaN</td>\n",
       "      <td>NaN</td>\n",
       "      <td>[Customer#000000002, Customer#000001538, Custo...</td>\n",
       "    </tr>\n",
       "  </tbody>\n",
       "</table>\n",
       "</div>"
      ],
      "text/plain": [
       "       attname  n_distinct                                   most_common_vals  \\\n",
       "0    c_acctbal       10839  [1348, 1512, 7118, 846, 1251, 2493, 2564, 2979...   \n",
       "1    c_comment     5999414                                                NaN   \n",
       "2    c_custkey     6001215                                                NaN   \n",
       "3    c_address     6001215                                                NaN   \n",
       "4  c_nationkey          25  [6, 19, 17, 12, 13, 23, 18, 9, 16, 1, 20, 15, ...   \n",
       "5       c_name     6001215                                                NaN   \n",
       "\n",
       "                                   most_common_freqs  \\\n",
       "0  [0.00033333333, 0.00033333333, 0.00033333333, ...   \n",
       "1                                                NaN   \n",
       "2                                                NaN   \n",
       "3                                                NaN   \n",
       "4  [0.041366667, 0.0413, 0.0411, 0.040866666, 0.0...   \n",
       "5                                                NaN   \n",
       "\n",
       "                                    histogram_bounds  \n",
       "0  [-1000, -883, -775, -665, -560, -442, -334, -2...  \n",
       "1  [ Tiresias affix ideas. carefully special acco...  \n",
       "2  [2, 1538, 2979, 4422, 5958, 7557, 9104, 10609,...  \n",
       "3  [  1Ur sAbsaAHmBcIelil9U85KIXmyQkdyT,qop,  dNq...  \n",
       "4                                                NaN  \n",
       "5  [Customer#000000002, Customer#000001538, Custo...  "
      ]
     },
     "execution_count": 129,
     "metadata": {},
     "output_type": "execute_result"
    }
   ],
   "source": [
    "customer_stats_original.head(6)"
   ]
  },
  {
   "cell_type": "code",
   "execution_count": null,
   "id": "776488c6",
   "metadata": {},
   "outputs": [
    {
     "data": {
      "text/html": [
       "<div>\n",
       "<style scoped>\n",
       "    .dataframe tbody tr th:only-of-type {\n",
       "        vertical-align: middle;\n",
       "    }\n",
       "\n",
       "    .dataframe tbody tr th {\n",
       "        vertical-align: top;\n",
       "    }\n",
       "\n",
       "    .dataframe thead th {\n",
       "        text-align: right;\n",
       "    }\n",
       "</style>\n",
       "<table border=\"1\" class=\"dataframe\">\n",
       "  <thead>\n",
       "    <tr style=\"text-align: right;\">\n",
       "      <th></th>\n",
       "      <th>attname</th>\n",
       "      <th>n_distinct</th>\n",
       "      <th>most_common_vals</th>\n",
       "      <th>most_common_freqs</th>\n",
       "      <th>histogram_bounds</th>\n",
       "    </tr>\n",
       "  </thead>\n",
       "  <tbody>\n",
       "    <tr>\n",
       "      <th>0</th>\n",
       "      <td>c_custkey</td>\n",
       "      <td>6001215</td>\n",
       "      <td>None</td>\n",
       "      <td>None</td>\n",
       "      <td>[4, 1505, 3048, 4605, 6245, 7625, 9118, 10572,...</td>\n",
       "    </tr>\n",
       "    <tr>\n",
       "      <th>1</th>\n",
       "      <td>c_address</td>\n",
       "      <td>6001215</td>\n",
       "      <td>None</td>\n",
       "      <td>None</td>\n",
       "      <td>[  5Ftcw1tnQoDQ62he1J2Xn93oPjIi,  cCO9MiiVgYtV...</td>\n",
       "    </tr>\n",
       "    <tr>\n",
       "      <th>2</th>\n",
       "      <td>c_nationkey</td>\n",
       "      <td>25</td>\n",
       "      <td>[10, 9, 8, 6, 19, 3, 2, 13, 17, 15, 7, 4, 14, ...</td>\n",
       "      <td>[0.041966666, 0.041833334, 0.0417, 0.0414, 0.0...</td>\n",
       "      <td>None</td>\n",
       "    </tr>\n",
       "    <tr>\n",
       "      <th>3</th>\n",
       "      <td>c_mktsegment</td>\n",
       "      <td>5</td>\n",
       "      <td>[BUILDING  , MACHINERY , HOUSEHOLD , AUTOMOBIL...</td>\n",
       "      <td>[0.20333333, 0.1996, 0.19936667, 0.1993, 0.1984]</td>\n",
       "      <td>None</td>\n",
       "    </tr>\n",
       "    <tr>\n",
       "      <th>4</th>\n",
       "      <td>c_comment</td>\n",
       "      <td>5997614</td>\n",
       "      <td>None</td>\n",
       "      <td>None</td>\n",
       "      <td>[ Tiresias affix ideas. carefully special acco...</td>\n",
       "    </tr>\n",
       "    <tr>\n",
       "      <th>5</th>\n",
       "      <td>c_name</td>\n",
       "      <td>6001215</td>\n",
       "      <td>None</td>\n",
       "      <td>None</td>\n",
       "      <td>[Customer#000000004, Customer#000001505, Custo...</td>\n",
       "    </tr>\n",
       "  </tbody>\n",
       "</table>\n",
       "</div>"
      ],
      "text/plain": [
       "        attname  n_distinct  \\\n",
       "0     c_custkey     6001215   \n",
       "1     c_address     6001215   \n",
       "2   c_nationkey          25   \n",
       "3  c_mktsegment           5   \n",
       "4     c_comment     5997614   \n",
       "5        c_name     6001215   \n",
       "\n",
       "                                    most_common_vals  \\\n",
       "0                                               None   \n",
       "1                                               None   \n",
       "2  [10, 9, 8, 6, 19, 3, 2, 13, 17, 15, 7, 4, 14, ...   \n",
       "3  [BUILDING  , MACHINERY , HOUSEHOLD , AUTOMOBIL...   \n",
       "4                                               None   \n",
       "5                                               None   \n",
       "\n",
       "                                   most_common_freqs  \\\n",
       "0                                               None   \n",
       "1                                               None   \n",
       "2  [0.041966666, 0.041833334, 0.0417, 0.0414, 0.0...   \n",
       "3   [0.20333333, 0.1996, 0.19936667, 0.1993, 0.1984]   \n",
       "4                                               None   \n",
       "5                                               None   \n",
       "\n",
       "                                    histogram_bounds  \n",
       "0  [4, 1505, 3048, 4605, 6245, 7625, 9118, 10572,...  \n",
       "1  [  5Ftcw1tnQoDQ62he1J2Xn93oPjIi,  cCO9MiiVgYtV...  \n",
       "2                                               None  \n",
       "3                                               None  \n",
       "4  [ Tiresias affix ideas. carefully special acco...  \n",
       "5  [Customer#000000004, Customer#000001505, Custo...  "
      ]
     },
     "execution_count": 130,
     "metadata": {},
     "output_type": "execute_result"
    }
   ],
   "source": [
    "customer_p3_stats_masked.head(6)"
   ]
  },
  {
   "cell_type": "code",
   "execution_count": null,
   "id": "b1b03be4",
   "metadata": {},
   "outputs": [],
   "source": [
    "# customer_stats_original.loc[customer_stats_original[\"attname\"] == \"c_acctbal\", \"histogram_bounds\"] = customer_stats_original[customer_stats_original[\"attname\"] == \"c_acctbal\"][\"histogram_bounds\"].apply(lambda x : [float(i) for i in x])"
   ]
  },
  {
   "cell_type": "code",
   "execution_count": null,
   "id": "80d73ca7",
   "metadata": {},
   "outputs": [],
   "source": [
    "customer_stats_original_db = DB_stats(customer_stats_original, \"c_acctbal\")\n",
    "customer_p3_stats_masked_db = DB_stats(customer_p3_stats_masked, \"c_acctbal\")\n",
    "# customer_p3_stats_masked_db.perturbation()\n",
    "customer_p3_stats_masked_db.inverse_dist(inverse_generalize_number_SO(100,  1, \"{:.0f}\"))"
   ]
  },
  {
   "cell_type": "code",
   "execution_count": null,
   "id": "cb332252",
   "metadata": {},
   "outputs": [
    {
     "data": {
      "text/plain": [
       "array(['-1000', '-883', '-775', '-665', '-560', '-442', '-334', '-225',\n",
       "       '-116', '-10', '100', '214', '329', '437', '551', '656', '767',\n",
       "       '868', '979', '1094', '1194', '1301', '1411', '1516', '1620',\n",
       "       '1732', '1846', '1953', '2067', '2178', '2289', '2395', '2507',\n",
       "       '2626', '2744', '2859', '2974', '3079', '3203', '3313', '3425',\n",
       "       '3536', '3651', '3762', '3867', '3977', '4079', '4185', '4293',\n",
       "       '4405', '4521', '4631', '4750', '4864', '4974', '5077', '5186',\n",
       "       '5287', '5396', '5507', '5607', '5718', '5831', '5934', '6046',\n",
       "       '6157', '6263', '6373', '6484', '6590', '6688', '6797', '6916',\n",
       "       '7028', '7130', '7233', '7348', '7463', '7575', '7681', '7795',\n",
       "       '7911', '8025', '8130', '8240', '8348', '8454', '8565', '8682',\n",
       "       '8798', '8917', '9019', '9134', '9251', '9359', '9462', '9561',\n",
       "       '9668', '9781', '9895', '10000'], dtype='<U5')"
      ]
     },
     "execution_count": 132,
     "metadata": {},
     "output_type": "execute_result"
    }
   ],
   "source": [
    "customer_stats_original_db.histogram_bounds"
   ]
  },
  {
   "cell_type": "code",
   "execution_count": null,
   "id": "0b0c8a3e",
   "metadata": {},
   "outputs": [
    {
     "data": {
      "text/plain": [
       "array(['-1000', '-900', '-800', '-700', '-600', '-500', '-300', '-200',\n",
       "       '-100', '0', '100', '200', '300', '500', '600', '700', '800',\n",
       "       '900', '1000', '1100', '1200', '1300', '1400', '1500', '1600',\n",
       "       '1700', '1900', '2000', '2100', '2200', '2300', '2400', '2600',\n",
       "       '2700', '2800', '2900', '3000', '3100', '3200', '3300', '3400',\n",
       "       '3500', '3600', '3700', '3800', '3900', '4000', '4100', '4300',\n",
       "       '4300', '4400', '4600', '4700', '4800', '4900', '5000', '5100',\n",
       "       '5200', '5300', '5400', '5500', '5600', '5700', '5800', '6000',\n",
       "       '6100', '6200', '6300', '6400', '6500', '6700', '6800', '6900',\n",
       "       '7000', '7200', '7300', '7400', '7500', '7600', '7700', '7800',\n",
       "       '7900', '8000', '8100', '8200', '8300', '8400', '8600', '8700',\n",
       "       '8800', '8900', '9000', '9100', '9200', '9300', '9400', '9500',\n",
       "       '9600', '9700', '9800', '10000'], dtype='<U5')"
      ]
     },
     "execution_count": 133,
     "metadata": {},
     "output_type": "execute_result"
    }
   ],
   "source": [
    "customer_p3_stats_masked_db.histogram_bounds"
   ]
  },
  {
   "cell_type": "code",
   "execution_count": null,
   "id": "f1cf47f2",
   "metadata": {},
   "outputs": [],
   "source": [
    "customer_p3_stats_masked_db.inverse_histogram_bounds(inverse_generalize_number_SO(100, 1, \"{:.0f}\"))"
   ]
  },
  {
   "cell_type": "code",
   "execution_count": null,
   "id": "cfc88d47",
   "metadata": {},
   "outputs": [
    {
     "data": {
      "text/plain": [
       "array(['-1000', '-900', '-800', '-700', '-600', '-500', '-300', '-200',\n",
       "       '-100', '0', '100', '200', '300', '500', '600', '700', '800',\n",
       "       '900', '1000', '1100', '1200', '1300', '1400', '1500', '1600',\n",
       "       '1700', '1900', '2000', '2100', '2200', '2300', '2400', '2600',\n",
       "       '2700', '2800', '2900', '3000', '3100', '3200', '3300', '3400',\n",
       "       '3500', '3600', '3700', '3800', '3900', '4000', '4100', '4300',\n",
       "       '4300', '4400', '4600', '4700', '4800', '4900', '5000', '5100',\n",
       "       '5200', '5300', '5400', '5500', '5600', '5700', '5800', '6000',\n",
       "       '6100', '6200', '6300', '6400', '6500', '6700', '6800', '6900',\n",
       "       '7000', '7200', '7300', '7400', '7500', '7600', '7700', '7800',\n",
       "       '7900', '8000', '8100', '8200', '8300', '8400', '8600', '8700',\n",
       "       '8800', '8900', '9000', '9100', '9200', '9300', '9400', '9500',\n",
       "       '9600', '9700', '9800', '10099'], dtype='<U5')"
      ]
     },
     "execution_count": 136,
     "metadata": {},
     "output_type": "execute_result"
    }
   ],
   "source": [
    "customer_p3_stats_masked_db.unmsk_histogram_bounds"
   ]
  },
  {
   "cell_type": "code",
   "execution_count": null,
   "id": "ea88910c",
   "metadata": {},
   "outputs": [],
   "source": [
    "min_value = -1000\n",
    "max_value = 100000\n",
    "step = 1\n",
    "\n",
    "c_acctbal_alphabet = []\n",
    "for number in np.arange(min_value, max_value + step, step):\n",
    "        # Format the number to two decimal places\n",
    "        # formatted_number = f\"{number:.2f}\"\n",
    "        # Combine the letter with the formatted number\n",
    "        formatted_number = f\"{number}\"\n",
    "        # if formatted_number.endswith('.00'):\n",
    "        #         formatted_number = formatted_number[:-1]\n",
    "        c_acctbal_alphabet.append(formatted_number)"
   ]
  },
  {
   "cell_type": "code",
   "execution_count": null,
   "id": "d572a941",
   "metadata": {},
   "outputs": [
    {
     "name": "stdout",
     "output_type": "stream",
     "text": [
      "['-1000', '-999', '-998', '-997', '-996', '-995']\n"
     ]
    }
   ],
   "source": [
    "len(c_acctbal_alphabet)\n",
    "c_acctbal_alphabet[:6]\n",
    "print(c_acctbal_alphabet[:6])"
   ]
  },
  {
   "cell_type": "code",
   "execution_count": null,
   "id": "739f10c1",
   "metadata": {},
   "outputs": [
    {
     "name": "stdout",
     "output_type": "stream",
     "text": [
      "['99000', '99001', '99002', '99003', '99004']\n"
     ]
    }
   ],
   "source": [
    "len(c_acctbal_alphabet)\n",
    "print(c_acctbal_alphabet[100000:100005])"
   ]
  },
  {
   "cell_type": "code",
   "execution_count": null,
   "id": "368b1b2d",
   "metadata": {},
   "outputs": [],
   "source": [
    "customer_stats_original_db.estimate_hist_freq(c_acctbal_alphabet)"
   ]
  },
  {
   "cell_type": "code",
   "execution_count": null,
   "id": "6411b232",
   "metadata": {},
   "outputs": [
    {
     "name": "stdout",
     "output_type": "stream",
     "text": [
      "0.9951000000099985\n"
     ]
    }
   ],
   "source": [
    "freq = 0.0\n",
    "\n",
    "for i, x in enumerate(customer_stats_original_db.hist_apprx_freq):\n",
    "    freq += x * customer_stats_original_db.hist_apprx_n_distinct[i]\n",
    "\n",
    "print(freq)"
   ]
  },
  {
   "cell_type": "code",
   "execution_count": null,
   "id": "b039ff7c",
   "metadata": {},
   "outputs": [],
   "source": [
    "customer_p3_stats_masked_db.estimate_hist_freq(c_acctbal_alphabet, True)"
   ]
  },
  {
   "cell_type": "code",
   "execution_count": null,
   "id": "b96f7915",
   "metadata": {},
   "outputs": [
    {
     "name": "stdout",
     "output_type": "stream",
     "text": [
      "0.0307666655\n"
     ]
    }
   ],
   "source": [
    "freq = 0.0\n",
    "\n",
    "for x in customer_p3_stats_masked_db.most_common_freqs:\n",
    "    freq += x\n",
    "print(freq)"
   ]
  },
  {
   "cell_type": "code",
   "execution_count": null,
   "id": "5b3e11f5",
   "metadata": {},
   "outputs": [
    {
     "name": "stdout",
     "output_type": "stream",
     "text": [
      "0.060966127772057566\n"
     ]
    }
   ],
   "source": [
    "entropy_c_generalize_acctbal_p2 = estimate_rel_entropy(customer_stats_original_db, customer_p2_stats_masked_db)\n",
    "print(entropy_c_generalize_acctbal_p2)"
   ]
  },
  {
   "cell_type": "markdown",
   "id": "f3751f0f",
   "metadata": {},
   "source": [
    "### c_mktsegment"
   ]
  },
  {
   "cell_type": "code",
   "execution_count": null,
   "id": "d63ac0f6",
   "metadata": {},
   "outputs": [],
   "source": [
    "size = 150000\n",
    "# df.head()\n",
    "customer_stats_original.fillna(np.NaN, inplace=True)\n",
    "customer_stats_masked.fillna(np.NaN, inplace=True)\n",
    "print(customer_stats_masked.head())\n",
    "customer_stats_original[\"n_distinct\"] = customer_stats_original[\"n_distinct\"].apply(lambda x : int(x) if x >= 0 else int(x*-size))\n",
    "customer_stats_masked[\"n_distinct\"] = customer_stats_masked[\"n_distinct\"].apply(lambda x : int(x) if x >= 0 else int(x*-size))\n"
   ]
  },
  {
   "cell_type": "code",
   "execution_count": null,
   "id": "71a4b287",
   "metadata": {},
   "outputs": [],
   "source": [
    "# stats_masked.head()\n",
    "mktsegment_stats_main = DB_stats(customer_stats_original, \"c_mktsegment\")\n",
    "mktsegment_stats_masked = DB_stats(customer_stats_masked, \"c_mktsegment\")\n",
    "print(mktsegment_stats_main.dist.index)"
   ]
  },
  {
   "cell_type": "code",
   "execution_count": null,
   "id": "46415592",
   "metadata": {},
   "outputs": [],
   "source": [
    "mktsegment_stats_masked.inverse_dist(inverse_suppress_segment)\n",
    "mktsegment_stats_masked.inverse_histogram_bounds(inverse_suppress_segment)\n",
    "mktsegment_stats_main.estimate_hist_freq(inverse_suppress_segment)\n",
    "mktsegment_stats_masked.estimate_hist_freq(inverse_suppress_segment)"
   ]
  },
  {
   "cell_type": "code",
   "execution_count": null,
   "id": "a718b3a8",
   "metadata": {},
   "outputs": [],
   "source": [
    "estimate_rel_entropy(mktsegment_stats_main, mktsegment_stats_masked)"
   ]
  },
  {
   "cell_type": "code",
   "execution_count": null,
   "id": "3ce96225",
   "metadata": {},
   "outputs": [],
   "source": [
    "stats_masked"
   ]
  },
  {
   "cell_type": "code",
   "execution_count": null,
   "id": "95cfc253",
   "metadata": {},
   "outputs": [],
   "source": [
    "p = compute_prob_dist(df, ['c_mktsegment'])\n",
    "q = compute_prob_dist(customer_m1, ['c_mktsegment'])\n",
    "\n",
    "# Convert probability distribution reverting the masking function\n",
    "# print(q)\n",
    "new_q = specification_prob(q,inverse_suppress_segment)\n",
    "#print(new_q)\n",
    "row, col = df.shape\n",
    "size = row * col\n",
    "relative_entropy(p, new_q,size)"
   ]
  },
  {
   "cell_type": "code",
   "execution_count": null,
   "id": "29a48cab",
   "metadata": {},
   "outputs": [],
   "source": [
    "true_ent = 1.9408977646995316\n",
    "est_ent = 8.279417859324237\n",
    "np.abs(true_ent-est_ent)/true_ent"
   ]
  },
  {
   "cell_type": "code",
   "execution_count": null,
   "id": "72b7ff6d",
   "metadata": {},
   "outputs": [],
   "source": [
    "size = 150000\n",
    "# df.head()\n",
    "stats_main.fillna(np.NaN, inplace=True)\n",
    "stats_masked.fillna(np.NaN, inplace=True)\n",
    "print(stats_masked.head())\n",
    "stats_main[\"n_distinct\"] = stats_main[\"n_distinct\"].apply(lambda x : int(x) if x >= 0 else int(x*-size))\n",
    "stats_masked[\"n_distinct\"] = stats_masked[\"n_distinct\"].apply(lambda x : int(x) if x >= 0 else int(x*-size))\n"
   ]
  },
  {
   "cell_type": "code",
   "execution_count": null,
   "id": "1f06b4e3",
   "metadata": {},
   "outputs": [],
   "source": [
    "# stats_masked.head()\n",
    "mktsegment_stats_main = DB_stats(stats_main, \"c_mktsegment\")\n",
    "mktsegment_stats_masked = DB_stats(stats_masked, \"c_mktsegment\")\n",
    "mktsegment_stats_masked\n",
    "mktsegment_stats_masked.inverse_dist(inverse_suppress_segment)\n",
    "mktsegment_stats_masked.inverse_histogram_bounds(inverse_suppress_segment)\n",
    "mktsegment_stats_main.estimate_hist_freq(inverse_suppress_segment)\n",
    "mktsegment_stats_masked.estimate_hist_freq(inverse_suppress_segment)\n",
    "print(mktsegment_stats_main.hist_apprx_freq)"
   ]
  },
  {
   "cell_type": "code",
   "execution_count": null,
   "id": "bb3f5163",
   "metadata": {},
   "outputs": [],
   "source": [
    "estimate_rel_entropy(mktsegment_stats_main, mktsegment_stats_masked)"
   ]
  },
  {
   "cell_type": "code",
   "execution_count": null,
   "id": "d1a12498",
   "metadata": {},
   "outputs": [],
   "source": [
    "stats_masked"
   ]
  },
  {
   "cell_type": "code",
   "execution_count": null,
   "id": "0001bbe7",
   "metadata": {},
   "outputs": [],
   "source": [
    "p = compute_prob_dist(df, ['c_mktsegment'])\n",
    "q = compute_prob_dist(customer_m1, ['c_mktsegment'])\n",
    "\n",
    "# Convert probability distribution reverting the masking function\n",
    "# print(q)\n",
    "new_q = specification_prob(q,inverse_suppress_segment)\n",
    "#print(new_q)\n",
    "row, col = df.shape\n",
    "size = row * col\n",
    "relative_entropy(p, new_q,size)"
   ]
  },
  {
   "cell_type": "code",
   "execution_count": null,
   "id": "2540aa44",
   "metadata": {},
   "outputs": [],
   "source": [
    "true_ent = 1.9408977646995316\n",
    "est_ent = 8.279417859324237\n",
    "np.abs(true_ent-est_ent)/true_ent"
   ]
  },
  {
   "cell_type": "markdown",
   "id": "74c370e2",
   "metadata": {},
   "source": [
    "## orders table"
   ]
  },
  {
   "cell_type": "markdown",
   "id": "12067920",
   "metadata": {},
   "source": [
    "### order date noise"
   ]
  },
  {
   "cell_type": "markdown",
   "id": "ad2c2c26",
   "metadata": {},
   "source": [
    "#### estimating relative entropy"
   ]
  },
  {
   "cell_type": "code",
   "execution_count": null,
   "id": "e3264a8a",
   "metadata": {},
   "outputs": [],
   "source": [
    "size = 150000\n",
    "# df.head()\n",
    "orders_stats_original.fillna(np.NaN, inplace=True)\n",
    "orders_stats_masked_p1.fillna(np.NaN, inplace=True)\n",
    "\n",
    "orders_stats_original[\"n_distinct\"] = orders_stats_original[\"n_distinct\"].apply(lambda x : int(x) if x >= 0 else int(x*-size))\n",
    "orders_stats_masked_p1[\"n_distinct\"] = orders_stats_masked_p2[\"n_distinct\"].apply(lambda x : int(x) if x >= 0 else int(x*-size))"
   ]
  },
  {
   "cell_type": "code",
   "execution_count": null,
   "id": "84da9989",
   "metadata": {},
   "outputs": [],
   "source": [
    "o_orderdate_stats_original = DB_stats(orders_stats_original, \"o_orderdate\")"
   ]
  },
  {
   "cell_type": "code",
   "execution_count": null,
   "id": "4ed319df",
   "metadata": {},
   "outputs": [],
   "source": [
    "o_orderdate_stats_p1 = DB_stats(orders_stats_masked_p1, \"o_orderdate\")"
   ]
  },
  {
   "cell_type": "code",
   "execution_count": null,
   "id": "949759dd",
   "metadata": {},
   "outputs": [],
   "source": [
    "# o_orderdate_stats_p1.perturbation()\n",
    "o_orderdate_stats_original.perturbation()\n",
    "# o_orderdate_stats_p1.inverse_dist(inverse_noise_date_SO(\"DAYS\", 10))\n",
    "# print(o_orderdate_stats_p1.unmsk_dist)\n",
    "o_orderdate_stats_p1.inverse_histogram_bounds(inverse_noise_date_SO(\"DAYS\", 10))\n",
    "# for x in o_orderdate_stats_p1.unmsk_dist:\n",
    "#     print (x)\n",
    "# o_orderdate_stats_p1.unmsk_dist\n",
    "print(o_orderdate_stats_p1.unmsk_dist)\n",
    "print(o_orderdate_stats_original.unmsk_dist)\n",
    "# for x in o_orderdate_stats_p1.unmsk_dist['1996-03-10'].keys():\n",
    "#     print (type(x))\n"
   ]
  },
  {
   "cell_type": "code",
   "execution_count": null,
   "id": "c3026797",
   "metadata": {},
   "outputs": [],
   "source": [
    "entropy_o_noise_date_p1 = estimate_rel_entropy(o_orderdate_stats_original, o_orderdate_stats_p1)\n",
    "print(entropy_o_noise_date_p1)"
   ]
  },
  {
   "cell_type": "code",
   "execution_count": null,
   "id": "97b75a97",
   "metadata": {},
   "outputs": [],
   "source": [
    "print(all_dates)"
   ]
  },
  {
   "cell_type": "code",
   "execution_count": null,
   "id": "dc1216a9",
   "metadata": {},
   "outputs": [],
   "source": [
    "o_orderdate_stats_p1.estimate_hist_freq(all_dates)"
   ]
  },
  {
   "cell_type": "code",
   "execution_count": null,
   "id": "b75fad82",
   "metadata": {},
   "outputs": [],
   "source": [
    "o_orderdate_stats_p1.hist_apprx_freq\n",
    "print(o_orderdate_stats_p1.hist_apprx_freq)"
   ]
  },
  {
   "cell_type": "code",
   "execution_count": null,
   "id": "4d4624e7",
   "metadata": {},
   "outputs": [],
   "source": [
    "print(o_orderdate_stats_p1.unmsk_histogram_bounds)"
   ]
  },
  {
   "cell_type": "code",
   "execution_count": null,
   "id": "d668c593",
   "metadata": {},
   "outputs": [],
   "source": [
    "print(o_orderdate_stats_p1.unmsk_most_common_freqs)\n",
    "print(o_orderdate_stats_p1.unmsk_most_common_vals)\n",
    "print(o_orderdate_stats_p1.unmsk_dist)\n",
    "print(o_orderdate_stats_p1.unmsk_histogram_bounds)"
   ]
  },
  {
   "cell_type": "code",
   "execution_count": null,
   "id": "492c2b64",
   "metadata": {},
   "outputs": [],
   "source": [
    "estimate_rel_entropy(ordersdate_stats_main, ordersdate_stats_masked)"
   ]
  },
  {
   "cell_type": "markdown",
   "id": "1be2e8c5",
   "metadata": {},
   "source": [
    "### order date generalization"
   ]
  },
  {
   "cell_type": "markdown",
   "id": "0928cea3",
   "metadata": {},
   "source": [
    "#### estimating relative entropy"
   ]
  },
  {
   "cell_type": "code",
   "execution_count": null,
   "id": "e6553050",
   "metadata": {},
   "outputs": [],
   "source": [
    "size = 150000\n",
    "# df.head()\n",
    "orders_stats_original.fillna(np.NaN, inplace=True)\n",
    "orders_stats_masked_p2.fillna(np.NaN, inplace=True)\n",
    "\n",
    "orders_stats_original[\"n_distinct\"] = orders_stats_original[\"n_distinct\"].apply(lambda x : int(x) if x >= 0 else int(x*-size))\n",
    "orders_stats_masked_p2[\"n_distinct\"] = orders_stats_masked_p2[\"n_distinct\"].apply(lambda x : int(x) if x >= 0 else int(x*-size))"
   ]
  },
  {
   "cell_type": "code",
   "execution_count": null,
   "id": "05007e47",
   "metadata": {},
   "outputs": [],
   "source": [
    "from datetime import datetime, timedelta\n",
    "\n",
    "def generate_date_range(start_date_str, end_date_str):\n",
    "    \"\"\"\n",
    "    Generate all dates between two given dates (inclusive).\n",
    "\n",
    "    Args:\n",
    "        start_date_str (str): The start date in \"YYYY-MM-DD\" format.\n",
    "        end_date_str (str): The end date in \"YYYY-MM-DD\" format.\n",
    "\n",
    "    Returns:\n",
    "        list: A list of dates as strings in \"YYYY-MM-DD\" format.\n",
    "    \"\"\"\n",
    "    try:\n",
    "        # Convert string dates to datetime objects\n",
    "        start_date = datetime.strptime(start_date_str, \"%Y-%m-%d\")\n",
    "        end_date = datetime.strptime(end_date_str, \"%Y-%m-%d\")\n",
    "\n",
    "        # Check if the start date is before or the same as the end date\n",
    "        if start_date > end_date:\n",
    "            raise ValueError(\"The start date must be before or the same as the end date.\")\n",
    "\n",
    "        # Generate the list of dates\n",
    "        current_date = start_date\n",
    "        date_list = []\n",
    "        while current_date <= end_date:\n",
    "            date_list.append(current_date.strftime(\"%Y-%m-%d\"))\n",
    "            current_date += timedelta(days=1)  # Move to the next day\n",
    "\n",
    "        return date_list\n",
    "    \n",
    "    except ValueError as e:\n",
    "        raise ValueError(f\"Date error: {e}\")\n",
    "\n",
    "# Example usage\n",
    "start_date = \"1992-01-01\"\n",
    "end_date = \"1998-08-02\"\n",
    "all_dates = generate_date_range(start_date, end_date)"
   ]
  },
  {
   "cell_type": "code",
   "execution_count": null,
   "id": "2bc3a49c",
   "metadata": {},
   "outputs": [
    {
     "name": "stdout",
     "output_type": "stream",
     "text": [
      "['1994-12-21', '1998-02-04', '1993-10-19', '1998-07-06', '1993-08-22', '1998-03-23', '1995-08-18', '1992-07-14', '1995-07-21', '1992-03-14', '1995-01-15', '1993-04-13', '1994-12-10', '1997-08-16', '1998-01-10', '1994-05-02', '1994-03-26', '1993-07-31', '1997-07-22', '1992-03-26', '1993-01-23', '1994-07-21', '1998-06-04', '1992-09-15', '1997-10-19', '1993-05-13', '1998-07-17', '1996-02-25', '1998-03-21', '1994-05-18', '1992-06-15', '1998-05-06', '1996-08-16', '1993-02-12', '1998-02-19', '1997-07-06', '1995-06-20', '1995-01-26', '1994-04-06', '1996-07-21', '1992-06-29', '1995-05-28', '1994-05-22', '1993-06-19', '1998-02-26', '1994-04-14', '1993-11-20', '1992-04-02', '1993-01-21', '1998-07-11', '1993-03-12', '1998-07-30', '1993-08-28', '1994-10-13', '1996-09-05', '1996-07-11', '1993-02-05', '1992-08-12', '1993-01-15', '1993-03-14', '1995-12-20', '1995-11-16', '1995-09-18', '1992-07-08', '1992-06-01', '1994-06-25', '1996-05-24', '1993-06-26', '1997-04-03', '1995-01-18', '1995-09-09', '1992-04-15', '1998-04-25', '1998-04-23', '1995-10-16', '1998-06-21', '1997-03-28', '1996-10-27', '1997-04-14', '1998-05-08', '1997-08-25', '1997-02-27', '1998-04-26', '1994-02-17', '1994-07-07', '1998-07-18', '1992-02-29', '1992-08-23', '1994-04-07', '1995-05-20', '1994-01-24', '1997-05-30', '1996-08-14', '1998-07-02', '1998-04-27', '1995-04-01', '1993-10-22', '1994-11-27', '1992-08-10', '1993-12-01', '1992-10-22', '1996-03-01', '1994-01-02', '1997-07-01', '1997-05-12', '1998-04-21', '1993-11-21', '1997-03-15', '1994-11-10', '1997-10-01', '1994-06-19', '1998-06-23', '1995-05-16', '1998-06-11', '1996-07-24', '1994-04-09', '1998-06-01', '1996-04-21', '1995-07-09', '1994-07-16', '1992-05-08', '1994-07-25', '1993-08-16', '1995-04-20', '1995-07-19', '1994-10-07', '1992-02-13', '1996-04-05', '1995-12-08', '1994-04-02', '1992-02-08', '1993-09-11', '1993-07-05', '1997-10-07', '1993-09-19', '1992-03-07', '1992-03-27', '1994-08-02', '1996-10-11', '1996-01-02', '1992-10-16', '1996-08-27', '1992-09-01', '1994-04-24', '1996-01-04', '1992-11-03', '1994-11-23', '1995-03-31', '1996-11-24', '1997-07-03', '1993-04-26', '1997-10-06', '1994-05-29', '1995-02-18', '1996-01-08', '1998-05-01', '1995-12-16', '1992-09-16', '1995-04-12', '1992-05-27', '1995-03-28', '1996-06-13', '1993-09-18', '1993-07-26', '1994-02-13', '1998-07-21', '1995-03-10', '1996-10-31', '1997-06-09', '1997-05-22', '1995-06-06', '1996-03-27', '1995-04-29', '1993-11-06', '1992-10-19', '1998-04-11', '1996-07-25', '1992-12-03', '1996-08-30', '1995-10-29', '1998-01-05', '1995-05-02', '1997-06-03', '1998-03-09', '1997-07-21', '1995-06-25', '1994-05-19', '1996-12-17', '1994-12-18', '1995-06-16', '1993-04-03', '1997-04-17', '1993-10-29', '1995-05-23', '1994-02-16', '1994-09-20', '1992-02-04', '1994-04-01', '1993-02-02', '1993-01-25', '1994-12-16', '1995-03-19', '1995-07-20', '1996-06-06', '1994-07-14', '1994-11-09', '1997-10-30', '1997-02-16', '1992-11-15', '1993-10-27', '1997-02-18', '1996-08-03', '1996-07-14', '1997-01-26', '1995-04-26', '1997-04-20', '1997-07-02', '1998-04-01', '1992-05-10', '1998-06-07', '1995-02-16', '1997-01-15', '1996-05-25', '1993-07-18', '1994-08-29', '1993-09-15', '1992-02-09', '1997-08-08', '1993-05-09', '1993-11-15', '1992-03-10', '1993-11-12', '1993-06-24', '1996-05-10', '1998-07-24', '1994-03-19', '1992-11-21', '1993-11-13', '1992-06-23', '1993-05-17', '1997-09-23', '1995-10-23', '1996-01-27', '1994-10-16', '1995-03-23', '1993-08-21', '1998-02-13', '1996-02-15', '1992-11-10', '1993-06-03', '1998-03-18', '1996-08-13', '1992-06-12', '1994-06-07', '1998-04-06', '1995-01-22', '1993-04-30', '1993-11-11', '1994-07-12', '1997-04-18', '1992-05-19', '1995-05-10', '1995-02-15', '1996-09-13', '1992-12-23', '1994-01-10', '1993-05-12', '1998-04-10', '1992-08-15', '1994-09-21', '1994-07-17', '1992-10-25', '1995-09-13', '1994-02-01', '1992-12-09', '1998-02-02', '1998-02-12', '1998-05-18', '1998-07-04', '1993-04-01', '1993-10-12', '1998-04-14', '1995-09-03', '1997-09-10', '1996-02-17', '1994-04-15', '1998-03-14', '1998-02-11', '1995-05-26', '1993-11-24', '1997-09-13', '1993-08-12', '1997-11-21', '1997-11-14', '1994-03-30', '1995-10-27', '1994-08-12', '1998-06-15', '1994-05-28', '1992-03-23', '1995-08-16', '1993-12-05', '1993-10-10', '1997-02-24', '1992-04-22', '1997-01-08', '1998-06-14', '1994-04-18', '1994-11-14', '1993-03-10', '1994-11-08', '1995-12-26', '1994-09-01', '1997-12-23', '1994-01-17', '1995-08-15', '1996-06-24', '1992-02-05', '1995-04-14', '1996-10-05', '1995-07-25', '1994-09-06', '1992-05-16', '1996-09-25', '1996-06-14', '1992-07-10', '1993-04-22', '1996-01-12', '1994-02-05', '1994-03-21', '1993-08-19', '1995-09-11', '1994-12-08', '1992-04-01', '1993-12-19', '1992-10-14', '1992-08-04', '1996-11-03', '1994-10-17', '1993-02-21', '1995-01-02', '1996-04-02', '1992-04-08', '1993-10-03', '1993-08-10', '1994-01-18', '1994-07-08', '1998-01-31', '1994-12-12', '1994-03-27', '1994-10-26', '1992-08-18', '1996-04-20', '1992-06-26', '1997-08-15', '1996-01-10', '1994-01-04', '1993-09-23', '1997-11-01', '1997-01-30', '1992-08-26', '1994-06-11', '1995-07-15', '1993-06-05', '1992-04-23', '1996-07-18', '1995-02-28', '1995-08-13', '1993-01-22', '1993-03-18', '1996-03-22', '1992-07-20', '1998-06-13', '1994-12-07', '1995-10-11', '1992-02-07', '1996-03-18', '1996-12-20', '1994-12-22', '1996-10-18', '1994-01-23', '1997-08-07', '1992-02-06', '1996-12-10', '1998-03-20', '1996-03-10', '1998-01-09', '1998-01-13', '1992-02-24', '1998-03-04', '1994-09-27', '1994-06-21', '1997-12-08', '1996-08-07', '1994-03-28', '1997-05-07', '1998-01-23', '1995-10-21', '1997-05-27', '1996-03-13', '1996-03-03', '1993-03-01', '1998-01-18', '1997-11-02', '1996-10-14', '1993-04-16', '1993-02-19', '1995-02-14', '1994-02-26', '1993-06-27', '1996-03-04', '1997-12-10', '1993-07-03', '1996-11-19', '1995-12-06', '1997-01-22', '1998-03-03', '1996-08-22', '1992-11-26', '1994-10-20', '1994-10-03', '1997-05-03', '1994-10-01', '1994-03-13', '1992-06-25', '1993-12-17', '1998-01-22', '1994-10-30', '1998-04-28', '1993-11-28', '1996-04-22', '1995-09-01', '1994-08-19', '1996-01-31', '1993-10-02', '1994-10-04', '1996-09-16', '1993-12-11', '1996-03-25', '1992-06-06', '1998-07-03', '1992-09-19', '1995-06-21', '1996-06-28', '1992-06-30', '1995-05-15', '1992-12-22', '1996-04-16', '1996-08-24', '1997-11-17', '1993-12-09', '1995-03-04', '1993-12-10', '1992-03-12', '1993-09-16', '1993-09-28', '1996-12-01', '1994-08-06', '1995-07-05', '1994-07-01', '1994-02-06', '1994-10-14', '1997-07-27', '1996-11-16', '1995-11-02', '1995-03-11', '1994-05-07', '1994-09-30', '1994-06-10', '1996-08-28', '1996-02-04', '1996-09-14', '1995-11-11', '1993-03-06', '1992-11-13', '1992-04-06', '1994-04-05', '1994-03-18', '1997-07-31', '1995-08-10', '1992-01-29', '1994-12-27', '1994-12-01', '1998-06-03', '1993-05-26', '1998-04-02', '1992-11-02', '1996-04-17', '1996-02-20', '1996-04-11', '1994-11-30', '1993-11-07', '1998-01-02', '1993-01-09', '1998-08-02', '1995-11-01', '1996-12-03', '1992-02-17', '1997-12-04', '1996-12-06', '1992-10-08', '1998-05-16', '1993-02-07', '1992-08-31', '1995-05-09', '1997-07-10', '1997-01-17', '1995-03-03', '1996-02-18', '1997-06-13', '1997-01-13', '1995-11-09', '1992-12-16', '1997-07-29', '1994-11-07', '1994-09-10', '1996-12-14', '1996-01-13', '1994-12-19', '1993-04-27', '1992-03-25', '1994-09-18', '1994-04-13', '1995-07-10', '1996-10-21', '1994-11-18', '1992-07-16', '1994-11-22', '1997-01-12', '1994-04-27', '1995-04-11', '1997-09-19', '1994-09-23', '1998-04-24', '1998-06-26', '1995-04-15', '1994-09-14', '1996-08-19', '1998-01-03', '1996-04-27', '1994-08-22', '1992-05-06', '1995-12-18', '1992-08-08', '1994-08-31', '1992-10-20', '1995-12-29', '1996-06-07', '1997-08-20', '1997-11-30', '1997-05-18', '1997-07-26', '1996-09-29', '1998-03-15', '1992-02-03', '1998-01-27', '1992-06-22', '1997-09-25', '1995-10-18', '1997-02-14', '1997-11-09', '1996-02-05', '1994-11-17', '1995-07-23', '1993-02-13', '1993-02-22', '1994-01-15', '1998-07-25', '1993-05-05', '1996-11-09', '1997-03-07', '1996-05-18', '1992-09-24', '1992-03-06', '1996-03-14', '1993-03-25', '1997-01-01', '1992-09-02', '1996-03-11', '1996-01-28', '1996-10-30', '1996-09-19', '1993-05-28', '1997-09-12', '1996-10-03', '1993-10-25', '1994-04-10', '1994-10-31', '1997-06-18', '1996-09-21', '1997-03-20', '1994-08-07', '1994-11-02', '1996-11-21', '1996-10-28', '1997-08-06', '1995-06-15', '1995-12-23', '1994-12-04', '1994-10-05', '1996-01-18', '1996-01-25', '1995-03-05', '1994-11-11', '1996-02-03', '1996-11-20', '1993-01-20', '1996-07-28', '1996-07-22', '1995-09-15', '1993-10-15', '1995-06-26', '1993-03-07', '1996-01-01', '1996-10-07', '1993-08-17', '1998-06-08', '1994-09-02', '1998-03-02', '1997-04-04', '1993-04-18', '1993-09-01', '1993-05-16', '1997-03-04', '1995-01-14', '1998-01-16', '1996-10-06', '1997-03-21', '1995-05-14', '1995-05-30', '1992-10-09', '1992-07-27', '1995-12-10', '1993-08-01', '1998-03-06', '1998-04-29', '1994-03-03', '1995-04-08', '1997-03-14', '1993-07-24', '1994-12-03', '1993-12-04', '1992-10-10', '1997-05-31', '1997-07-11', '1998-06-16', '1997-07-20', '1994-07-15', '1994-03-05', '1992-08-13', '1994-03-14', '1996-01-26', '1992-01-18', '1993-02-20', '1997-06-30', '1996-06-27', '1996-11-07', '1993-06-12', '1996-06-04', '1993-05-06', '1994-02-28', '1995-10-13', '1995-08-22', '1994-07-23', '1998-01-01', '1994-04-08', '1997-11-29', '1992-12-21', '1994-05-08', '1995-01-31', '1997-03-30', '1997-10-20', '1994-10-29', '1992-10-23', '1995-01-10', '1994-02-02', '1995-08-12', '1994-05-14', '1993-09-14', '1994-08-14', '1995-09-04', '1992-11-14', '1993-03-09', '1997-02-04', '1995-10-10', '1995-11-20', '1995-04-07', '1994-10-23', '1992-08-01', '1996-10-10', '1993-01-31', '1993-07-04', '1995-05-24', '1993-05-25', '1996-07-08', '1998-07-08', '1994-07-06', '1994-11-12', '1995-01-20', '1992-01-17', '1996-11-28', '1992-12-25', '1996-12-21', '1997-07-18', '1993-11-25', '1994-12-17', '1994-05-24', '1996-03-19', '1997-08-29', '1992-04-27', '1997-10-31', '1997-04-11', '1996-12-31', '1992-01-08', '1997-02-22', '1992-01-27', '1992-05-23', '1992-04-13', '1997-10-21', '1998-04-19', '1992-01-16', '1994-02-15', '1995-08-07', '1994-01-25', '1992-11-20', '1992-05-17', '1994-06-03', '1993-02-11', '1997-06-28', '1997-07-16', '1997-12-16', '1996-05-20', '1993-01-17', '1993-12-15', '1995-01-25', '1992-11-09', '1997-05-24', '1998-05-21', '1997-03-08', '1992-07-06', '1993-11-03', '1993-05-04', '1994-09-17', '1994-06-08', '1995-07-24', '1996-02-27', '1995-10-03', '1993-05-15', '1995-12-11', '1992-06-28', '1998-02-22', '1997-12-14', '1997-08-17', '1996-11-05', '1993-10-31', '1995-02-09', '1993-02-03', '1995-04-13', '1992-04-18', '1993-11-23', '1994-10-21', '1998-06-05', '1994-01-06', '1994-08-13', '1993-01-30', '1997-04-19', '1994-06-24', '1998-07-05', '1992-04-24', '1993-03-17', '1993-11-02', '1993-05-31', '1998-02-21', '1997-09-24', '1994-05-10', '1994-07-04', '1997-02-02', '1993-07-30', '1995-11-14', '1992-04-30', '1996-11-08', '1995-01-09', '1994-12-24', '1997-05-20', '1994-03-17', '1995-07-22', '1994-10-11', '1993-08-18', '1993-08-14', '1994-04-23', '1995-05-01', '1995-05-27', '1995-07-04', '1996-11-13', '1993-02-14', '1993-03-29', '1993-04-05', '1994-05-04', '1992-11-12', '1997-06-20', '1993-06-20', '1994-06-22', '1995-07-27', '1994-02-20', '1994-05-05', '1993-08-03', '1996-08-05', '1993-05-03', '1993-06-15', '1996-05-28', '1994-07-30', '1994-06-14', '1992-07-01', '1996-12-24', '1996-02-29', '1996-08-15', '1993-09-17', '1992-08-17', '1997-10-28', '1995-08-28', '1994-01-20', '1993-07-16', '1993-12-13', '1996-07-23', '1996-04-10', '1997-02-20', '1994-04-28', '1993-08-09', '1995-02-07', '1995-06-02', '1992-01-31', '1998-07-12', '1997-10-23', '1998-07-09', '1993-04-07', '1992-05-14', '1994-05-25', '1995-12-21', '1996-05-22', '1993-03-24', '1993-11-10', '1995-08-19', '1995-03-18', '1995-03-01', '1993-09-03', '1996-04-25', '1992-02-18', '1993-07-09', '1993-03-04', '1997-06-11', '1994-01-08', '1994-12-23', '1996-06-17', '1994-08-17', '1993-02-01', '1995-10-28', '1993-03-27', '1996-05-12', '1992-12-10', '1996-05-09', '1995-04-28', '1993-06-30', '1993-04-11', '1995-04-06', '1998-03-07', '1998-01-30', '1996-06-05', '1996-08-23', '1993-07-22', '1995-09-23', '1994-10-06', '1992-03-04', '1997-03-09', '1995-02-12', '1993-11-18', '1993-03-22', '1998-07-28', '1993-06-11', '1997-10-12', '1992-07-29', '1994-07-31', '1995-12-02', '1992-05-29', '1995-12-31', '1994-12-26', '1994-06-20', '1992-09-29', '1997-12-05', '1992-07-12', '1994-09-05', '1992-03-09', '1997-08-10', '1994-01-01', '1992-04-26', '1996-09-08', '1997-06-22', '1993-10-18', '1997-09-20', '1996-11-14', '1995-07-13', '1996-08-26', '1996-06-23', '1997-08-26', '1998-01-14', '1994-03-12', '1995-10-26', '1993-05-07', '1992-09-12', '1996-03-02', '1998-07-22', '1997-08-30', '1997-03-19', '1994-01-26', '1995-12-19', '1993-08-02', '1992-11-01', '1997-09-22', '1996-06-30', '1994-03-24', '1992-11-16', '1996-01-20', '1996-12-19', '1995-08-20', '1992-03-24', '1997-05-04', '1993-06-21', '1995-07-16', '1998-04-20', '1995-05-03', '1995-03-07', '1994-01-14', '1994-09-28', '1993-11-27', '1995-11-15', '1996-07-26', '1994-03-25', '1993-10-16', '1997-01-05', '1996-12-30', '1992-11-29', '1993-04-10', '1996-09-12', '1995-08-06', '1995-09-30', '1994-05-01', '1992-05-09', '1995-06-29', '1992-10-03', '1996-08-08', '1995-08-02', '1994-02-22', '1994-11-03', '1993-02-24', '1995-04-17', '1998-03-31', '1993-06-22', '1997-03-05', '1996-02-01', '1998-07-16', '1993-10-08', '1997-09-04', '1995-08-30', '1998-01-26', '1995-07-26', '1994-02-11', '1995-09-25', '1995-11-22', '1994-01-22', '1993-08-30', '1994-06-29', '1997-09-01', '1996-03-31', '1996-06-10', '1995-11-29', '1992-08-22', '1993-04-06', '1996-05-30', '1997-01-16', '1996-05-11', '1994-06-30', '1993-02-06', '1996-05-07', '1992-05-04', '1994-05-11', '1996-09-22', '1994-11-21', '1993-02-17', '1992-01-20', '1995-09-26', '1996-09-20', '1997-01-24', '1993-07-21', '1994-05-12', '1996-06-02', '1997-04-09', '1998-06-30', '1998-06-12', '1995-03-22', '1996-04-30', '1997-02-07', '1995-06-07', '1993-01-19', '1994-01-21', '1995-11-03', '1997-11-18', '1992-08-05', '1994-07-05', '1992-12-26', '1993-09-02', '1995-06-19', '1993-07-25', '1994-06-02', '1994-11-24', '1997-10-26', '1992-01-13', '1995-12-07', '1996-06-18', '1997-06-05', '1993-02-18', '1993-05-02', '1997-06-16', '1997-02-19', '1992-06-20', '1998-06-06', '1993-12-08', '1993-04-23', '1994-07-20', '1995-10-02', '1996-03-09', '1996-03-20', '1992-09-13', '1996-12-26', '1993-09-05', '1996-10-04', '1993-04-08', '1996-06-01', '1992-02-02', '1993-08-23', '1994-12-28', '1996-07-15', '1995-10-17', '1993-02-16', '1993-07-02', '1992-05-12', '1996-04-15', '1996-10-22', '1993-05-20', '1997-05-06', '1997-11-10', '1997-04-23', '1998-06-22', '1995-02-22', '1997-06-08', '1993-01-16', '1997-04-28', '1992-04-21', '1992-09-03', '1993-05-23', '1997-01-23', '1992-09-28', '1995-11-06', '1992-01-22', '1998-02-08', '1994-03-06', '1993-04-17', '1996-01-03', '1992-01-06', '1997-08-11', '1997-02-12', '1992-12-11', '1995-05-18', '1992-11-06', '1996-01-06', '1993-07-23', '1996-12-11', '1996-05-14', '1997-09-28', '1995-10-09', '1994-08-04', '1996-03-26', '1993-08-25', '1996-08-02', '1998-04-12', '1996-06-12', '1997-11-27', '1997-11-19', '1994-09-09', '1993-11-01', '1996-02-11', '1995-09-06', '1995-05-08', '1992-09-04', '1992-05-31', '1995-06-30', '1995-04-30', '1994-09-25', '1998-01-15', '1997-12-01', '1994-07-28', '1996-03-05', '1992-10-11', '1994-11-13', '1993-01-27', '1993-10-01', '1992-03-05', '1994-05-17', '1994-11-20', '1992-02-20', '1996-10-02', '1998-07-23', '1993-01-03', '1997-09-15', '1994-08-01', '1992-05-11', '1995-06-11', '1993-07-19', '1992-09-08', '1992-04-07', '1993-01-14', '1996-02-10', '1996-12-18', '1997-03-22', '1995-07-11', '1992-08-14', '1994-03-04', '1994-06-17', '1993-07-17', '1997-12-31', '1995-12-12', '1993-04-21', '1996-10-19', '1992-10-31', '1998-07-15', '1993-11-17', '1996-10-01', '1995-03-17', '1994-08-23', '1997-10-08', '1994-02-19', '1994-03-09', '1997-09-17', '1998-07-14', '1993-03-15', '1993-10-11', '1994-07-27', '1992-05-15', '1993-03-19', '1997-10-10', '1997-05-14', '1997-07-05', '1992-01-09', '1995-08-08', '1998-02-14', '1992-04-19', '1992-07-30', '1992-06-05', '1992-07-31', '1996-06-21', '1998-05-04', '1998-04-08', '1996-05-21', '1993-07-01', '1994-02-08', '1995-04-05', '1992-05-05', '1997-04-25', '1997-08-23', '1997-05-11', '1995-07-31', '1994-01-05', '1994-06-26', '1998-02-24', '1994-08-30', '1996-09-01', '1992-02-12', '1995-05-07', '1994-06-28', '1993-10-05', '1997-08-13', '1994-07-03', '1992-06-02', '1997-12-12', '1993-12-24', '1992-12-07', '1996-08-17', '1997-03-29', '1996-05-06', '1997-09-05', '1997-08-24', '1993-05-27', '1996-04-26', '1996-01-30', '1995-11-28', '1994-08-08', '1997-06-21', '1992-10-28', '1997-11-25', '1998-03-11', '1993-10-23', '1992-07-11', '1992-04-04', '1993-12-30', '1998-06-29', '1994-08-25', '1992-10-17', '1995-04-22', '1997-12-09', '1996-08-11', '1995-08-14', '1993-03-30', '1998-01-11', '1993-01-04', '1993-11-09', '1994-07-22', '1995-01-27', '1994-01-29', '1993-09-08', '1994-08-16', '1993-08-31', '1994-06-18', '1993-04-09', '1995-03-30', '1993-07-15', '1996-08-31', '1995-12-22', '1993-06-25', '1996-12-22', '1994-01-31', '1996-03-24', '1994-01-30', '1993-10-07', '1993-11-08', '1997-04-15', '1992-01-15', '1996-12-23', '1995-08-04', '1996-08-06', '1993-02-23', '1994-03-10', '1993-02-09', '1992-09-23', '1995-01-30', '1997-09-16', '1993-08-04', '1992-11-23', '1997-10-27', '1993-09-30', '1994-08-27', '1995-03-12', '1994-07-02', '1992-05-07', '1997-10-05', '1996-01-24', '1992-12-19', '1996-11-10', '1992-08-24', '1995-12-28', '1993-08-13', '1992-10-13', '1993-08-05', '1998-04-30', '1997-12-30', '1996-04-01', '1996-11-17', '1997-07-25', '1994-12-20', '1993-08-20', '1997-05-10', '1994-07-24', '1993-03-28', '1994-07-19', '1995-09-28', '1995-02-03', '1997-10-24', '1997-07-07', '1997-09-11', '1995-10-19', '1994-06-15', '1997-01-28', '1997-01-18', '1996-01-15', '1992-06-24', '1993-05-18', '1993-07-12', '1996-02-14', '1995-04-02', '1994-09-22', '1997-09-08', '1997-06-04', '1998-07-26', '1992-02-21', '1992-02-25', '1994-10-28', '1998-01-29', '1995-07-30', '1992-03-13', '1997-12-22', '1995-08-24', '1993-05-10', '1997-10-09', '1997-01-11', '1997-02-17', '1996-03-17', '1998-05-25', '1993-10-21', '1994-11-15', '1993-06-08', '1996-09-24', '1997-08-02', '1993-09-24', '1996-01-17', '1994-08-20', '1997-03-03', '1995-05-06', '1992-09-30', '1994-12-15', '1995-08-29', '1993-08-15', '1995-12-24', '1995-12-04', '1993-04-04', '1995-10-06', '1996-09-27', '1992-01-11', '1997-12-24', '1995-02-24', '1993-05-21', '1997-06-27', '1995-06-18', '1998-05-15', '1992-07-18', '1995-01-11', '1996-07-10', '1997-05-13', '1997-03-17', '1997-04-24', '1995-05-12', '1998-07-20', '1998-07-19', '1994-04-25', '1994-07-26', '1997-04-16', '1995-05-31', '1998-03-01', '1996-10-08', '1995-07-14', '1992-12-28', '1996-06-11', '1992-02-01', '1994-01-19', '1998-04-13', '1994-10-25', '1995-12-27', '1992-11-24', '1998-07-29', '1992-03-20', '1992-11-30', '1996-12-08', '1994-03-01', '1995-04-23', '1995-10-25', '1994-06-04', '1993-12-22', '1994-08-24', '1998-01-08', '1993-06-09', '1994-10-22', '1997-07-12', '1995-11-05', '1992-08-25', '1996-11-06', '1995-04-24', '1992-04-20', '1994-09-13', '1998-05-07', '1998-02-20', '1996-12-04', '1994-11-06', '1997-07-13', '1998-07-13', '1995-01-29', '1992-07-19', '1992-03-03', '1996-09-28', '1992-05-24', '1994-10-27', '1996-11-12', '1995-12-25', '1997-06-19', '1993-08-07', '1992-12-02', '1995-01-19', '1992-02-26', '1992-07-07', '1995-04-19', '1996-10-16', '1994-05-09', '1993-06-18', '1996-05-16', '1997-04-27', '1996-06-08', '1995-02-19', '1994-01-03', '1995-04-25', '1997-10-16', '1997-03-26', '1994-03-02', '1995-06-03', '1998-05-22', '1996-06-15', '1992-10-21', '1998-02-06', '1997-02-06', '1996-03-07', '1994-08-05', '1995-01-28', '1998-06-27', '1992-09-11', '1997-01-21', '1994-05-03', '1993-01-10', '1993-04-29', '1994-04-04', '1993-11-29', '1996-10-09', '1992-10-06', '1996-10-29', '1994-01-13', '1992-03-16', '1995-02-27', '1995-09-29', '1992-09-20', '1996-11-18', '1993-06-07', '1995-10-31', '1992-05-30', '1995-11-04', '1995-09-21', '1998-04-17', '1997-01-20', '1993-09-07', '1992-06-27', '1995-10-01', '1996-06-03', '1993-12-23', '1994-12-02', '1992-06-03', '1997-12-07', '1995-10-30', '1997-01-02', '1992-04-12', '1994-08-10', '1996-11-15', '1997-07-04', '1993-02-25', '1997-06-12', '1996-03-28', '1997-09-06', '1997-12-28', '1995-12-01', '1994-09-03', '1993-08-24', '1994-03-23', '1992-11-22', '1993-06-02', '1993-07-14', '1994-05-26', '1997-11-03', '1997-11-16', '1993-01-07', '1998-04-15', '1992-10-05', '1997-07-23', '1998-06-19', '1996-06-25', '1993-05-19', '1992-12-01', '1996-01-09', '1998-03-24', '1998-02-27', '1992-11-25', '1992-08-03', '1995-11-17', '1998-02-05', '1994-02-24', '1993-12-03', '1996-07-13', '1993-04-02', '1993-05-22', '1997-12-29', '1992-08-20', '1995-11-13', '1996-03-06', '1992-02-19', '1996-04-06', '1995-04-10', '1995-10-24', '1996-12-15', '1995-01-03', '1996-12-16', '1993-09-27', '1992-03-31', '1992-08-19', '1993-12-14', '1996-07-03', '1995-12-15', '1998-05-19', '1997-01-29', '1998-05-24', '1996-04-29', '1996-12-13', '1997-10-03', '1994-03-16', '1997-12-03', '1994-08-18', '1994-10-10', '1997-06-26', '1998-02-01', '1996-08-18', '1997-09-30', '1996-10-25', '1992-03-18', '1996-10-17', '1996-01-21', '1998-05-28', '1993-01-24', '1996-11-23', '1993-04-19', '1997-10-22', '1992-01-07', '1997-10-15', '1996-02-16', '1995-10-12', '1996-12-29', '1993-09-21', '1993-08-29', '1993-12-18', '1995-03-24', '1995-11-19', '1992-09-06', '1998-04-09', '1992-11-17', '1994-11-04', '1995-11-08', '1992-12-15', '1996-09-09', '1996-01-22', '1994-09-26', '1997-08-19', '1996-06-19', '1996-03-21', '1996-07-29', '1993-06-17', '1992-11-19', '1997-12-21', '1995-03-06', '1994-10-19', '1996-01-14', '1992-02-14', '1995-01-04', '1997-03-18', '1997-01-27', '1998-04-16', '1996-09-04', '1994-02-10', '1997-07-30', '1994-05-13', '1997-09-27', '1997-07-19', '1993-10-26', '1996-08-04', '1998-01-07', '1996-03-08', '1992-05-22', '1995-12-14', '1997-11-28', '1992-11-27', '1993-06-29', '1996-05-02', '1993-10-13', '1992-03-17', '1995-08-26', '1996-03-12', '1998-01-28', '1994-10-12', '1997-02-21', '1997-11-26', '1994-08-11', '1997-05-28', '1998-05-02', '1992-10-15', '1994-07-18', '1997-05-29', '1995-05-04', '1993-10-30', '1998-03-08', '1995-05-25', '1993-03-21', '1998-06-17', '1998-07-10', '1995-07-07', '1994-07-09', '1996-09-30', '1992-04-03', '1992-03-08', '1992-07-04', '1995-07-18', '1995-08-01', '1998-03-30', '1992-05-26', '1997-12-15', '1992-04-09', '1997-05-19', '1993-02-10', '1997-11-22', '1996-09-06', '1998-04-03', '1997-06-10', '1997-02-08', '1996-11-22', '1992-01-23', '1994-04-12', '1997-07-17', '1992-10-24', '1992-04-29', '1996-10-24', '1992-09-21', '1993-07-13', '1993-10-20', '1997-10-04', '1995-10-14', '1995-09-12', '1997-01-19', '1997-11-08', '1994-07-29', '1992-05-25', '1997-05-05', '1994-02-27', '1994-03-20', '1993-01-18', '1992-02-22', '1997-04-06', '1992-05-03', '1997-02-28', '1996-01-07', '1998-02-17', '1992-05-20', '1998-07-01', '1996-07-05', '1992-12-17', '1996-02-22', '1998-05-05', '1997-01-31', '1993-03-23', '1992-06-07', '1994-01-28', '1997-04-08', '1993-06-10', '1997-05-21', '1995-02-13', '1994-03-15', '1998-02-16', '1992-10-04', '1993-09-12', '1997-02-23', '1992-04-16', '1995-06-10', '1998-01-21', '1992-10-01', '1993-06-23', '1997-06-25', '1996-06-16', '1994-06-06', '1992-07-09', '1996-07-09', '1993-09-09', '1996-02-02', '1998-06-18', '1996-12-02', '1997-11-13', '1996-02-13', '1992-02-16', '1994-10-24', '1994-10-09', '1994-01-12', '1993-01-12', '1995-06-12', '1997-11-04', '1996-11-26', '1995-02-21', '1993-12-07', '1993-09-22', '1997-06-06', '1994-10-08', '1997-11-23', '1993-10-24', '1995-11-12', '1996-09-23', '1993-12-02', '1996-08-10', '1992-09-27', '1998-05-20', '1992-01-28', '1996-06-20', '1994-05-06', '1992-12-29', '1992-01-14', '1995-07-02', '1995-02-01', '1995-12-30', '1998-05-30', '1996-10-23', '1996-10-26', '1997-02-09', '1993-03-20', '1995-02-17', '1992-11-05', '1995-03-29', '1998-05-14', '1995-05-29', '1996-01-11', '1996-07-31', '1997-07-15', '1997-08-28', '1996-04-12', '1997-12-17', '1997-07-28', '1992-10-29', '1993-02-15', '1996-08-12', '1992-07-02', '1994-04-21', '1998-02-15', '1995-10-05', '1993-11-04', '1994-02-12', '1994-02-14', '1997-01-03', '1997-03-23', '1995-08-23', '1995-03-26', '1992-02-27', '1995-12-17', '1995-05-13', '1995-03-13', '1996-05-27', '1998-03-25', '1995-04-09', '1992-01-25', '1995-01-12', '1993-01-29', '1995-05-05', '1995-06-24', '1994-11-05', '1997-10-18', '1998-05-26', '1997-02-15', '1995-03-16', '1997-09-29', '1994-05-20', '1997-04-02', '1997-03-27', '1996-02-19', '1995-09-07', '1997-09-21', '1995-02-04', '1996-05-29', '1997-03-24', '1995-11-26', '1994-11-16', '1994-09-12', '1994-11-19', '1992-07-28', '1992-12-27', '1996-04-24', '1997-09-14', '1996-06-09', '1996-09-17', '1996-05-04', '1997-06-07', '1992-08-16', '1998-01-25', '1993-01-11', '1998-05-17', '1995-09-10', '1992-12-31', '1998-01-17', '1994-04-16', '1995-02-10', '1997-06-17', '1996-06-22', '1994-01-11', '1997-10-25', '1992-10-30', '1996-04-07', '1992-09-14', '1995-11-21', '1995-10-20', '1994-09-04', '1997-11-12', '1996-02-08', '1998-03-12', '1994-07-11', '1996-05-03', '1993-10-17', '1992-03-15', '1994-08-09', '1997-03-31', '1995-06-17', '1997-03-06', '1992-01-21', '1995-11-30', '1994-07-13', '1995-09-20', '1995-08-21', '1996-02-12', '1992-09-26', '1998-01-04', '1992-02-15', '1993-09-26', '1997-05-01', '1994-06-16', '1995-08-25', '1993-12-06', '1992-12-14', '1998-03-10', '1992-06-10', '1995-12-03', '1994-12-25', '1992-07-21', '1998-02-03', '1993-01-13', '1995-06-01', '1998-05-10', '1993-04-25', '1996-07-06', '1998-05-12', '1994-04-30', '1997-11-11', '1996-09-11', '1993-01-06', '1997-12-26', '1997-01-10', '1992-06-13', '1998-04-18', '1994-02-07', '1995-02-26', '1998-02-10', '1997-02-03', '1992-05-18', '1992-01-24', '1996-08-20', '1992-04-28', '1997-11-06', '1994-11-01', '1994-09-24', '1997-06-14', '1997-05-17', '1992-02-28', '1994-06-01', '1992-08-28', '1996-05-19', '1993-12-26', '1995-08-17', '1998-02-07', '1998-03-22', '1995-01-08', '1996-01-23', '1997-08-04', '1992-12-06', '1993-07-07', '1994-06-09', '1995-03-21', '1994-06-23', '1997-12-06', '1994-11-26', '1993-03-26', '1993-01-28', '1998-04-05', '1997-01-07', '1996-08-25', '1992-11-08', '1994-12-06', '1992-01-04', '1993-07-08', '1995-03-20', '1992-08-11', '1994-09-07', '1997-08-31', '1997-11-24', '1996-04-03', '1998-01-06', '1996-07-02', '1995-03-02', '1997-08-21', '1992-01-10', '1997-10-14', '1998-02-18', '1997-04-22', '1992-07-17', '1992-12-13', '1993-07-06', '1994-09-15', '1995-08-11', '1994-12-09', '1995-10-08', '1994-11-29', '1992-07-03', '1993-04-28', '1993-05-30', '1998-07-31', '1995-06-05', '1996-04-09', '1993-03-13', '1996-12-25', '1997-10-17', '1994-08-21', '1995-11-27', '1997-05-02', '1998-05-11', '1994-12-29', '1996-01-05', '1997-07-24', '1995-06-13', '1993-09-25', '1995-06-04', '1995-02-23', '1994-05-27', '1993-11-14', '1996-03-16', '1994-04-29', '1993-05-11', '1992-07-05', '1997-07-09', '1992-12-20', '1993-03-05', '1998-05-29', '1995-11-18', '1995-03-14', '1994-02-18', '1996-11-25', '1992-11-28', '1992-05-02', '1995-05-11', '1995-05-17', '1998-05-27', '1998-04-22', '1995-09-02', '1998-02-25', '1995-03-09', '1994-04-03', '1992-04-14', '1993-07-10', '1997-05-26', '1995-07-08', '1998-05-03', '1997-09-09', '1993-03-02', '1993-12-12', '1995-09-05', '1998-02-23', '1997-12-27', '1997-08-18', '1992-11-18', '1994-09-19', '1992-09-07', '1997-04-29', '1992-05-01', '1996-10-20', '1995-08-09', '1996-05-05', '1995-07-03', '1995-07-01', '1993-02-08', '1994-09-08', '1992-07-13', '1996-05-17', '1992-10-12', '1996-04-08', '1998-02-09', '1992-01-02', '1996-09-26', '1996-08-01', '1995-08-05', '1994-04-19', '1994-03-31', '1993-11-26', '1997-10-02', '1998-03-26', '1997-12-18', '1997-09-03', '1997-06-29', '1993-09-29', '1996-02-23', '1996-07-04', '1995-04-18', '1997-12-13', '1993-11-16', '1994-01-07', '1993-10-09', '1997-04-07', '1993-09-04', '1997-01-09', '1995-07-29', '1995-07-28', '1995-11-24', '1995-03-27', '1997-09-07', '1995-08-03', '1993-08-26', '1992-07-23', '1996-07-27', '1993-06-14', '1995-09-14', '1993-10-14', '1992-07-25', '1997-06-02', '1992-07-15', '1995-04-04', '1996-04-23', '1995-09-22', '1992-08-30', '1998-06-25', '1997-03-12', '1993-12-27', '1996-02-28', '1996-05-26', '1997-04-13', '1995-02-02', '1997-02-05', '1994-08-26', '1995-01-23', '1995-03-25', '1997-03-02', '1995-09-27', '1993-06-04', '1994-02-25', '1994-01-27', '1993-12-20', '1994-12-30', '1993-02-26', '1996-09-02', '1996-02-06', '1996-04-28', '1992-08-21', '1995-01-06', '1996-09-03', '1992-08-29', '1998-03-17', '1995-04-16', '1993-06-06', '1996-03-15', '1997-12-20', '1996-12-07', '1992-11-07', '1992-05-13', '1998-03-16', '1997-02-25', '1995-06-14', '1993-07-29', '1995-06-09', '1997-12-19', '1996-01-16', '1998-03-05', '1997-08-22', '1997-05-23', '1993-04-14', '1994-09-29', '1994-12-31', '1992-08-09', '1992-04-25', '1994-06-12', '1992-06-14', '1992-08-02', '1996-05-01', '1995-10-04', '1993-04-20', '1997-08-27', '1992-07-22', '1994-05-31', '1993-08-27', '1995-07-12', '1994-03-07', '1993-11-05', '1996-05-08', '1997-08-03', '1998-06-28', '1998-05-31', '1992-06-11', '1994-12-13', '1995-07-17', '1997-10-29', '1992-05-28', '1998-03-19', '1998-06-02', '1998-04-04', '1994-02-21', '1995-01-17', '1997-01-04', '1995-05-22', '1997-01-14', '1992-01-19', '1992-04-10', '1996-03-30', '1993-11-30', '1998-06-24', '1996-05-13', '1996-10-15', '1994-07-10', '1996-09-10', '1995-01-01', '1997-03-16', '1997-10-13', '1996-11-29', '1997-11-05', '1997-10-11', '1996-12-12', '1997-04-05', '1996-11-02', '1997-11-20', '1993-01-08', '1993-03-08', '1992-06-21', '1996-12-28', '1995-09-17', '1996-07-30', '1997-09-02', '1995-02-08', '1995-11-10', '1993-05-01', '1992-01-05', '1995-07-06', '1993-01-05', '1995-02-20', '1992-10-02', '1993-10-28', '1996-08-09', '1992-06-16', '1995-10-22', '1997-11-15', '1994-01-16', '1993-02-04', '1993-09-10', '1996-10-13', '1993-04-12', '1995-03-15', '1992-12-05', '1993-05-29', '1996-01-29', '1997-06-01', '1998-05-09', '1997-06-23', '1996-07-17', '1992-06-17', '1996-07-12', '1998-07-07', '1992-02-11', '1994-06-13', '1992-01-03', '1993-04-15', '1992-09-25', '1998-01-19', '1997-03-13', '1994-05-15', '1996-07-16', '1997-12-11', '1993-12-28', '1997-08-14', '1995-10-15', '1994-04-11', '1994-02-23', '1997-06-24', '1996-04-19', '1994-05-23', '1996-01-19', '1993-12-25', '1997-03-01', '1993-03-11', '1996-02-09', '1993-08-08', '1995-08-27', '1995-01-05', '1992-04-05', '1994-04-20', '1993-05-14', '1995-10-07', '1993-08-06', '1993-06-01', '1992-01-30', '1996-12-05', '1992-08-06', '1994-06-05', '1996-07-01', '1997-02-11', '1992-07-24', '1996-09-15', '1993-09-20', '1996-05-31', '1993-12-21', '1998-03-28', '1995-11-07', '1994-12-11', '1994-03-29', '1997-12-02', '1998-03-27', '1997-08-09', '1997-02-01', '1994-11-28', '1997-05-15', '1992-03-02', '1997-03-10', '1993-09-06', '1996-11-01', '1993-05-08', '1993-03-31', '1997-04-01', '1994-06-27', '1995-04-21', '1993-09-13', '1998-01-20', '1996-11-27', '1994-12-14', '1992-06-04', '1994-05-21', '1993-07-28', '1995-11-25', '1995-09-19', '1995-01-21', '1992-10-26', '1992-06-09', '1992-11-04', '1992-09-22', '1992-06-08', '1996-11-11', '1993-05-24', '1992-12-04', '1996-11-04', '1997-03-11', '1998-03-13', '1994-02-03', '1995-01-24', '1994-05-16', '1998-07-27', '1994-11-25', '1997-01-25', '1992-03-28', '1992-12-12', '1992-08-07', '1997-05-09', '1992-03-11', '1995-02-25', '1998-01-12', '1997-09-18', '1993-01-01', '1993-08-11', '1997-08-01', '1996-02-07', '1995-04-27', '1993-10-04', '1995-06-23', '1992-09-09', '1992-01-01', '1993-07-11', '1993-01-02', '1996-02-21', '1994-02-09', '1994-08-28', '1992-06-19', '1997-02-13', '1995-12-13', '1997-05-25', '1996-03-23', '1993-02-28', '1993-03-16', '1996-12-09', '1992-04-11', '1997-03-25', '1996-12-27', '1993-01-26', '1992-04-17', '1996-03-29', '1998-05-13', '1996-02-26', '1997-04-30', '1994-10-15', '1995-12-05', '1996-09-18', '1996-07-19', '1998-01-24', '1993-11-22', '1997-04-21', '1993-12-29', '1993-10-06', '1996-09-07', '1997-12-25', '1998-04-07', '1997-08-12', '1994-02-04', '1992-05-21', '1994-08-15', '1992-12-08', '1992-03-22', '1993-12-16', '1994-10-18', '1994-03-11', '1992-11-11', '1998-08-01', '1997-07-14', '1995-03-08', '1992-09-10', '1995-01-07', '1992-12-24', '1994-08-03', '1996-02-24', '1995-08-31', '1995-02-06', '1993-06-16', '1995-05-21', '1998-02-28', '1994-03-22', '1993-03-03', '1992-07-26', '1997-05-16', '1998-06-09', '1998-06-10', '1994-04-17', '1992-12-18', '1996-04-04', '1996-06-29', '1995-11-23', '1994-04-26', '1992-10-18', '1996-07-20', '1992-09-05', '1997-11-07', '1995-06-22', '1996-11-30', '1994-12-05', '1995-04-03', '1992-10-27', '1998-06-20', '1992-01-12', '1992-06-18', '1996-06-26', '1993-07-20', '1992-09-18', '1992-02-10', '1992-03-30', '1996-08-29', '1995-09-24', '1992-03-21', '1997-07-08', '1996-10-12', '1996-05-23', '1994-04-22', '1995-02-11', '1997-04-10', '1993-02-27', '1995-06-08', '1995-09-16', '1995-05-19', '1994-09-11', '1998-03-29', '1992-09-17', '1995-12-09', '1992-08-27', '1996-04-13', '1996-08-21', '1993-11-19', '1996-07-07', '1994-10-02', '1995-02-05', '1996-04-18', '1995-06-28', '1992-03-29', '1992-01-26', '1993-04-24', '1993-06-13', '1996-04-14', '1994-01-09', '1994-09-16', '1992-03-19', '1997-02-10', '1993-06-28', '1994-05-30', '1992-02-23', '1995-06-27', '1997-06-15', '1997-02-26', '1992-10-07', '1997-01-06', '1995-01-16', '1997-04-12', '1995-09-08', '1997-08-05', '1992-03-01', '1998-05-23', '1995-01-13', '1996-05-15', '1994-03-08', '1997-04-26', '1993-12-31', '1992-12-30', '1997-09-26', '1997-05-08', '1993-07-27']\n"
     ]
    }
   ],
   "source": [
    "dates_list = set(list(orders_original[\"o_orderdate\"].map(lambda x: x.strftime('%Y-%m-%d'))))\n",
    "dates_list_alphabet = list(dates_list)\n",
    "print(list(dates_list))"
   ]
  },
  {
   "cell_type": "code",
   "execution_count": null,
   "id": "7f8e1bd2",
   "metadata": {},
   "outputs": [],
   "source": [
    "ordersdate_stats_main = DB_stats(orders_stats_original, \"o_orderdate\")"
   ]
  },
  {
   "cell_type": "code",
   "execution_count": null,
   "id": "2c4c67fd",
   "metadata": {},
   "outputs": [],
   "source": [
    "ordersdate_stats_masked = DB_stats(orders_stats_masked_p2, \"o_orderdate\")"
   ]
  },
  {
   "cell_type": "code",
   "execution_count": null,
   "id": "75454854",
   "metadata": {},
   "outputs": [],
   "source": [
    "ordersdate_stats_masked.perturbation()"
   ]
  },
  {
   "cell_type": "code",
   "execution_count": null,
   "id": "64f61969",
   "metadata": {},
   "outputs": [],
   "source": [
    "# ordersdate_stats_masked.inverse_dist(inverse_generalize_date_SO(\"MONTH\"))\n",
    "ordersdate_stats_masked.inverse_histogram_bounds(inverse_generalize_date_SO(\"MONTH\"))\n",
    "# ordersdate_stats_main.estimate_hist_freq(all_dates)\n",
    "# ordersdate_stats_masked.estimate_hist_freq(all_dates)\n",
    "# print(ordersdate_stats_main.hist_apprx_freq)"
   ]
  },
  {
   "cell_type": "code",
   "execution_count": null,
   "id": "8fb79473",
   "metadata": {},
   "outputs": [],
   "source": [
    "ordersdate_stats_masked.estimate_hist_freq(all_dates, True)\n",
    "# ordersdate_stats_masked.addapt_freq_selectivity(0.5)"
   ]
  },
  {
   "cell_type": "markdown",
   "id": "b2aaeb53",
   "metadata": {},
   "source": [
    "make graph from frequencies"
   ]
  },
  {
   "cell_type": "code",
   "execution_count": null,
   "id": "51754954",
   "metadata": {},
   "outputs": [
    {
     "data": {
      "text/plain": [
       "-4.908223652361752"
      ]
     },
     "execution_count": 59,
     "metadata": {},
     "output_type": "execute_result"
    }
   ],
   "source": [
    "estimate_rel_entropy(ordersdate_stats_main, ordersdate_stats_masked)"
   ]
  },
  {
   "cell_type": "markdown",
   "id": "eaf1ac68",
   "metadata": {},
   "source": [
    "#### real relative entropy"
   ]
  },
  {
   "cell_type": "code",
   "execution_count": null,
   "id": "31ea1a39",
   "metadata": {},
   "outputs": [],
   "source": [
    "p = compute_prob_dist(orders_original, ['o_orderdate'])\n",
    "q = compute_prob_dist(orders_masked_p1, ['o_orderdate'])"
   ]
  },
  {
   "cell_type": "code",
   "execution_count": null,
   "id": "e07187d3",
   "metadata": {},
   "outputs": [],
   "source": [
    "print(p)"
   ]
  },
  {
   "cell_type": "code",
   "execution_count": null,
   "id": "62f65bcf",
   "metadata": {},
   "outputs": [],
   "source": [
    "print(q)"
   ]
  },
  {
   "cell_type": "code",
   "execution_count": null,
   "id": "9513ef98",
   "metadata": {},
   "outputs": [],
   "source": [
    "\n",
    "new_q = specification_prob(q,inverse_generalize_date_SO(\"MONTH\"))"
   ]
  },
  {
   "cell_type": "code",
   "execution_count": null,
   "id": "abfb2cf3",
   "metadata": {},
   "outputs": [],
   "source": [
    "print(new_q)"
   ]
  },
  {
   "cell_type": "code",
   "execution_count": null,
   "id": "fa6ffc32",
   "metadata": {},
   "outputs": [],
   "source": [
    "#print(new_q)\n",
    "relative_entropy(p, new_q,  orders_masked_p2.size)"
   ]
  },
  {
   "cell_type": "code",
   "execution_count": null,
   "id": "5519c53c",
   "metadata": {},
   "outputs": [],
   "source": [
    "vals = convert_to_array(get_stat(orders_stats_original, \"o_orderdate\", \"most_common_vals\"))\n",
    "freqs = convert_to_array(get_stat(orders_stats_original, \"o_orderdate\", \"most_common_freqs\"), True)\n",
    "\n",
    "p = pd.Series(freqs, index = vals)\n",
    "\n",
    "vals = convert_to_array(get_stat(orders_stats_masked_p2, \"o_orderdate\", \"most_common_vals\"))\n",
    "freqs = convert_to_array(get_stat(orders_stats_masked_p2, \"o_orderdate\", \"most_common_freqs\"), True)\n",
    "\n",
    "q = pd.Series(freqs, index = vals)\n",
    "\n",
    "new_q = specification_prob(q,inverse_generalize_date_SO(\"MONTH\"))\n",
    "\n",
    "relative_entropy(p, new_q, new_q.size)"
   ]
  },
  {
   "cell_type": "code",
   "execution_count": null,
   "id": "a3513a4c",
   "metadata": {},
   "outputs": [],
   "source": [
    "real_ent = 0.008263819318169217\n",
    "est_ent = 0.028624210661386703\n",
    "np.abs(real_ent-est_ent)/real_ent"
   ]
  },
  {
   "cell_type": "markdown",
   "id": "9a0bf55e",
   "metadata": {},
   "source": [
    "#### estimating relative entropy"
   ]
  },
  {
   "cell_type": "code",
   "execution_count": null,
   "id": "b50a5736",
   "metadata": {},
   "outputs": [],
   "source": [
    "size = 150000\n",
    "# df.head()\n",
    "orders_stats_original.fillna(np.NaN, inplace=True)\n",
    "orders_stats_masked_p2.fillna(np.NaN, inplace=True)\n",
    "\n",
    "orders_stats_original[\"n_distinct\"] = orders_stats_original[\"n_distinct\"].apply(lambda x : int(x) if x >= 0 else int(x*-size))\n",
    "orders_stats_masked_p2[\"n_distinct\"] = orders_stats_masked_p2[\"n_distinct\"].apply(lambda x : int(x) if x >= 0 else int(x*-size))"
   ]
  },
  {
   "cell_type": "code",
   "execution_count": null,
   "id": "a0647771",
   "metadata": {},
   "outputs": [],
   "source": [
    "dates_list = set(list(orders_original[\"o_orderdate\"].map(lambda x: x.strftime('%Y-%m-%d'))))\n",
    "dates_list_alphabet = list(dates_list)\n",
    "print(list(dates_list))"
   ]
  },
  {
   "cell_type": "code",
   "execution_count": null,
   "id": "b1639644",
   "metadata": {},
   "outputs": [],
   "source": [
    "ordersdate_stats_main = DB_stats(orders_stats_original, \"o_orderdate\")\n",
    "print(ordersdate_stats_main.histogram_bounds)"
   ]
  },
  {
   "cell_type": "code",
   "execution_count": null,
   "id": "2bc20c42",
   "metadata": {},
   "outputs": [],
   "source": [
    "ordersdate_stats_masked = DB_stats(orders_stats_masked_p2, \"o_orderdate\")\n",
    "print(ordersdate_stats_masked.histogram_bounds)"
   ]
  },
  {
   "cell_type": "code",
   "execution_count": null,
   "id": "416e8832",
   "metadata": {},
   "outputs": [],
   "source": [
    "ordersdate_stats_masked.perturbation\n",
    "ordersdate_stats_masked.inverse_dist(inverse_generalize_date_SO(\"MONTH\"))\n",
    "ordersdate_stats_masked.inverse_histogram_bounds(inverse_generalize_date_SO(\"MONTH\"))\n",
    "ordersdate_stats_main.estimate_hist_freq(all_dates)\n",
    "ordersdate_stats_masked.estimate_hist_freq(all_dates)\n",
    "print(ordersdate_stats_main.hist_apprx_freq)"
   ]
  },
  {
   "cell_type": "code",
   "execution_count": null,
   "id": "19202b6e",
   "metadata": {},
   "outputs": [],
   "source": [
    "ordersdate_stats_masked.estimate_hist_freq(all_dates, True)"
   ]
  },
  {
   "cell_type": "code",
   "execution_count": null,
   "id": "6467fe11",
   "metadata": {},
   "outputs": [],
   "source": [
    "ordersdate_stats_masked.hist_apprx_freq\n",
    "print(ordersdate_stats_masked.hist_apprx_freq)"
   ]
  },
  {
   "cell_type": "code",
   "execution_count": null,
   "id": "669ecbc6",
   "metadata": {},
   "outputs": [],
   "source": [
    "print(ordersdate_stats_masked.unmsk_histogram_bounds)"
   ]
  },
  {
   "cell_type": "code",
   "execution_count": null,
   "id": "7ea87b6c",
   "metadata": {},
   "outputs": [],
   "source": [
    "print(ordersdate_stats_masked.unmsk_most_common_freqs)\n",
    "print(ordersdate_stats_masked.unmsk_most_common_vals)\n",
    "print(ordersdate_stats_masked.unmsk_dist)\n",
    "print(ordersdate_stats_masked.unmsk_histogram_bounds)"
   ]
  },
  {
   "cell_type": "code",
   "execution_count": null,
   "id": "380e440c",
   "metadata": {},
   "outputs": [
    {
     "data": {
      "text/plain": [
       "-4.908223652361752"
      ]
     },
     "execution_count": 62,
     "metadata": {},
     "output_type": "execute_result"
    }
   ],
   "source": [
    "estimate_rel_entropy(ordersdate_stats_main, ordersdate_stats_masked)"
   ]
  },
  {
   "cell_type": "code",
   "execution_count": null,
   "id": "dd1af2ec",
   "metadata": {},
   "outputs": [],
   "source": [
    "p = compute_prob_dist(orders_original, ['o_orderdate'])\n",
    "q = compute_prob_dist(orders_stats_masked_p2, ['o_orderdate'])"
   ]
  },
  {
   "cell_type": "code",
   "execution_count": null,
   "id": "58055989",
   "metadata": {},
   "outputs": [],
   "source": [
    "print(p)"
   ]
  },
  {
   "cell_type": "code",
   "execution_count": null,
   "id": "4bedf586",
   "metadata": {},
   "outputs": [],
   "source": [
    "print(q)"
   ]
  },
  {
   "cell_type": "code",
   "execution_count": null,
   "id": "17919f57",
   "metadata": {},
   "outputs": [],
   "source": [
    "\n",
    "new_q = specification_prob(q,inverse_generalize_date_SO(\"MONTH\"))"
   ]
  },
  {
   "cell_type": "code",
   "execution_count": null,
   "id": "04c785d9",
   "metadata": {},
   "outputs": [],
   "source": [
    "print(new_q)"
   ]
  },
  {
   "cell_type": "code",
   "execution_count": null,
   "id": "669201c7",
   "metadata": {},
   "outputs": [],
   "source": [
    "#print(new_q)\n",
    "relative_entropy(p, new_q,  orders_masked.size)"
   ]
  },
  {
   "cell_type": "code",
   "execution_count": null,
   "id": "9e87e529",
   "metadata": {},
   "outputs": [],
   "source": [
    "vals = convert_to_array(get_stat(orders_stats_original, \"o_orderdate\", \"most_common_vals\"))\n",
    "freqs = convert_to_array(get_stat(orders_stats_original, \"o_orderdate\", \"most_common_freqs\"), True)\n",
    "\n",
    "p = pd.Series(freqs, index = vals)\n",
    "\n",
    "vals = convert_to_array(get_stat(orders_stats_masked, \"o_orderdate\", \"most_common_vals\"))\n",
    "freqs = convert_to_array(get_stat(orders_stats_masked, \"o_orderdate\", \"most_common_freqs\"), True)\n",
    "\n",
    "q = pd.Series(freqs, index = vals)\n",
    "\n",
    "new_q = specification_prob(q,inverse_generalize_date_SO(\"MONTH\"))\n",
    "\n",
    "relative_entropy(p, new_q, new_q.size)"
   ]
  }
 ],
 "metadata": {
  "kernelspec": {
   "display_name": "Python 3 (ipykernel)",
   "language": "python",
   "name": "python3"
  },
  "language_info": {
   "codemirror_mode": {
    "name": "ipython",
    "version": 3
   },
   "file_extension": ".py",
   "mimetype": "text/x-python",
   "name": "python",
   "nbconvert_exporter": "python",
   "pygments_lexer": "ipython3",
   "version": "3.9.6"
  }
 },
 "nbformat": 4,
 "nbformat_minor": 5
}
